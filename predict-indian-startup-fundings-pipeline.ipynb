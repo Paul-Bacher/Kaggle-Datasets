{
 "cells": [
  {
   "cell_type": "markdown",
   "id": "e2ebb54e",
   "metadata": {
    "papermill": {
     "duration": 0.006468,
     "end_time": "2022-10-27T15:40:35.877414",
     "exception": false,
     "start_time": "2022-10-27T15:40:35.870946",
     "status": "completed"
    },
    "tags": []
   },
   "source": [
    "# 📈 Predict Indian Startup Fundings - Pipeline\n",
    "---"
   ]
  },
  {
   "cell_type": "markdown",
   "id": "c18f6db7",
   "metadata": {
    "papermill": {
     "duration": 0.004517,
     "end_time": "2022-10-27T15:40:35.887244",
     "exception": false,
     "start_time": "2022-10-27T15:40:35.882727",
     "status": "completed"
    },
    "tags": []
   },
   "source": [
    "![](https://entrackr-bucket.s3.ap-south-1.amazonaws.com/wp-content/uploads/2022/02/26165935/Funding-image.jpg)"
   ]
  },
  {
   "cell_type": "markdown",
   "id": "0151b5a5",
   "metadata": {
    "papermill": {
     "duration": 0.00449,
     "end_time": "2022-10-27T15:40:35.896638",
     "exception": false,
     "start_time": "2022-10-27T15:40:35.892148",
     "status": "completed"
    },
    "tags": []
   },
   "source": [
    "Given *data about startputs in India*, let's predict what will be the **funding** provided to a given startup.\n",
    "\n",
    "This is a regression task in which we will use a **Tensorflow neural network** integrated to a **Pipeline**."
   ]
  },
  {
   "cell_type": "markdown",
   "id": "3ccf7267",
   "metadata": {
    "papermill": {
     "duration": 0.004445,
     "end_time": "2022-10-27T15:40:35.905928",
     "exception": false,
     "start_time": "2022-10-27T15:40:35.901483",
     "status": "completed"
    },
    "tags": []
   },
   "source": [
    "# Getting Started"
   ]
  },
  {
   "cell_type": "code",
   "execution_count": 1,
   "id": "c2de4475",
   "metadata": {
    "execution": {
     "iopub.execute_input": "2022-10-27T15:40:35.918554Z",
     "iopub.status.busy": "2022-10-27T15:40:35.918042Z",
     "iopub.status.idle": "2022-10-27T15:40:37.591652Z",
     "shell.execute_reply": "2022-10-27T15:40:37.589908Z"
    },
    "papermill": {
     "duration": 1.684512,
     "end_time": "2022-10-27T15:40:37.595151",
     "exception": false,
     "start_time": "2022-10-27T15:40:35.910639",
     "status": "completed"
    },
    "tags": []
   },
   "outputs": [],
   "source": [
    "import numpy as np\n",
    "import pandas as pd\n",
    "\n",
    "from sklearn.model_selection import train_test_split\n",
    "from sklearn.preprocessing import StandardScaler, OneHotEncoder\n",
    "from sklearn.compose import ColumnTransformer\n",
    "from sklearn.pipeline import Pipeline\n",
    "\n",
    "from sklearn.ensemble import RandomForestRegressor\n",
    "\n",
    "from sklearn.metrics import r2_score"
   ]
  },
  {
   "cell_type": "code",
   "execution_count": 2,
   "id": "06e33bd4",
   "metadata": {
    "execution": {
     "iopub.execute_input": "2022-10-27T15:40:37.608512Z",
     "iopub.status.busy": "2022-10-27T15:40:37.608051Z",
     "iopub.status.idle": "2022-10-27T15:40:37.682839Z",
     "shell.execute_reply": "2022-10-27T15:40:37.681220Z"
    },
    "papermill": {
     "duration": 0.084028,
     "end_time": "2022-10-27T15:40:37.685357",
     "exception": false,
     "start_time": "2022-10-27T15:40:37.601329",
     "status": "completed"
    },
    "tags": []
   },
   "outputs": [
    {
     "data": {
      "text/html": [
       "<div>\n",
       "<style scoped>\n",
       "    .dataframe tbody tr th:only-of-type {\n",
       "        vertical-align: middle;\n",
       "    }\n",
       "\n",
       "    .dataframe tbody tr th {\n",
       "        vertical-align: top;\n",
       "    }\n",
       "\n",
       "    .dataframe thead th {\n",
       "        text-align: right;\n",
       "    }\n",
       "</style>\n",
       "<table border=\"1\" class=\"dataframe\">\n",
       "  <thead>\n",
       "    <tr style=\"text-align: right;\">\n",
       "      <th></th>\n",
       "      <th>Sr No</th>\n",
       "      <th>Date dd/mm/yyyy</th>\n",
       "      <th>Startup Name</th>\n",
       "      <th>Industry Vertical</th>\n",
       "      <th>SubVertical</th>\n",
       "      <th>City  Location</th>\n",
       "      <th>Investors Name</th>\n",
       "      <th>InvestmentnType</th>\n",
       "      <th>Amount in USD</th>\n",
       "      <th>Remarks</th>\n",
       "    </tr>\n",
       "  </thead>\n",
       "  <tbody>\n",
       "    <tr>\n",
       "      <th>0</th>\n",
       "      <td>1</td>\n",
       "      <td>09/01/2020</td>\n",
       "      <td>BYJU’S</td>\n",
       "      <td>E-Tech</td>\n",
       "      <td>E-learning</td>\n",
       "      <td>Bengaluru</td>\n",
       "      <td>Tiger Global Management</td>\n",
       "      <td>Private Equity Round</td>\n",
       "      <td>20,00,00,000</td>\n",
       "      <td>NaN</td>\n",
       "    </tr>\n",
       "    <tr>\n",
       "      <th>1</th>\n",
       "      <td>2</td>\n",
       "      <td>13/01/2020</td>\n",
       "      <td>Shuttl</td>\n",
       "      <td>Transportation</td>\n",
       "      <td>App based shuttle service</td>\n",
       "      <td>Gurgaon</td>\n",
       "      <td>Susquehanna Growth Equity</td>\n",
       "      <td>Series C</td>\n",
       "      <td>80,48,394</td>\n",
       "      <td>NaN</td>\n",
       "    </tr>\n",
       "    <tr>\n",
       "      <th>2</th>\n",
       "      <td>3</td>\n",
       "      <td>09/01/2020</td>\n",
       "      <td>Mamaearth</td>\n",
       "      <td>E-commerce</td>\n",
       "      <td>Retailer of baby and toddler products</td>\n",
       "      <td>Bengaluru</td>\n",
       "      <td>Sequoia Capital India</td>\n",
       "      <td>Series B</td>\n",
       "      <td>1,83,58,860</td>\n",
       "      <td>NaN</td>\n",
       "    </tr>\n",
       "    <tr>\n",
       "      <th>3</th>\n",
       "      <td>4</td>\n",
       "      <td>02/01/2020</td>\n",
       "      <td>https://www.wealthbucket.in/</td>\n",
       "      <td>FinTech</td>\n",
       "      <td>Online Investment</td>\n",
       "      <td>New Delhi</td>\n",
       "      <td>Vinod Khatumal</td>\n",
       "      <td>Pre-series A</td>\n",
       "      <td>30,00,000</td>\n",
       "      <td>NaN</td>\n",
       "    </tr>\n",
       "    <tr>\n",
       "      <th>4</th>\n",
       "      <td>5</td>\n",
       "      <td>02/01/2020</td>\n",
       "      <td>Fashor</td>\n",
       "      <td>Fashion and Apparel</td>\n",
       "      <td>Embroiled Clothes For Women</td>\n",
       "      <td>Mumbai</td>\n",
       "      <td>Sprout Venture Partners</td>\n",
       "      <td>Seed Round</td>\n",
       "      <td>18,00,000</td>\n",
       "      <td>NaN</td>\n",
       "    </tr>\n",
       "    <tr>\n",
       "      <th>...</th>\n",
       "      <td>...</td>\n",
       "      <td>...</td>\n",
       "      <td>...</td>\n",
       "      <td>...</td>\n",
       "      <td>...</td>\n",
       "      <td>...</td>\n",
       "      <td>...</td>\n",
       "      <td>...</td>\n",
       "      <td>...</td>\n",
       "      <td>...</td>\n",
       "    </tr>\n",
       "    <tr>\n",
       "      <th>3039</th>\n",
       "      <td>3040</td>\n",
       "      <td>29/01/2015</td>\n",
       "      <td>Printvenue</td>\n",
       "      <td>NaN</td>\n",
       "      <td>NaN</td>\n",
       "      <td>NaN</td>\n",
       "      <td>Asia Pacific Internet Group</td>\n",
       "      <td>Private Equity</td>\n",
       "      <td>45,00,000</td>\n",
       "      <td>NaN</td>\n",
       "    </tr>\n",
       "    <tr>\n",
       "      <th>3040</th>\n",
       "      <td>3041</td>\n",
       "      <td>29/01/2015</td>\n",
       "      <td>Graphene</td>\n",
       "      <td>NaN</td>\n",
       "      <td>NaN</td>\n",
       "      <td>NaN</td>\n",
       "      <td>KARSEMVEN Fund</td>\n",
       "      <td>Private Equity</td>\n",
       "      <td>8,25,000</td>\n",
       "      <td>Govt backed VC Fund</td>\n",
       "    </tr>\n",
       "    <tr>\n",
       "      <th>3041</th>\n",
       "      <td>3042</td>\n",
       "      <td>30/01/2015</td>\n",
       "      <td>Mad Street Den</td>\n",
       "      <td>NaN</td>\n",
       "      <td>NaN</td>\n",
       "      <td>NaN</td>\n",
       "      <td>Exfinity Fund, GrowX Ventures.</td>\n",
       "      <td>Private Equity</td>\n",
       "      <td>15,00,000</td>\n",
       "      <td>NaN</td>\n",
       "    </tr>\n",
       "    <tr>\n",
       "      <th>3042</th>\n",
       "      <td>3043</td>\n",
       "      <td>30/01/2015</td>\n",
       "      <td>Simplotel</td>\n",
       "      <td>NaN</td>\n",
       "      <td>NaN</td>\n",
       "      <td>NaN</td>\n",
       "      <td>MakeMyTrip</td>\n",
       "      <td>Private Equity</td>\n",
       "      <td>NaN</td>\n",
       "      <td>Strategic Funding, Minority stake</td>\n",
       "    </tr>\n",
       "    <tr>\n",
       "      <th>3043</th>\n",
       "      <td>3044</td>\n",
       "      <td>31/01/2015</td>\n",
       "      <td>couponmachine.in</td>\n",
       "      <td>NaN</td>\n",
       "      <td>NaN</td>\n",
       "      <td>NaN</td>\n",
       "      <td>UK based Group of Angel Investors</td>\n",
       "      <td>Seed Funding</td>\n",
       "      <td>1,40,000</td>\n",
       "      <td>NaN</td>\n",
       "    </tr>\n",
       "  </tbody>\n",
       "</table>\n",
       "<p>3044 rows × 10 columns</p>\n",
       "</div>"
      ],
      "text/plain": [
       "      Sr No Date dd/mm/yyyy                  Startup Name  \\\n",
       "0         1      09/01/2020                        BYJU’S   \n",
       "1         2      13/01/2020                        Shuttl   \n",
       "2         3      09/01/2020                     Mamaearth   \n",
       "3         4      02/01/2020  https://www.wealthbucket.in/   \n",
       "4         5      02/01/2020                        Fashor   \n",
       "...     ...             ...                           ...   \n",
       "3039   3040      29/01/2015                    Printvenue   \n",
       "3040   3041      29/01/2015                      Graphene   \n",
       "3041   3042      30/01/2015                Mad Street Den   \n",
       "3042   3043      30/01/2015                     Simplotel   \n",
       "3043   3044      31/01/2015              couponmachine.in   \n",
       "\n",
       "        Industry Vertical                            SubVertical  \\\n",
       "0                  E-Tech                             E-learning   \n",
       "1          Transportation              App based shuttle service   \n",
       "2              E-commerce  Retailer of baby and toddler products   \n",
       "3                 FinTech                      Online Investment   \n",
       "4     Fashion and Apparel            Embroiled Clothes For Women   \n",
       "...                   ...                                    ...   \n",
       "3039                  NaN                                    NaN   \n",
       "3040                  NaN                                    NaN   \n",
       "3041                  NaN                                    NaN   \n",
       "3042                  NaN                                    NaN   \n",
       "3043                  NaN                                    NaN   \n",
       "\n",
       "     City  Location                     Investors Name       InvestmentnType  \\\n",
       "0         Bengaluru            Tiger Global Management  Private Equity Round   \n",
       "1           Gurgaon          Susquehanna Growth Equity              Series C   \n",
       "2         Bengaluru              Sequoia Capital India              Series B   \n",
       "3         New Delhi                     Vinod Khatumal          Pre-series A   \n",
       "4            Mumbai            Sprout Venture Partners            Seed Round   \n",
       "...             ...                                ...                   ...   \n",
       "3039            NaN        Asia Pacific Internet Group        Private Equity   \n",
       "3040            NaN                     KARSEMVEN Fund        Private Equity   \n",
       "3041            NaN     Exfinity Fund, GrowX Ventures.        Private Equity   \n",
       "3042            NaN                         MakeMyTrip        Private Equity   \n",
       "3043            NaN  UK based Group of Angel Investors          Seed Funding   \n",
       "\n",
       "     Amount in USD                            Remarks  \n",
       "0     20,00,00,000                                NaN  \n",
       "1        80,48,394                                NaN  \n",
       "2      1,83,58,860                                NaN  \n",
       "3        30,00,000                                NaN  \n",
       "4        18,00,000                                NaN  \n",
       "...            ...                                ...  \n",
       "3039     45,00,000                                NaN  \n",
       "3040      8,25,000                Govt backed VC Fund  \n",
       "3041     15,00,000                                NaN  \n",
       "3042           NaN  Strategic Funding, Minority stake  \n",
       "3043      1,40,000                                NaN  \n",
       "\n",
       "[3044 rows x 10 columns]"
      ]
     },
     "execution_count": 2,
     "metadata": {},
     "output_type": "execute_result"
    }
   ],
   "source": [
    "data = pd.read_csv('../input/indian-startup-funding/startup_funding.csv')\n",
    "data"
   ]
  },
  {
   "cell_type": "code",
   "execution_count": 3,
   "id": "ecc53373",
   "metadata": {
    "execution": {
     "iopub.execute_input": "2022-10-27T15:40:37.698570Z",
     "iopub.status.busy": "2022-10-27T15:40:37.698125Z",
     "iopub.status.idle": "2022-10-27T15:40:37.713385Z",
     "shell.execute_reply": "2022-10-27T15:40:37.711608Z"
    },
    "papermill": {
     "duration": 0.025055,
     "end_time": "2022-10-27T15:40:37.716207",
     "exception": false,
     "start_time": "2022-10-27T15:40:37.691152",
     "status": "completed"
    },
    "tags": []
   },
   "outputs": [
    {
     "data": {
      "text/plain": [
       "Sr No                0.000000\n",
       "Date dd/mm/yyyy      0.000000\n",
       "Startup Name         0.000000\n",
       "Industry Vertical    0.056176\n",
       "SubVertical          0.307490\n",
       "City  Location       0.059133\n",
       "Investors Name       0.007884\n",
       "InvestmentnType      0.001314\n",
       "Amount in USD        0.315375\n",
       "Remarks              0.862352\n",
       "dtype: float64"
      ]
     },
     "execution_count": 3,
     "metadata": {},
     "output_type": "execute_result"
    }
   ],
   "source": [
    "# Check missing values\n",
    "data.isna().mean()"
   ]
  },
  {
   "cell_type": "code",
   "execution_count": 4,
   "id": "4840efc8",
   "metadata": {
    "execution": {
     "iopub.execute_input": "2022-10-27T15:40:37.729269Z",
     "iopub.status.busy": "2022-10-27T15:40:37.728756Z",
     "iopub.status.idle": "2022-10-27T15:40:37.753395Z",
     "shell.execute_reply": "2022-10-27T15:40:37.751163Z"
    },
    "papermill": {
     "duration": 0.035206,
     "end_time": "2022-10-27T15:40:37.756945",
     "exception": false,
     "start_time": "2022-10-27T15:40:37.721739",
     "status": "completed"
    },
    "tags": []
   },
   "outputs": [
    {
     "data": {
      "text/plain": [
       "{'Sr No': 3044,\n",
       " 'Date dd/mm/yyyy': 1035,\n",
       " 'Startup Name': 2459,\n",
       " 'Industry Vertical': 822,\n",
       " 'SubVertical': 1943,\n",
       " 'City  Location': 113,\n",
       " 'Investors Name': 2413,\n",
       " 'InvestmentnType': 56,\n",
       " 'Amount in USD': 472,\n",
       " 'Remarks': 73}"
      ]
     },
     "execution_count": 4,
     "metadata": {},
     "output_type": "execute_result"
    }
   ],
   "source": [
    "# Check column cardinalities\n",
    "{column: len(data[column].unique()) for column in data.columns}"
   ]
  },
  {
   "cell_type": "markdown",
   "id": "fc11346a",
   "metadata": {
    "papermill": {
     "duration": 0.005316,
     "end_time": "2022-10-27T15:40:37.768103",
     "exception": false,
     "start_time": "2022-10-27T15:40:37.762787",
     "status": "completed"
    },
    "tags": []
   },
   "source": [
    "# Preprocessing"
   ]
  },
  {
   "cell_type": "markdown",
   "id": "fbf29399",
   "metadata": {
    "papermill": {
     "duration": 0.00555,
     "end_time": "2022-10-27T15:40:37.779766",
     "exception": false,
     "start_time": "2022-10-27T15:40:37.774216",
     "status": "completed"
    },
    "tags": []
   },
   "source": [
    "**The data is messy.** Let's build a function that cleans it and returns the training and test sets.\n",
    "\n",
    "Here, we drop the useless columns and the ones with high cardinality because they can reduce the model performances after the one-hot encoding.\n",
    "\n",
    "Then, the cells are cleaned from unfortunate characters that have be entered into the data and missing row targets are dropped.\n",
    "\n",
    "Ultimately, the dates are decomposed into *year*, *month* and *day* which will be easier for the model to interpret."
   ]
  },
  {
   "cell_type": "code",
   "execution_count": 5,
   "id": "e36cc8b2",
   "metadata": {
    "execution": {
     "iopub.execute_input": "2022-10-27T15:40:37.793802Z",
     "iopub.status.busy": "2022-10-27T15:40:37.793386Z",
     "iopub.status.idle": "2022-10-27T15:40:37.809765Z",
     "shell.execute_reply": "2022-10-27T15:40:37.807818Z"
    },
    "papermill": {
     "duration": 0.027851,
     "end_time": "2022-10-27T15:40:37.813198",
     "exception": false,
     "start_time": "2022-10-27T15:40:37.785347",
     "status": "completed"
    },
    "tags": []
   },
   "outputs": [],
   "source": [
    "def preprocess_inputs(df):\n",
    "    df = df.copy()\n",
    "    \n",
    "    # Drop ID and Remarks columns\n",
    "    df = df.drop(['Sr No', 'Remarks'], axis=1)\n",
    "\n",
    "    # Drop high cardinality columns\n",
    "    df = df.drop(['Startup Name', 'SubVertical', 'Investors Name'], axis=1)\n",
    "    \n",
    "    # Clean \\\\xc2\\\\xa0 examples\n",
    "    df = df.applymap(lambda x: x.replace(r'\\\\xc2\\\\xa0', '') if type(x) == str else x)   \n",
    "    \n",
    "    # Clean target column\n",
    "    df['Amount in USD'] = df['Amount in USD'].astype(str).apply(lambda x: x.replace(',', ''))\n",
    "    df['Amount in USD'] = df['Amount in USD'].astype(str).apply(lambda x: x.replace('+', ''))\n",
    "    df['Amount in USD'] = df['Amount in USD'].apply(pd.to_numeric, errors='coerce')\n",
    "    \n",
    "    # Drop missing target rows\n",
    "    df = df.drop(df[df['Amount in USD'].isna()].index).reset_index(drop=True)\n",
    "    \n",
    "    # Fill categorical missing values with the mode\n",
    "    for column in ['Industry Vertical', 'City  Location', 'InvestmentnType']:\n",
    "        df[column] = df[column].fillna(df[column].mode()[0])\n",
    "\n",
    "    # Clean date errors\n",
    "    df['Date dd/mm/yyyy'] = df['Date dd/mm/yyyy'].replace({\n",
    "        '05/072018': '05/07/2018',\n",
    "        '01/07/015': '01/07/2015',\n",
    "        '22/01//2015': '22/01/2015'\n",
    "    })\n",
    "    \n",
    "    # Extract date features\n",
    "    df['Date dd/mm/yyyy'] = pd.to_datetime(df['Date dd/mm/yyyy'])\n",
    "    df['Year'] = df['Date dd/mm/yyyy'].apply(lambda x: x.year)\n",
    "    df['Month'] = df['Date dd/mm/yyyy'].apply(lambda x: x.month)\n",
    "    df['Day'] = df['Date dd/mm/yyyy'].apply(lambda x: x.day)\n",
    "    df = df.drop('Date dd/mm/yyyy', axis=1)\n",
    "    \n",
    "    # Split X and y\n",
    "    X = df.drop('Amount in USD', axis=1)\n",
    "    y = df['Amount in USD']\n",
    "    \n",
    "    # Trai-test split\n",
    "    X_train, X_test, y_train, y_test = train_test_split(X, y, train_size=0.7, shuffle=True, random_state=1)\n",
    "    \n",
    "    return X_train, X_test, y_train, y_test"
   ]
  },
  {
   "cell_type": "code",
   "execution_count": 6,
   "id": "c50ee14a",
   "metadata": {
    "execution": {
     "iopub.execute_input": "2022-10-27T15:40:37.826538Z",
     "iopub.status.busy": "2022-10-27T15:40:37.826095Z",
     "iopub.status.idle": "2022-10-27T15:40:37.965653Z",
     "shell.execute_reply": "2022-10-27T15:40:37.963969Z"
    },
    "papermill": {
     "duration": 0.149874,
     "end_time": "2022-10-27T15:40:37.968609",
     "exception": false,
     "start_time": "2022-10-27T15:40:37.818735",
     "status": "completed"
    },
    "tags": []
   },
   "outputs": [
    {
     "data": {
      "text/html": [
       "<div>\n",
       "<style scoped>\n",
       "    .dataframe tbody tr th:only-of-type {\n",
       "        vertical-align: middle;\n",
       "    }\n",
       "\n",
       "    .dataframe tbody tr th {\n",
       "        vertical-align: top;\n",
       "    }\n",
       "\n",
       "    .dataframe thead th {\n",
       "        text-align: right;\n",
       "    }\n",
       "</style>\n",
       "<table border=\"1\" class=\"dataframe\">\n",
       "  <thead>\n",
       "    <tr style=\"text-align: right;\">\n",
       "      <th></th>\n",
       "      <th>Industry Vertical</th>\n",
       "      <th>City  Location</th>\n",
       "      <th>InvestmentnType</th>\n",
       "      <th>Year</th>\n",
       "      <th>Month</th>\n",
       "      <th>Day</th>\n",
       "    </tr>\n",
       "  </thead>\n",
       "  <tbody>\n",
       "    <tr>\n",
       "      <th>924</th>\n",
       "      <td>eCommerce</td>\n",
       "      <td>Noida</td>\n",
       "      <td>Private Equity</td>\n",
       "      <td>2016</td>\n",
       "      <td>4</td>\n",
       "      <td>10</td>\n",
       "    </tr>\n",
       "    <tr>\n",
       "      <th>1108</th>\n",
       "      <td>Consumer Internet</td>\n",
       "      <td>Bangalore</td>\n",
       "      <td>Seed Funding</td>\n",
       "      <td>2016</td>\n",
       "      <td>7</td>\n",
       "      <td>21</td>\n",
       "    </tr>\n",
       "    <tr>\n",
       "      <th>1059</th>\n",
       "      <td>Consumer Internet</td>\n",
       "      <td>Mumbai</td>\n",
       "      <td>Private Equity</td>\n",
       "      <td>2016</td>\n",
       "      <td>8</td>\n",
       "      <td>29</td>\n",
       "    </tr>\n",
       "    <tr>\n",
       "      <th>160</th>\n",
       "      <td>Consumer Internet</td>\n",
       "      <td>Bengaluru</td>\n",
       "      <td>Seed/ Angel Funding</td>\n",
       "      <td>2018</td>\n",
       "      <td>8</td>\n",
       "      <td>8</td>\n",
       "    </tr>\n",
       "    <tr>\n",
       "      <th>1696</th>\n",
       "      <td>on-demand delivery service</td>\n",
       "      <td>Gurgaon</td>\n",
       "      <td>Seed Funding</td>\n",
       "      <td>2015</td>\n",
       "      <td>8</td>\n",
       "      <td>17</td>\n",
       "    </tr>\n",
       "    <tr>\n",
       "      <th>...</th>\n",
       "      <td>...</td>\n",
       "      <td>...</td>\n",
       "      <td>...</td>\n",
       "      <td>...</td>\n",
       "      <td>...</td>\n",
       "      <td>...</td>\n",
       "    </tr>\n",
       "    <tr>\n",
       "      <th>960</th>\n",
       "      <td>eCommerce</td>\n",
       "      <td>Ahmedabad</td>\n",
       "      <td>Private Equity</td>\n",
       "      <td>2016</td>\n",
       "      <td>10</td>\n",
       "      <td>26</td>\n",
       "    </tr>\n",
       "    <tr>\n",
       "      <th>905</th>\n",
       "      <td>Consumer Internet</td>\n",
       "      <td>Mumbai</td>\n",
       "      <td>Private Equity</td>\n",
       "      <td>2016</td>\n",
       "      <td>11</td>\n",
       "      <td>24</td>\n",
       "    </tr>\n",
       "    <tr>\n",
       "      <th>1096</th>\n",
       "      <td>eCommerce</td>\n",
       "      <td>New Delhi</td>\n",
       "      <td>Seed Funding</td>\n",
       "      <td>2016</td>\n",
       "      <td>7</td>\n",
       "      <td>15</td>\n",
       "    </tr>\n",
       "    <tr>\n",
       "      <th>235</th>\n",
       "      <td>Finance</td>\n",
       "      <td>Chennai</td>\n",
       "      <td>Seed / Angel Funding</td>\n",
       "      <td>2018</td>\n",
       "      <td>2</td>\n",
       "      <td>5</td>\n",
       "    </tr>\n",
       "    <tr>\n",
       "      <th>1061</th>\n",
       "      <td>Consumer Internet</td>\n",
       "      <td>Chennai</td>\n",
       "      <td>Private Equity</td>\n",
       "      <td>2016</td>\n",
       "      <td>8</td>\n",
       "      <td>29</td>\n",
       "    </tr>\n",
       "  </tbody>\n",
       "</table>\n",
       "<p>1451 rows × 6 columns</p>\n",
       "</div>"
      ],
      "text/plain": [
       "               Industry Vertical City  Location       InvestmentnType  Year  \\\n",
       "924                    eCommerce          Noida        Private Equity  2016   \n",
       "1108           Consumer Internet      Bangalore          Seed Funding  2016   \n",
       "1059           Consumer Internet         Mumbai        Private Equity  2016   \n",
       "160            Consumer Internet      Bengaluru   Seed/ Angel Funding  2018   \n",
       "1696  on-demand delivery service        Gurgaon          Seed Funding  2015   \n",
       "...                          ...            ...                   ...   ...   \n",
       "960                    eCommerce      Ahmedabad        Private Equity  2016   \n",
       "905            Consumer Internet         Mumbai        Private Equity  2016   \n",
       "1096                   eCommerce      New Delhi          Seed Funding  2016   \n",
       "235                      Finance        Chennai  Seed / Angel Funding  2018   \n",
       "1061           Consumer Internet        Chennai        Private Equity  2016   \n",
       "\n",
       "      Month  Day  \n",
       "924       4   10  \n",
       "1108      7   21  \n",
       "1059      8   29  \n",
       "160       8    8  \n",
       "1696      8   17  \n",
       "...     ...  ...  \n",
       "960      10   26  \n",
       "905      11   24  \n",
       "1096      7   15  \n",
       "235       2    5  \n",
       "1061      8   29  \n",
       "\n",
       "[1451 rows x 6 columns]"
      ]
     },
     "execution_count": 6,
     "metadata": {},
     "output_type": "execute_result"
    }
   ],
   "source": [
    "X_train, X_test, y_train, y_test = preprocess_inputs(data)\n",
    "X_train"
   ]
  },
  {
   "cell_type": "markdown",
   "id": "27306bba",
   "metadata": {
    "papermill": {
     "duration": 0.005587,
     "end_time": "2022-10-27T15:40:37.980871",
     "exception": false,
     "start_time": "2022-10-27T15:40:37.975284",
     "status": "completed"
    },
    "tags": []
   },
   "source": [
    "# Pipeline"
   ]
  },
  {
   "cell_type": "markdown",
   "id": "707d00ad",
   "metadata": {
    "papermill": {
     "duration": 0.006914,
     "end_time": "2022-10-27T15:40:37.994227",
     "exception": false,
     "start_time": "2022-10-27T15:40:37.987313",
     "status": "completed"
    },
    "tags": []
   },
   "source": [
    "The data is not ready yet for the model. Encoding and scaling have not been done yet.\n",
    "\n",
    "**We will do this inside of a pipeline.**"
   ]
  },
  {
   "cell_type": "code",
   "execution_count": 7,
   "id": "fdaefe28",
   "metadata": {
    "execution": {
     "iopub.execute_input": "2022-10-27T15:40:38.012187Z",
     "iopub.status.busy": "2022-10-27T15:40:38.011369Z",
     "iopub.status.idle": "2022-10-27T15:40:38.021019Z",
     "shell.execute_reply": "2022-10-27T15:40:38.018934Z"
    },
    "papermill": {
     "duration": 0.022986,
     "end_time": "2022-10-27T15:40:38.025053",
     "exception": false,
     "start_time": "2022-10-27T15:40:38.002067",
     "status": "completed"
    },
    "tags": []
   },
   "outputs": [],
   "source": [
    "nominal_transformer = Pipeline(steps=[\n",
    "    ('onehot', OneHotEncoder(handle_unknown='ignore', sparse=False))\n",
    "])\n",
    "\n",
    "preprocessor = ColumnTransformer(transformers=[\n",
    "    ('nominal', nominal_transformer, ['Industry Vertical', 'City  Location', 'InvestmentnType'])\n",
    "], remainder='passthrough')\n",
    "\n",
    "regressor = RandomForestRegressor()\n",
    "\n",
    "model = Pipeline(steps=[\n",
    "    ('preprocessor', preprocessor),\n",
    "    ('scaler', StandardScaler()),\n",
    "    ('regressor', regressor)\n",
    "])"
   ]
  },
  {
   "cell_type": "code",
   "execution_count": 8,
   "id": "52059b6a",
   "metadata": {
    "execution": {
     "iopub.execute_input": "2022-10-27T15:40:38.040355Z",
     "iopub.status.busy": "2022-10-27T15:40:38.039768Z",
     "iopub.status.idle": "2022-10-27T15:40:42.119103Z",
     "shell.execute_reply": "2022-10-27T15:40:42.117168Z"
    },
    "papermill": {
     "duration": 4.091003,
     "end_time": "2022-10-27T15:40:42.122090",
     "exception": false,
     "start_time": "2022-10-27T15:40:38.031087",
     "status": "completed"
    },
    "tags": []
   },
   "outputs": [
    {
     "data": {
      "text/plain": [
       "Pipeline(steps=[('preprocessor',\n",
       "                 ColumnTransformer(remainder='passthrough',\n",
       "                                   transformers=[('nominal',\n",
       "                                                  Pipeline(steps=[('onehot',\n",
       "                                                                   OneHotEncoder(handle_unknown='ignore',\n",
       "                                                                                 sparse=False))]),\n",
       "                                                  ['Industry Vertical',\n",
       "                                                   'City  Location',\n",
       "                                                   'InvestmentnType'])])),\n",
       "                ('scaler', StandardScaler()),\n",
       "                ('regressor', RandomForestRegressor())])"
      ]
     },
     "execution_count": 8,
     "metadata": {},
     "output_type": "execute_result"
    }
   ],
   "source": [
    "model.fit(X_train, y_train)"
   ]
  },
  {
   "cell_type": "markdown",
   "id": "13caa241",
   "metadata": {
    "papermill": {
     "duration": 0.005603,
     "end_time": "2022-10-27T15:40:42.133797",
     "exception": false,
     "start_time": "2022-10-27T15:40:42.128194",
     "status": "completed"
    },
    "tags": []
   },
   "source": [
    "# Results"
   ]
  },
  {
   "cell_type": "code",
   "execution_count": 9,
   "id": "7fa79f8c",
   "metadata": {
    "execution": {
     "iopub.execute_input": "2022-10-27T15:40:42.147499Z",
     "iopub.status.busy": "2022-10-27T15:40:42.147107Z",
     "iopub.status.idle": "2022-10-27T15:40:42.200329Z",
     "shell.execute_reply": "2022-10-27T15:40:42.199018Z"
    },
    "papermill": {
     "duration": 0.064444,
     "end_time": "2022-10-27T15:40:42.204118",
     "exception": false,
     "start_time": "2022-10-27T15:40:42.139674",
     "status": "completed"
    },
    "tags": []
   },
   "outputs": [
    {
     "name": "stdout",
     "output_type": "stream",
     "text": [
      "Test RMSE: 58933562.37\n",
      "Test R2-Score: -0.11604\n"
     ]
    }
   ],
   "source": [
    "y_pred = model.predict(X_test)\n",
    "rmse = np.sqrt(np.mean((y_test - y_pred) ** 2))\n",
    "r2 = r2_score(y_test, y_pred)\n",
    "\n",
    "print(\"Test RMSE: {:.2f}\".format(rmse))\n",
    "print(\"Test R2-Score: {:.5f}\".format(r2))"
   ]
  },
  {
   "cell_type": "code",
   "execution_count": null,
   "id": "56beca5b",
   "metadata": {
    "papermill": {
     "duration": 0.005614,
     "end_time": "2022-10-27T15:40:42.216530",
     "exception": false,
     "start_time": "2022-10-27T15:40:42.210916",
     "status": "completed"
    },
    "tags": []
   },
   "outputs": [],
   "source": []
  }
 ],
 "metadata": {
  "kernelspec": {
   "display_name": "Python 3",
   "language": "python",
   "name": "python3"
  },
  "language_info": {
   "codemirror_mode": {
    "name": "ipython",
    "version": 3
   },
   "file_extension": ".py",
   "mimetype": "text/x-python",
   "name": "python",
   "nbconvert_exporter": "python",
   "pygments_lexer": "ipython3",
   "version": "3.7.12"
  },
  "papermill": {
   "default_parameters": {},
   "duration": 19.863317,
   "end_time": "2022-10-27T15:40:43.046487",
   "environment_variables": {},
   "exception": null,
   "input_path": "__notebook__.ipynb",
   "output_path": "__notebook__.ipynb",
   "parameters": {},
   "start_time": "2022-10-27T15:40:23.183170",
   "version": "2.3.4"
  }
 },
 "nbformat": 4,
 "nbformat_minor": 5
}
