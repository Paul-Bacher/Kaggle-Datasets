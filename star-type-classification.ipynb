{
 "cells": [
  {
   "cell_type": "markdown",
   "id": "70a6d351",
   "metadata": {
    "papermill": {
     "duration": 0.006348,
     "end_time": "2022-10-29T17:08:16.097083",
     "exception": false,
     "start_time": "2022-10-29T17:08:16.090735",
     "status": "completed"
    },
    "tags": []
   },
   "source": [
    "# ⭐ Star Type Classification\n",
    "---"
   ]
  },
  {
   "cell_type": "markdown",
   "id": "45e7c40d",
   "metadata": {
    "papermill": {
     "duration": 0.004926,
     "end_time": "2022-10-29T17:08:16.109441",
     "exception": false,
     "start_time": "2022-10-29T17:08:16.104515",
     "status": "completed"
    },
    "tags": []
   },
   "source": [
    "Given *data about stars*, let's try to **classify a given star** into its correct type among 6 classes."
   ]
  },
  {
   "cell_type": "markdown",
   "id": "574c07c5",
   "metadata": {
    "papermill": {
     "duration": 0.004331,
     "end_time": "2022-10-29T17:08:16.118599",
     "exception": false,
     "start_time": "2022-10-29T17:08:16.114268",
     "status": "completed"
    },
    "tags": []
   },
   "source": [
    "# Getting Started"
   ]
  },
  {
   "cell_type": "code",
   "execution_count": 1,
   "id": "0e0c39c6",
   "metadata": {
    "execution": {
     "iopub.execute_input": "2022-10-29T17:08:16.130353Z",
     "iopub.status.busy": "2022-10-29T17:08:16.129598Z",
     "iopub.status.idle": "2022-10-29T17:08:17.534892Z",
     "shell.execute_reply": "2022-10-29T17:08:17.533498Z"
    },
    "papermill": {
     "duration": 1.4145,
     "end_time": "2022-10-29T17:08:17.537872",
     "exception": false,
     "start_time": "2022-10-29T17:08:16.123372",
     "status": "completed"
    },
    "tags": []
   },
   "outputs": [],
   "source": [
    "import numpy as np\n",
    "import pandas as pd\n",
    "import matplotlib.pyplot as plt\n",
    "\n",
    "from sklearn.model_selection import train_test_split, KFold, cross_val_score\n",
    "from sklearn.preprocessing import StandardScaler\n",
    "\n",
    "from sklearn.linear_model import LogisticRegression\n",
    "\n",
    "from sklearn.metrics import confusion_matrix, ConfusionMatrixDisplay"
   ]
  },
  {
   "cell_type": "code",
   "execution_count": 2,
   "id": "02d8cb98",
   "metadata": {
    "execution": {
     "iopub.execute_input": "2022-10-29T17:08:17.548904Z",
     "iopub.status.busy": "2022-10-29T17:08:17.548488Z",
     "iopub.status.idle": "2022-10-29T17:08:17.603358Z",
     "shell.execute_reply": "2022-10-29T17:08:17.602115Z"
    },
    "papermill": {
     "duration": 0.063115,
     "end_time": "2022-10-29T17:08:17.605720",
     "exception": false,
     "start_time": "2022-10-29T17:08:17.542605",
     "status": "completed"
    },
    "tags": []
   },
   "outputs": [
    {
     "data": {
      "text/html": [
       "<div>\n",
       "<style scoped>\n",
       "    .dataframe tbody tr th:only-of-type {\n",
       "        vertical-align: middle;\n",
       "    }\n",
       "\n",
       "    .dataframe tbody tr th {\n",
       "        vertical-align: top;\n",
       "    }\n",
       "\n",
       "    .dataframe thead th {\n",
       "        text-align: right;\n",
       "    }\n",
       "</style>\n",
       "<table border=\"1\" class=\"dataframe\">\n",
       "  <thead>\n",
       "    <tr style=\"text-align: right;\">\n",
       "      <th></th>\n",
       "      <th>Temperature (K)</th>\n",
       "      <th>Luminosity(L/Lo)</th>\n",
       "      <th>Radius(R/Ro)</th>\n",
       "      <th>Absolute magnitude(Mv)</th>\n",
       "      <th>Star type</th>\n",
       "      <th>Star color</th>\n",
       "      <th>Spectral Class</th>\n",
       "    </tr>\n",
       "  </thead>\n",
       "  <tbody>\n",
       "    <tr>\n",
       "      <th>0</th>\n",
       "      <td>3068</td>\n",
       "      <td>0.002400</td>\n",
       "      <td>0.1700</td>\n",
       "      <td>16.12</td>\n",
       "      <td>0</td>\n",
       "      <td>Red</td>\n",
       "      <td>M</td>\n",
       "    </tr>\n",
       "    <tr>\n",
       "      <th>1</th>\n",
       "      <td>3042</td>\n",
       "      <td>0.000500</td>\n",
       "      <td>0.1542</td>\n",
       "      <td>16.60</td>\n",
       "      <td>0</td>\n",
       "      <td>Red</td>\n",
       "      <td>M</td>\n",
       "    </tr>\n",
       "    <tr>\n",
       "      <th>2</th>\n",
       "      <td>2600</td>\n",
       "      <td>0.000300</td>\n",
       "      <td>0.1020</td>\n",
       "      <td>18.70</td>\n",
       "      <td>0</td>\n",
       "      <td>Red</td>\n",
       "      <td>M</td>\n",
       "    </tr>\n",
       "    <tr>\n",
       "      <th>3</th>\n",
       "      <td>2800</td>\n",
       "      <td>0.000200</td>\n",
       "      <td>0.1600</td>\n",
       "      <td>16.65</td>\n",
       "      <td>0</td>\n",
       "      <td>Red</td>\n",
       "      <td>M</td>\n",
       "    </tr>\n",
       "    <tr>\n",
       "      <th>4</th>\n",
       "      <td>1939</td>\n",
       "      <td>0.000138</td>\n",
       "      <td>0.1030</td>\n",
       "      <td>20.06</td>\n",
       "      <td>0</td>\n",
       "      <td>Red</td>\n",
       "      <td>M</td>\n",
       "    </tr>\n",
       "    <tr>\n",
       "      <th>...</th>\n",
       "      <td>...</td>\n",
       "      <td>...</td>\n",
       "      <td>...</td>\n",
       "      <td>...</td>\n",
       "      <td>...</td>\n",
       "      <td>...</td>\n",
       "      <td>...</td>\n",
       "    </tr>\n",
       "    <tr>\n",
       "      <th>235</th>\n",
       "      <td>38940</td>\n",
       "      <td>374830.000000</td>\n",
       "      <td>1356.0000</td>\n",
       "      <td>-9.93</td>\n",
       "      <td>5</td>\n",
       "      <td>Blue</td>\n",
       "      <td>O</td>\n",
       "    </tr>\n",
       "    <tr>\n",
       "      <th>236</th>\n",
       "      <td>30839</td>\n",
       "      <td>834042.000000</td>\n",
       "      <td>1194.0000</td>\n",
       "      <td>-10.63</td>\n",
       "      <td>5</td>\n",
       "      <td>Blue</td>\n",
       "      <td>O</td>\n",
       "    </tr>\n",
       "    <tr>\n",
       "      <th>237</th>\n",
       "      <td>8829</td>\n",
       "      <td>537493.000000</td>\n",
       "      <td>1423.0000</td>\n",
       "      <td>-10.73</td>\n",
       "      <td>5</td>\n",
       "      <td>White</td>\n",
       "      <td>A</td>\n",
       "    </tr>\n",
       "    <tr>\n",
       "      <th>238</th>\n",
       "      <td>9235</td>\n",
       "      <td>404940.000000</td>\n",
       "      <td>1112.0000</td>\n",
       "      <td>-11.23</td>\n",
       "      <td>5</td>\n",
       "      <td>White</td>\n",
       "      <td>A</td>\n",
       "    </tr>\n",
       "    <tr>\n",
       "      <th>239</th>\n",
       "      <td>37882</td>\n",
       "      <td>294903.000000</td>\n",
       "      <td>1783.0000</td>\n",
       "      <td>-7.80</td>\n",
       "      <td>5</td>\n",
       "      <td>Blue</td>\n",
       "      <td>O</td>\n",
       "    </tr>\n",
       "  </tbody>\n",
       "</table>\n",
       "<p>240 rows × 7 columns</p>\n",
       "</div>"
      ],
      "text/plain": [
       "     Temperature (K)  Luminosity(L/Lo)  Radius(R/Ro)  Absolute magnitude(Mv)  \\\n",
       "0               3068          0.002400        0.1700                   16.12   \n",
       "1               3042          0.000500        0.1542                   16.60   \n",
       "2               2600          0.000300        0.1020                   18.70   \n",
       "3               2800          0.000200        0.1600                   16.65   \n",
       "4               1939          0.000138        0.1030                   20.06   \n",
       "..               ...               ...           ...                     ...   \n",
       "235            38940     374830.000000     1356.0000                   -9.93   \n",
       "236            30839     834042.000000     1194.0000                  -10.63   \n",
       "237             8829     537493.000000     1423.0000                  -10.73   \n",
       "238             9235     404940.000000     1112.0000                  -11.23   \n",
       "239            37882     294903.000000     1783.0000                   -7.80   \n",
       "\n",
       "     Star type Star color Spectral Class  \n",
       "0            0        Red              M  \n",
       "1            0        Red              M  \n",
       "2            0        Red              M  \n",
       "3            0        Red              M  \n",
       "4            0        Red              M  \n",
       "..         ...        ...            ...  \n",
       "235          5       Blue              O  \n",
       "236          5       Blue              O  \n",
       "237          5      White              A  \n",
       "238          5      White              A  \n",
       "239          5       Blue              O  \n",
       "\n",
       "[240 rows x 7 columns]"
      ]
     },
     "execution_count": 2,
     "metadata": {},
     "output_type": "execute_result"
    }
   ],
   "source": [
    "data = pd.read_csv('../input/star-dataset/6 class csv.csv')\n",
    "data"
   ]
  },
  {
   "cell_type": "code",
   "execution_count": 3,
   "id": "bf55db67",
   "metadata": {
    "execution": {
     "iopub.execute_input": "2022-10-29T17:08:17.617476Z",
     "iopub.status.busy": "2022-10-29T17:08:17.617073Z",
     "iopub.status.idle": "2022-10-29T17:08:17.627550Z",
     "shell.execute_reply": "2022-10-29T17:08:17.626477Z"
    },
    "papermill": {
     "duration": 0.018995,
     "end_time": "2022-10-29T17:08:17.629866",
     "exception": false,
     "start_time": "2022-10-29T17:08:17.610871",
     "status": "completed"
    },
    "tags": []
   },
   "outputs": [
    {
     "data": {
      "text/plain": [
       "Temperature (K)           0\n",
       "Luminosity(L/Lo)          0\n",
       "Radius(R/Ro)              0\n",
       "Absolute magnitude(Mv)    0\n",
       "Star type                 0\n",
       "Star color                0\n",
       "Spectral Class            0\n",
       "dtype: int64"
      ]
     },
     "execution_count": 3,
     "metadata": {},
     "output_type": "execute_result"
    }
   ],
   "source": [
    "data.isna().sum()"
   ]
  },
  {
   "cell_type": "markdown",
   "id": "d4b6617a",
   "metadata": {
    "papermill": {
     "duration": 0.004683,
     "end_time": "2022-10-29T17:08:17.639617",
     "exception": false,
     "start_time": "2022-10-29T17:08:17.634934",
     "status": "completed"
    },
    "tags": []
   },
   "source": [
    "[](http://)"
   ]
  },
  {
   "cell_type": "markdown",
   "id": "89b6822a",
   "metadata": {
    "papermill": {
     "duration": 0.004581,
     "end_time": "2022-10-29T17:08:17.649186",
     "exception": false,
     "start_time": "2022-10-29T17:08:17.644605",
     "status": "completed"
    },
    "tags": []
   },
   "source": [
    "# Preprocessing"
   ]
  },
  {
   "cell_type": "code",
   "execution_count": 4,
   "id": "deb5fb4a",
   "metadata": {
    "execution": {
     "iopub.execute_input": "2022-10-29T17:08:17.660688Z",
     "iopub.status.busy": "2022-10-29T17:08:17.660286Z",
     "iopub.status.idle": "2022-10-29T17:08:17.672601Z",
     "shell.execute_reply": "2022-10-29T17:08:17.671314Z"
    },
    "papermill": {
     "duration": 0.021199,
     "end_time": "2022-10-29T17:08:17.675243",
     "exception": false,
     "start_time": "2022-10-29T17:08:17.654044",
     "status": "completed"
    },
    "tags": []
   },
   "outputs": [],
   "source": [
    "def preprocess_inputs(df):\n",
    "    df = df.copy()\n",
    "    \n",
    "    # Fix Star color overlapping\n",
    "    color_mapping = {\n",
    "        'Blue ': 'Blue',\n",
    "        'Blue white': 'Blue White',\n",
    "        'Blue-white': 'Blue White',\n",
    "        'Blue white ': 'Blue White',\n",
    "        'Blue-White': 'Blue White',\n",
    "        'white': 'White',\n",
    "        'yellow-white': 'Yellowish White',\n",
    "        'White-Yellow': 'Yellowish White',\n",
    "        'yellowish': 'Yellowish'\n",
    "    }\n",
    "    df['Star color'] = df['Star color'].replace(color_mapping)\n",
    "    \n",
    "    # One-hot encoding\n",
    "    df = pd.concat([df, pd.get_dummies(df['Star color'], prefix='Color')], axis=1)\n",
    "    df = pd.concat([df, pd.get_dummies(df['Spectral Class'], prefix='Class')], axis=1)\n",
    "    df = df.drop(['Star color', 'Spectral Class'], axis=1)\n",
    "    \n",
    "    # Split X and y\n",
    "    X = df.drop('Star type', axis=1)\n",
    "    y = df['Star type']\n",
    "    \n",
    "    # Train-test split\n",
    "    X_train, X_test, y_train, y_test = train_test_split(X, y, train_size=0.7, shuffle=True, random_state=0)\n",
    "\n",
    "    # Scale X\n",
    "    scaler = StandardScaler()\n",
    "    X_train = pd.DataFrame(scaler.fit_transform(X_train), index=X_train.index, columns=X_train.columns)\n",
    "    X_test = pd.DataFrame(scaler.transform(X_test), index=X_test.index, columns=X_test.columns)\n",
    "    \n",
    "    return X_train, X_test, y_train, y_test"
   ]
  },
  {
   "cell_type": "code",
   "execution_count": 5,
   "id": "f064b1d4",
   "metadata": {
    "execution": {
     "iopub.execute_input": "2022-10-29T17:08:17.687786Z",
     "iopub.status.busy": "2022-10-29T17:08:17.687390Z",
     "iopub.status.idle": "2022-10-29T17:08:17.741515Z",
     "shell.execute_reply": "2022-10-29T17:08:17.740222Z"
    },
    "papermill": {
     "duration": 0.063068,
     "end_time": "2022-10-29T17:08:17.744041",
     "exception": false,
     "start_time": "2022-10-29T17:08:17.680973",
     "status": "completed"
    },
    "tags": []
   },
   "outputs": [
    {
     "data": {
      "text/html": [
       "<div>\n",
       "<style scoped>\n",
       "    .dataframe tbody tr th:only-of-type {\n",
       "        vertical-align: middle;\n",
       "    }\n",
       "\n",
       "    .dataframe tbody tr th {\n",
       "        vertical-align: top;\n",
       "    }\n",
       "\n",
       "    .dataframe thead th {\n",
       "        text-align: right;\n",
       "    }\n",
       "</style>\n",
       "<table border=\"1\" class=\"dataframe\">\n",
       "  <thead>\n",
       "    <tr style=\"text-align: right;\">\n",
       "      <th></th>\n",
       "      <th>Temperature (K)</th>\n",
       "      <th>Luminosity(L/Lo)</th>\n",
       "      <th>Radius(R/Ro)</th>\n",
       "      <th>Absolute magnitude(Mv)</th>\n",
       "      <th>Color_Blue</th>\n",
       "      <th>Color_Blue White</th>\n",
       "      <th>Color_Orange</th>\n",
       "      <th>Color_Orange-Red</th>\n",
       "      <th>Color_Pale yellow orange</th>\n",
       "      <th>Color_Red</th>\n",
       "      <th>...</th>\n",
       "      <th>Color_Whitish</th>\n",
       "      <th>Color_Yellowish</th>\n",
       "      <th>Color_Yellowish White</th>\n",
       "      <th>Class_A</th>\n",
       "      <th>Class_B</th>\n",
       "      <th>Class_F</th>\n",
       "      <th>Class_G</th>\n",
       "      <th>Class_K</th>\n",
       "      <th>Class_M</th>\n",
       "      <th>Class_O</th>\n",
       "    </tr>\n",
       "  </thead>\n",
       "  <tbody>\n",
       "    <tr>\n",
       "      <th>61</th>\n",
       "      <td>-0.710590</td>\n",
       "      <td>-0.607428</td>\n",
       "      <td>-0.458255</td>\n",
       "      <td>1.153147</td>\n",
       "      <td>-0.549841</td>\n",
       "      <td>-0.418121</td>\n",
       "      <td>-0.109764</td>\n",
       "      <td>0.0</td>\n",
       "      <td>-0.077382</td>\n",
       "      <td>1.036375</td>\n",
       "      <td>...</td>\n",
       "      <td>-0.077382</td>\n",
       "      <td>-0.109764</td>\n",
       "      <td>-0.223607</td>\n",
       "      <td>-0.324443</td>\n",
       "      <td>-0.456764</td>\n",
       "      <td>-0.27735</td>\n",
       "      <td>0.0</td>\n",
       "      <td>-0.134840</td>\n",
       "      <td>1.024100</td>\n",
       "      <td>-0.4279</td>\n",
       "    </tr>\n",
       "    <tr>\n",
       "      <th>210</th>\n",
       "      <td>1.368814</td>\n",
       "      <td>-0.532507</td>\n",
       "      <td>-0.446344</td>\n",
       "      <td>-0.799426</td>\n",
       "      <td>-0.549841</td>\n",
       "      <td>2.391652</td>\n",
       "      <td>-0.109764</td>\n",
       "      <td>0.0</td>\n",
       "      <td>-0.077382</td>\n",
       "      <td>-0.964901</td>\n",
       "      <td>...</td>\n",
       "      <td>-0.077382</td>\n",
       "      <td>-0.109764</td>\n",
       "      <td>-0.223607</td>\n",
       "      <td>-0.324443</td>\n",
       "      <td>2.189316</td>\n",
       "      <td>-0.27735</td>\n",
       "      <td>0.0</td>\n",
       "      <td>-0.134840</td>\n",
       "      <td>-0.976467</td>\n",
       "      <td>-0.4279</td>\n",
       "    </tr>\n",
       "    <tr>\n",
       "      <th>52</th>\n",
       "      <td>-0.666403</td>\n",
       "      <td>1.029405</td>\n",
       "      <td>1.824986</td>\n",
       "      <td>-1.323333</td>\n",
       "      <td>-0.549841</td>\n",
       "      <td>-0.418121</td>\n",
       "      <td>-0.109764</td>\n",
       "      <td>0.0</td>\n",
       "      <td>-0.077382</td>\n",
       "      <td>1.036375</td>\n",
       "      <td>...</td>\n",
       "      <td>-0.077382</td>\n",
       "      <td>-0.109764</td>\n",
       "      <td>-0.223607</td>\n",
       "      <td>-0.324443</td>\n",
       "      <td>-0.456764</td>\n",
       "      <td>-0.27735</td>\n",
       "      <td>0.0</td>\n",
       "      <td>-0.134840</td>\n",
       "      <td>1.024100</td>\n",
       "      <td>-0.4279</td>\n",
       "    </tr>\n",
       "    <tr>\n",
       "      <th>66</th>\n",
       "      <td>-0.764119</td>\n",
       "      <td>-0.607428</td>\n",
       "      <td>-0.458442</td>\n",
       "      <td>1.285781</td>\n",
       "      <td>-0.549841</td>\n",
       "      <td>-0.418121</td>\n",
       "      <td>-0.109764</td>\n",
       "      <td>0.0</td>\n",
       "      <td>-0.077382</td>\n",
       "      <td>1.036375</td>\n",
       "      <td>...</td>\n",
       "      <td>-0.077382</td>\n",
       "      <td>-0.109764</td>\n",
       "      <td>-0.223607</td>\n",
       "      <td>-0.324443</td>\n",
       "      <td>-0.456764</td>\n",
       "      <td>-0.27735</td>\n",
       "      <td>0.0</td>\n",
       "      <td>-0.134840</td>\n",
       "      <td>1.024100</td>\n",
       "      <td>-0.4279</td>\n",
       "    </tr>\n",
       "    <tr>\n",
       "      <th>26</th>\n",
       "      <td>-0.145838</td>\n",
       "      <td>-0.607428</td>\n",
       "      <td>-0.458603</td>\n",
       "      <td>0.893562</td>\n",
       "      <td>-0.549841</td>\n",
       "      <td>2.391652</td>\n",
       "      <td>-0.109764</td>\n",
       "      <td>0.0</td>\n",
       "      <td>-0.077382</td>\n",
       "      <td>-0.964901</td>\n",
       "      <td>...</td>\n",
       "      <td>-0.077382</td>\n",
       "      <td>-0.109764</td>\n",
       "      <td>-0.223607</td>\n",
       "      <td>3.082207</td>\n",
       "      <td>-0.456764</td>\n",
       "      <td>-0.27735</td>\n",
       "      <td>0.0</td>\n",
       "      <td>-0.134840</td>\n",
       "      <td>-0.976467</td>\n",
       "      <td>-0.4279</td>\n",
       "    </tr>\n",
       "    <tr>\n",
       "      <th>...</th>\n",
       "      <td>...</td>\n",
       "      <td>...</td>\n",
       "      <td>...</td>\n",
       "      <td>...</td>\n",
       "      <td>...</td>\n",
       "      <td>...</td>\n",
       "      <td>...</td>\n",
       "      <td>...</td>\n",
       "      <td>...</td>\n",
       "      <td>...</td>\n",
       "      <td>...</td>\n",
       "      <td>...</td>\n",
       "      <td>...</td>\n",
       "      <td>...</td>\n",
       "      <td>...</td>\n",
       "      <td>...</td>\n",
       "      <td>...</td>\n",
       "      <td>...</td>\n",
       "      <td>...</td>\n",
       "      <td>...</td>\n",
       "      <td>...</td>\n",
       "    </tr>\n",
       "    <tr>\n",
       "      <th>67</th>\n",
       "      <td>-0.778189</td>\n",
       "      <td>-0.607428</td>\n",
       "      <td>-0.458445</td>\n",
       "      <td>1.106725</td>\n",
       "      <td>-0.549841</td>\n",
       "      <td>-0.418121</td>\n",
       "      <td>-0.109764</td>\n",
       "      <td>0.0</td>\n",
       "      <td>-0.077382</td>\n",
       "      <td>1.036375</td>\n",
       "      <td>...</td>\n",
       "      <td>-0.077382</td>\n",
       "      <td>-0.109764</td>\n",
       "      <td>-0.223607</td>\n",
       "      <td>-0.324443</td>\n",
       "      <td>-0.456764</td>\n",
       "      <td>-0.27735</td>\n",
       "      <td>0.0</td>\n",
       "      <td>-0.134840</td>\n",
       "      <td>1.024100</td>\n",
       "      <td>-0.4279</td>\n",
       "    </tr>\n",
       "    <tr>\n",
       "      <th>192</th>\n",
       "      <td>-0.758733</td>\n",
       "      <td>-0.607428</td>\n",
       "      <td>-0.458081</td>\n",
       "      <td>0.822507</td>\n",
       "      <td>-0.549841</td>\n",
       "      <td>-0.418121</td>\n",
       "      <td>-0.109764</td>\n",
       "      <td>0.0</td>\n",
       "      <td>-0.077382</td>\n",
       "      <td>1.036375</td>\n",
       "      <td>...</td>\n",
       "      <td>-0.077382</td>\n",
       "      <td>-0.109764</td>\n",
       "      <td>-0.223607</td>\n",
       "      <td>-0.324443</td>\n",
       "      <td>-0.456764</td>\n",
       "      <td>-0.27735</td>\n",
       "      <td>0.0</td>\n",
       "      <td>-0.134840</td>\n",
       "      <td>1.024100</td>\n",
       "      <td>-0.4279</td>\n",
       "    </tr>\n",
       "    <tr>\n",
       "      <th>117</th>\n",
       "      <td>-0.689376</td>\n",
       "      <td>-0.162113</td>\n",
       "      <td>1.232368</td>\n",
       "      <td>-1.422809</td>\n",
       "      <td>-0.549841</td>\n",
       "      <td>-0.418121</td>\n",
       "      <td>-0.109764</td>\n",
       "      <td>0.0</td>\n",
       "      <td>-0.077382</td>\n",
       "      <td>1.036375</td>\n",
       "      <td>...</td>\n",
       "      <td>-0.077382</td>\n",
       "      <td>-0.109764</td>\n",
       "      <td>-0.223607</td>\n",
       "      <td>-0.324443</td>\n",
       "      <td>-0.456764</td>\n",
       "      <td>-0.27735</td>\n",
       "      <td>0.0</td>\n",
       "      <td>-0.134840</td>\n",
       "      <td>1.024100</td>\n",
       "      <td>-0.4279</td>\n",
       "    </tr>\n",
       "    <tr>\n",
       "      <th>47</th>\n",
       "      <td>-0.694982</td>\n",
       "      <td>0.596125</td>\n",
       "      <td>-0.286820</td>\n",
       "      <td>-0.948166</td>\n",
       "      <td>-0.549841</td>\n",
       "      <td>-0.418121</td>\n",
       "      <td>-0.109764</td>\n",
       "      <td>0.0</td>\n",
       "      <td>-0.077382</td>\n",
       "      <td>1.036375</td>\n",
       "      <td>...</td>\n",
       "      <td>-0.077382</td>\n",
       "      <td>-0.109764</td>\n",
       "      <td>-0.223607</td>\n",
       "      <td>-0.324443</td>\n",
       "      <td>-0.456764</td>\n",
       "      <td>-0.27735</td>\n",
       "      <td>0.0</td>\n",
       "      <td>-0.134840</td>\n",
       "      <td>1.024100</td>\n",
       "      <td>-0.4279</td>\n",
       "    </tr>\n",
       "    <tr>\n",
       "      <th>172</th>\n",
       "      <td>-0.616611</td>\n",
       "      <td>3.183765</td>\n",
       "      <td>2.079792</td>\n",
       "      <td>-1.323333</td>\n",
       "      <td>-0.549841</td>\n",
       "      <td>-0.418121</td>\n",
       "      <td>9.110434</td>\n",
       "      <td>0.0</td>\n",
       "      <td>-0.077382</td>\n",
       "      <td>-0.964901</td>\n",
       "      <td>...</td>\n",
       "      <td>-0.077382</td>\n",
       "      <td>-0.109764</td>\n",
       "      <td>-0.223607</td>\n",
       "      <td>-0.324443</td>\n",
       "      <td>-0.456764</td>\n",
       "      <td>-0.27735</td>\n",
       "      <td>0.0</td>\n",
       "      <td>7.416198</td>\n",
       "      <td>-0.976467</td>\n",
       "      <td>-0.4279</td>\n",
       "    </tr>\n",
       "  </tbody>\n",
       "</table>\n",
       "<p>168 rows × 21 columns</p>\n",
       "</div>"
      ],
      "text/plain": [
       "     Temperature (K)  Luminosity(L/Lo)  Radius(R/Ro)  Absolute magnitude(Mv)  \\\n",
       "61         -0.710590         -0.607428     -0.458255                1.153147   \n",
       "210         1.368814         -0.532507     -0.446344               -0.799426   \n",
       "52         -0.666403          1.029405      1.824986               -1.323333   \n",
       "66         -0.764119         -0.607428     -0.458442                1.285781   \n",
       "26         -0.145838         -0.607428     -0.458603                0.893562   \n",
       "..               ...               ...           ...                     ...   \n",
       "67         -0.778189         -0.607428     -0.458445                1.106725   \n",
       "192        -0.758733         -0.607428     -0.458081                0.822507   \n",
       "117        -0.689376         -0.162113      1.232368               -1.422809   \n",
       "47         -0.694982          0.596125     -0.286820               -0.948166   \n",
       "172        -0.616611          3.183765      2.079792               -1.323333   \n",
       "\n",
       "     Color_Blue  Color_Blue White  Color_Orange  Color_Orange-Red  \\\n",
       "61    -0.549841         -0.418121     -0.109764               0.0   \n",
       "210   -0.549841          2.391652     -0.109764               0.0   \n",
       "52    -0.549841         -0.418121     -0.109764               0.0   \n",
       "66    -0.549841         -0.418121     -0.109764               0.0   \n",
       "26    -0.549841          2.391652     -0.109764               0.0   \n",
       "..          ...               ...           ...               ...   \n",
       "67    -0.549841         -0.418121     -0.109764               0.0   \n",
       "192   -0.549841         -0.418121     -0.109764               0.0   \n",
       "117   -0.549841         -0.418121     -0.109764               0.0   \n",
       "47    -0.549841         -0.418121     -0.109764               0.0   \n",
       "172   -0.549841         -0.418121      9.110434               0.0   \n",
       "\n",
       "     Color_Pale yellow orange  Color_Red  ...  Color_Whitish  Color_Yellowish  \\\n",
       "61                  -0.077382   1.036375  ...      -0.077382        -0.109764   \n",
       "210                 -0.077382  -0.964901  ...      -0.077382        -0.109764   \n",
       "52                  -0.077382   1.036375  ...      -0.077382        -0.109764   \n",
       "66                  -0.077382   1.036375  ...      -0.077382        -0.109764   \n",
       "26                  -0.077382  -0.964901  ...      -0.077382        -0.109764   \n",
       "..                        ...        ...  ...            ...              ...   \n",
       "67                  -0.077382   1.036375  ...      -0.077382        -0.109764   \n",
       "192                 -0.077382   1.036375  ...      -0.077382        -0.109764   \n",
       "117                 -0.077382   1.036375  ...      -0.077382        -0.109764   \n",
       "47                  -0.077382   1.036375  ...      -0.077382        -0.109764   \n",
       "172                 -0.077382  -0.964901  ...      -0.077382        -0.109764   \n",
       "\n",
       "     Color_Yellowish White   Class_A   Class_B  Class_F  Class_G   Class_K  \\\n",
       "61               -0.223607 -0.324443 -0.456764 -0.27735      0.0 -0.134840   \n",
       "210              -0.223607 -0.324443  2.189316 -0.27735      0.0 -0.134840   \n",
       "52               -0.223607 -0.324443 -0.456764 -0.27735      0.0 -0.134840   \n",
       "66               -0.223607 -0.324443 -0.456764 -0.27735      0.0 -0.134840   \n",
       "26               -0.223607  3.082207 -0.456764 -0.27735      0.0 -0.134840   \n",
       "..                     ...       ...       ...      ...      ...       ...   \n",
       "67               -0.223607 -0.324443 -0.456764 -0.27735      0.0 -0.134840   \n",
       "192              -0.223607 -0.324443 -0.456764 -0.27735      0.0 -0.134840   \n",
       "117              -0.223607 -0.324443 -0.456764 -0.27735      0.0 -0.134840   \n",
       "47               -0.223607 -0.324443 -0.456764 -0.27735      0.0 -0.134840   \n",
       "172              -0.223607 -0.324443 -0.456764 -0.27735      0.0  7.416198   \n",
       "\n",
       "      Class_M  Class_O  \n",
       "61   1.024100  -0.4279  \n",
       "210 -0.976467  -0.4279  \n",
       "52   1.024100  -0.4279  \n",
       "66   1.024100  -0.4279  \n",
       "26  -0.976467  -0.4279  \n",
       "..        ...      ...  \n",
       "67   1.024100  -0.4279  \n",
       "192  1.024100  -0.4279  \n",
       "117  1.024100  -0.4279  \n",
       "47   1.024100  -0.4279  \n",
       "172 -0.976467  -0.4279  \n",
       "\n",
       "[168 rows x 21 columns]"
      ]
     },
     "execution_count": 5,
     "metadata": {},
     "output_type": "execute_result"
    }
   ],
   "source": [
    "X_train, X_test, y_train, y_test = preprocess_inputs(data)\n",
    "X_train"
   ]
  },
  {
   "cell_type": "markdown",
   "id": "d572448d",
   "metadata": {
    "papermill": {
     "duration": 0.005263,
     "end_time": "2022-10-29T17:08:17.754929",
     "exception": false,
     "start_time": "2022-10-29T17:08:17.749666",
     "status": "completed"
    },
    "tags": []
   },
   "source": [
    "# Training"
   ]
  },
  {
   "cell_type": "code",
   "execution_count": 6,
   "id": "4b4cab52",
   "metadata": {
    "execution": {
     "iopub.execute_input": "2022-10-29T17:08:17.769513Z",
     "iopub.status.busy": "2022-10-29T17:08:17.769114Z",
     "iopub.status.idle": "2022-10-29T17:08:17.812520Z",
     "shell.execute_reply": "2022-10-29T17:08:17.811442Z"
    },
    "papermill": {
     "duration": 0.053478,
     "end_time": "2022-10-29T17:08:17.815476",
     "exception": false,
     "start_time": "2022-10-29T17:08:17.761998",
     "status": "completed"
    },
    "tags": []
   },
   "outputs": [
    {
     "name": "stdout",
     "output_type": "stream",
     "text": [
      "Test Set Accuracy: 97.22%\n"
     ]
    }
   ],
   "source": [
    "model = LogisticRegression()\n",
    "model.fit(X_train, y_train)\n",
    "\n",
    "print(\"Test Set Accuracy: {:.2f}%\".format(model.score(X_test, y_test) * 100))"
   ]
  },
  {
   "cell_type": "markdown",
   "id": "e2956b94",
   "metadata": {
    "papermill": {
     "duration": 0.005308,
     "end_time": "2022-10-29T17:08:17.827299",
     "exception": false,
     "start_time": "2022-10-29T17:08:17.821991",
     "status": "completed"
    },
    "tags": []
   },
   "source": [
    "# K-Fold Evaluation"
   ]
  },
  {
   "cell_type": "code",
   "execution_count": 7,
   "id": "d9a624f8",
   "metadata": {
    "execution": {
     "iopub.execute_input": "2022-10-29T17:08:17.840369Z",
     "iopub.status.busy": "2022-10-29T17:08:17.839921Z",
     "iopub.status.idle": "2022-10-29T17:08:17.850600Z",
     "shell.execute_reply": "2022-10-29T17:08:17.849211Z"
    },
    "papermill": {
     "duration": 0.020795,
     "end_time": "2022-10-29T17:08:17.853867",
     "exception": false,
     "start_time": "2022-10-29T17:08:17.833072",
     "status": "completed"
    },
    "tags": []
   },
   "outputs": [
    {
     "name": "stdout",
     "output_type": "stream",
     "text": [
      "Split Indices:\n",
      "=======================\n",
      "\n",
      "\n",
      "Split 1:\n",
      "------------\n",
      "\n",
      "Train: [ 34  35  36  37  38  39  40  41  42  43  44  45  46  47  48  49  50  51\n",
      "  52  53  54  55  56  57  58  59  60  61  62  63  64  65  66  67  68  69\n",
      "  70  71  72  73  74  75  76  77  78  79  80  81  82  83  84  85  86  87\n",
      "  88  89  90  91  92  93  94  95  96  97  98  99 100 101 102 103 104 105\n",
      " 106 107 108 109 110 111 112 113 114 115 116 117 118 119 120 121 122 123\n",
      " 124 125 126 127 128 129 130 131 132 133 134 135 136 137 138 139 140 141\n",
      " 142 143 144 145 146 147 148 149 150 151 152 153 154 155 156 157 158 159\n",
      " 160 161 162 163 164 165 166 167]\n",
      "\n",
      "Val: [ 0  1  2  3  4  5  6  7  8  9 10 11 12 13 14 15 16 17 18 19 20 21 22 23\n",
      " 24 25 26 27 28 29 30 31 32 33]\n",
      "\n",
      "\n",
      "Split 2:\n",
      "------------\n",
      "\n",
      "Train: [  0   1   2   3   4   5   6   7   8   9  10  11  12  13  14  15  16  17\n",
      "  18  19  20  21  22  23  24  25  26  27  28  29  30  31  32  33  68  69\n",
      "  70  71  72  73  74  75  76  77  78  79  80  81  82  83  84  85  86  87\n",
      "  88  89  90  91  92  93  94  95  96  97  98  99 100 101 102 103 104 105\n",
      " 106 107 108 109 110 111 112 113 114 115 116 117 118 119 120 121 122 123\n",
      " 124 125 126 127 128 129 130 131 132 133 134 135 136 137 138 139 140 141\n",
      " 142 143 144 145 146 147 148 149 150 151 152 153 154 155 156 157 158 159\n",
      " 160 161 162 163 164 165 166 167]\n",
      "\n",
      "Val: [34 35 36 37 38 39 40 41 42 43 44 45 46 47 48 49 50 51 52 53 54 55 56 57\n",
      " 58 59 60 61 62 63 64 65 66 67]\n",
      "\n",
      "\n",
      "Split 3:\n",
      "------------\n",
      "\n",
      "Train: [  0   1   2   3   4   5   6   7   8   9  10  11  12  13  14  15  16  17\n",
      "  18  19  20  21  22  23  24  25  26  27  28  29  30  31  32  33  34  35\n",
      "  36  37  38  39  40  41  42  43  44  45  46  47  48  49  50  51  52  53\n",
      "  54  55  56  57  58  59  60  61  62  63  64  65  66  67 102 103 104 105\n",
      " 106 107 108 109 110 111 112 113 114 115 116 117 118 119 120 121 122 123\n",
      " 124 125 126 127 128 129 130 131 132 133 134 135 136 137 138 139 140 141\n",
      " 142 143 144 145 146 147 148 149 150 151 152 153 154 155 156 157 158 159\n",
      " 160 161 162 163 164 165 166 167]\n",
      "\n",
      "Val: [ 68  69  70  71  72  73  74  75  76  77  78  79  80  81  82  83  84  85\n",
      "  86  87  88  89  90  91  92  93  94  95  96  97  98  99 100 101]\n",
      "\n",
      "\n",
      "Split 4:\n",
      "------------\n",
      "\n",
      "Train: [  0   1   2   3   4   5   6   7   8   9  10  11  12  13  14  15  16  17\n",
      "  18  19  20  21  22  23  24  25  26  27  28  29  30  31  32  33  34  35\n",
      "  36  37  38  39  40  41  42  43  44  45  46  47  48  49  50  51  52  53\n",
      "  54  55  56  57  58  59  60  61  62  63  64  65  66  67  68  69  70  71\n",
      "  72  73  74  75  76  77  78  79  80  81  82  83  84  85  86  87  88  89\n",
      "  90  91  92  93  94  95  96  97  98  99 100 101 135 136 137 138 139 140\n",
      " 141 142 143 144 145 146 147 148 149 150 151 152 153 154 155 156 157 158\n",
      " 159 160 161 162 163 164 165 166 167]\n",
      "\n",
      "Val: [102 103 104 105 106 107 108 109 110 111 112 113 114 115 116 117 118 119\n",
      " 120 121 122 123 124 125 126 127 128 129 130 131 132 133 134]\n",
      "\n",
      "\n",
      "Split 5:\n",
      "------------\n",
      "\n",
      "Train: [  0   1   2   3   4   5   6   7   8   9  10  11  12  13  14  15  16  17\n",
      "  18  19  20  21  22  23  24  25  26  27  28  29  30  31  32  33  34  35\n",
      "  36  37  38  39  40  41  42  43  44  45  46  47  48  49  50  51  52  53\n",
      "  54  55  56  57  58  59  60  61  62  63  64  65  66  67  68  69  70  71\n",
      "  72  73  74  75  76  77  78  79  80  81  82  83  84  85  86  87  88  89\n",
      "  90  91  92  93  94  95  96  97  98  99 100 101 102 103 104 105 106 107\n",
      " 108 109 110 111 112 113 114 115 116 117 118 119 120 121 122 123 124 125\n",
      " 126 127 128 129 130 131 132 133 134]\n",
      "\n",
      "Val: [135 136 137 138 139 140 141 142 143 144 145 146 147 148 149 150 151 152\n",
      " 153 154 155 156 157 158 159 160 161 162 163 164 165 166 167]\n",
      "\n"
     ]
    }
   ],
   "source": [
    "kf = KFold(n_splits=5)\n",
    "\n",
    "print(\"Split Indices:\\n=======================\\n\")\n",
    "for i, (train_idx, val_idx) in enumerate(kf.split(X_train)):\n",
    "    print(f\"\\nSplit {i+1}:\\n------------\\n\")\n",
    "    print(f\"Train: {train_idx}\\n\")\n",
    "    print(f\"Val: {val_idx}\\n\")"
   ]
  },
  {
   "cell_type": "markdown",
   "id": "4a734a7f",
   "metadata": {
    "papermill": {
     "duration": 0.005894,
     "end_time": "2022-10-29T17:08:17.866724",
     "exception": false,
     "start_time": "2022-10-29T17:08:17.860830",
     "status": "completed"
    },
    "tags": []
   },
   "source": [
    "# Cross Validation"
   ]
  },
  {
   "cell_type": "code",
   "execution_count": 8,
   "id": "29e4dc97",
   "metadata": {
    "execution": {
     "iopub.execute_input": "2022-10-29T17:08:17.880382Z",
     "iopub.status.busy": "2022-10-29T17:08:17.879928Z",
     "iopub.status.idle": "2022-10-29T17:08:18.025783Z",
     "shell.execute_reply": "2022-10-29T17:08:18.023860Z"
    },
    "papermill": {
     "duration": 0.155713,
     "end_time": "2022-10-29T17:08:18.028388",
     "exception": false,
     "start_time": "2022-10-29T17:08:17.872675",
     "status": "completed"
    },
    "tags": []
   },
   "outputs": [
    {
     "name": "stdout",
     "output_type": "stream",
     "text": [
      "Cross Validation Scores\n",
      "Model 1: 94.12%\n",
      "Model 2: 97.06%\n",
      "Model 3: 94.12%\n",
      "Model 4: 96.97%\n",
      "Model 5: 100.00%\n",
      "Mean: 96.45%\n"
     ]
    }
   ],
   "source": [
    "scores = cross_val_score(model, X_train, y_train, cv=5)\n",
    "print(\"Cross Validation Scores\")\n",
    "for i, score in enumerate(scores):\n",
    "    print(\"Model {}: {:.2f}%\".format(i+1, score * 100))\n",
    "print(\"Mean: {:.2f}%\".format(scores.mean() * 100))"
   ]
  },
  {
   "cell_type": "markdown",
   "id": "02d190c7",
   "metadata": {
    "papermill": {
     "duration": 0.005544,
     "end_time": "2022-10-29T17:08:18.040146",
     "exception": false,
     "start_time": "2022-10-29T17:08:18.034602",
     "status": "completed"
    },
    "tags": []
   },
   "source": [
    "# Confusion Matrix"
   ]
  },
  {
   "cell_type": "code",
   "execution_count": 9,
   "id": "39b0a0c5",
   "metadata": {
    "execution": {
     "iopub.execute_input": "2022-10-29T17:08:18.053677Z",
     "iopub.status.busy": "2022-10-29T17:08:18.053248Z",
     "iopub.status.idle": "2022-10-29T17:08:18.060349Z",
     "shell.execute_reply": "2022-10-29T17:08:18.058999Z"
    },
    "papermill": {
     "duration": 0.016752,
     "end_time": "2022-10-29T17:08:18.062738",
     "exception": false,
     "start_time": "2022-10-29T17:08:18.045986",
     "status": "completed"
    },
    "tags": []
   },
   "outputs": [],
   "source": [
    "y_pred = model.predict(X_test)"
   ]
  },
  {
   "cell_type": "code",
   "execution_count": 10,
   "id": "e997890c",
   "metadata": {
    "execution": {
     "iopub.execute_input": "2022-10-29T17:08:18.077005Z",
     "iopub.status.busy": "2022-10-29T17:08:18.076620Z",
     "iopub.status.idle": "2022-10-29T17:08:18.464558Z",
     "shell.execute_reply": "2022-10-29T17:08:18.463012Z"
    },
    "papermill": {
     "duration": 0.398791,
     "end_time": "2022-10-29T17:08:18.467771",
     "exception": false,
     "start_time": "2022-10-29T17:08:18.068980",
     "status": "completed"
    },
    "tags": []
   },
   "outputs": [
    {
     "data": {
      "image/png": "[encoded data removed]",
      "text/plain": [
       "<Figure size 432x288 with 2 Axes>"
      ]
     },
     "metadata": {
      "needs_background": "light"
     },
     "output_type": "display_data"
    }
   ],
   "source": [
    "disp = ConfusionMatrixDisplay(confusion_matrix(y_test, y_pred))\n",
    "disp.plot(cmap='Reds')\n",
    "plt.show()"
   ]
  }
 ],
 "metadata": {
  "kernelspec": {
   "display_name": "Python 3",
   "language": "python",
   "name": "python3"
  },
  "language_info": {
   "codemirror_mode": {
    "name": "ipython",
    "version": 3
   },
   "file_extension": ".py",
   "mimetype": "text/x-python",
   "name": "python",
   "nbconvert_exporter": "python",
   "pygments_lexer": "ipython3",
   "version": "3.7.12"
  },
  "papermill": {
   "default_parameters": {},
   "duration": 12.406661,
   "end_time": "2022-10-29T17:08:19.299624",
   "environment_variables": {},
   "exception": null,
   "input_path": "__notebook__.ipynb",
   "output_path": "__notebook__.ipynb",
   "parameters": {},
   "start_time": "2022-10-29T17:08:06.892963",
   "version": "2.3.4"
  }
 },
 "nbformat": 4,
 "nbformat_minor": 5
}
