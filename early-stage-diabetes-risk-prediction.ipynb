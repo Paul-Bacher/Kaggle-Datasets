{
 "cells": [
  {
   "cell_type": "markdown",
   "id": "1a82f4ce",
   "metadata": {
    "papermill": {
     "duration": 0.006875,
     "end_time": "2022-10-20T10:05:01.361903",
     "exception": false,
     "start_time": "2022-10-20T10:05:01.355028",
     "status": "completed"
    },
    "tags": []
   },
   "source": [
    "# 👨‍⚕️ Early Stage Diabetes Risk Prediction\n",
    "---"
   ]
  },
  {
   "cell_type": "markdown",
   "id": "0c1869a4",
   "metadata": {
    "papermill": {
     "duration": 0.004692,
     "end_time": "2022-10-20T10:05:01.371916",
     "exception": false,
     "start_time": "2022-10-20T10:05:01.367224",
     "status": "completed"
    },
    "tags": []
   },
   "source": [
    "Given data about *patient symptoms*, let's try to predict if a given patient is **at risk for diabetes or not**."
   ]
  },
  {
   "cell_type": "markdown",
   "id": "94901e83",
   "metadata": {
    "papermill": {
     "duration": 0.004875,
     "end_time": "2022-10-20T10:05:01.381892",
     "exception": false,
     "start_time": "2022-10-20T10:05:01.377017",
     "status": "completed"
    },
    "tags": []
   },
   "source": [
    "# Getting Started"
   ]
  },
  {
   "cell_type": "code",
   "execution_count": 1,
   "id": "7dbe77e4",
   "metadata": {
    "execution": {
     "iopub.execute_input": "2022-10-20T10:05:01.394941Z",
     "iopub.status.busy": "2022-10-20T10:05:01.393527Z",
     "iopub.status.idle": "2022-10-20T10:05:02.946651Z",
     "shell.execute_reply": "2022-10-20T10:05:02.945396Z"
    },
    "papermill": {
     "duration": 1.562699,
     "end_time": "2022-10-20T10:05:02.949710",
     "exception": false,
     "start_time": "2022-10-20T10:05:01.387011",
     "status": "completed"
    },
    "tags": []
   },
   "outputs": [],
   "source": [
    "# Tools\n",
    "import numpy as np\n",
    "import pandas as pd\n",
    "from sklearn.model_selection import train_test_split, cross_val_score\n",
    "from sklearn.preprocessing import StandardScaler\n",
    "\n",
    "# Models\n",
    "from sklearn.linear_model import LogisticRegression\n",
    "from sklearn.neighbors import KNeighborsClassifier\n",
    "from sklearn.tree import DecisionTreeClassifier\n",
    "from sklearn.svm import LinearSVC, SVC\n",
    "from sklearn.neural_network import MLPClassifier\n",
    "from sklearn.ensemble import RandomForestClassifier, GradientBoostingClassifier\n",
    "\n",
    "# Disable warnings\n",
    "import warnings\n",
    "warnings.filterwarnings(\"ignore\")"
   ]
  },
  {
   "cell_type": "code",
   "execution_count": 2,
   "id": "72497f2e",
   "metadata": {
    "execution": {
     "iopub.execute_input": "2022-10-20T10:05:02.962562Z",
     "iopub.status.busy": "2022-10-20T10:05:02.961441Z",
     "iopub.status.idle": "2022-10-20T10:05:03.020972Z",
     "shell.execute_reply": "2022-10-20T10:05:03.019640Z"
    },
    "papermill": {
     "duration": 0.068906,
     "end_time": "2022-10-20T10:05:03.023909",
     "exception": false,
     "start_time": "2022-10-20T10:05:02.955003",
     "status": "completed"
    },
    "tags": []
   },
   "outputs": [
    {
     "data": {
      "text/html": [
       "<div>\n",
       "<style scoped>\n",
       "    .dataframe tbody tr th:only-of-type {\n",
       "        vertical-align: middle;\n",
       "    }\n",
       "\n",
       "    .dataframe tbody tr th {\n",
       "        vertical-align: top;\n",
       "    }\n",
       "\n",
       "    .dataframe thead th {\n",
       "        text-align: right;\n",
       "    }\n",
       "</style>\n",
       "<table border=\"1\" class=\"dataframe\">\n",
       "  <thead>\n",
       "    <tr style=\"text-align: right;\">\n",
       "      <th></th>\n",
       "      <th>Age</th>\n",
       "      <th>Gender</th>\n",
       "      <th>Polyuria</th>\n",
       "      <th>Polydipsia</th>\n",
       "      <th>sudden weight loss</th>\n",
       "      <th>weakness</th>\n",
       "      <th>Polyphagia</th>\n",
       "      <th>Genital thrush</th>\n",
       "      <th>visual blurring</th>\n",
       "      <th>Itching</th>\n",
       "      <th>Irritability</th>\n",
       "      <th>delayed healing</th>\n",
       "      <th>partial paresis</th>\n",
       "      <th>muscle stiffness</th>\n",
       "      <th>Alopecia</th>\n",
       "      <th>Obesity</th>\n",
       "      <th>class</th>\n",
       "    </tr>\n",
       "  </thead>\n",
       "  <tbody>\n",
       "    <tr>\n",
       "      <th>0</th>\n",
       "      <td>40</td>\n",
       "      <td>Male</td>\n",
       "      <td>No</td>\n",
       "      <td>Yes</td>\n",
       "      <td>No</td>\n",
       "      <td>Yes</td>\n",
       "      <td>No</td>\n",
       "      <td>No</td>\n",
       "      <td>No</td>\n",
       "      <td>Yes</td>\n",
       "      <td>No</td>\n",
       "      <td>Yes</td>\n",
       "      <td>No</td>\n",
       "      <td>Yes</td>\n",
       "      <td>Yes</td>\n",
       "      <td>Yes</td>\n",
       "      <td>Positive</td>\n",
       "    </tr>\n",
       "    <tr>\n",
       "      <th>1</th>\n",
       "      <td>58</td>\n",
       "      <td>Male</td>\n",
       "      <td>No</td>\n",
       "      <td>No</td>\n",
       "      <td>No</td>\n",
       "      <td>Yes</td>\n",
       "      <td>No</td>\n",
       "      <td>No</td>\n",
       "      <td>Yes</td>\n",
       "      <td>No</td>\n",
       "      <td>No</td>\n",
       "      <td>No</td>\n",
       "      <td>Yes</td>\n",
       "      <td>No</td>\n",
       "      <td>Yes</td>\n",
       "      <td>No</td>\n",
       "      <td>Positive</td>\n",
       "    </tr>\n",
       "    <tr>\n",
       "      <th>2</th>\n",
       "      <td>41</td>\n",
       "      <td>Male</td>\n",
       "      <td>Yes</td>\n",
       "      <td>No</td>\n",
       "      <td>No</td>\n",
       "      <td>Yes</td>\n",
       "      <td>Yes</td>\n",
       "      <td>No</td>\n",
       "      <td>No</td>\n",
       "      <td>Yes</td>\n",
       "      <td>No</td>\n",
       "      <td>Yes</td>\n",
       "      <td>No</td>\n",
       "      <td>Yes</td>\n",
       "      <td>Yes</td>\n",
       "      <td>No</td>\n",
       "      <td>Positive</td>\n",
       "    </tr>\n",
       "    <tr>\n",
       "      <th>3</th>\n",
       "      <td>45</td>\n",
       "      <td>Male</td>\n",
       "      <td>No</td>\n",
       "      <td>No</td>\n",
       "      <td>Yes</td>\n",
       "      <td>Yes</td>\n",
       "      <td>Yes</td>\n",
       "      <td>Yes</td>\n",
       "      <td>No</td>\n",
       "      <td>Yes</td>\n",
       "      <td>No</td>\n",
       "      <td>Yes</td>\n",
       "      <td>No</td>\n",
       "      <td>No</td>\n",
       "      <td>No</td>\n",
       "      <td>No</td>\n",
       "      <td>Positive</td>\n",
       "    </tr>\n",
       "    <tr>\n",
       "      <th>4</th>\n",
       "      <td>60</td>\n",
       "      <td>Male</td>\n",
       "      <td>Yes</td>\n",
       "      <td>Yes</td>\n",
       "      <td>Yes</td>\n",
       "      <td>Yes</td>\n",
       "      <td>Yes</td>\n",
       "      <td>No</td>\n",
       "      <td>Yes</td>\n",
       "      <td>Yes</td>\n",
       "      <td>Yes</td>\n",
       "      <td>Yes</td>\n",
       "      <td>Yes</td>\n",
       "      <td>Yes</td>\n",
       "      <td>Yes</td>\n",
       "      <td>Yes</td>\n",
       "      <td>Positive</td>\n",
       "    </tr>\n",
       "    <tr>\n",
       "      <th>...</th>\n",
       "      <td>...</td>\n",
       "      <td>...</td>\n",
       "      <td>...</td>\n",
       "      <td>...</td>\n",
       "      <td>...</td>\n",
       "      <td>...</td>\n",
       "      <td>...</td>\n",
       "      <td>...</td>\n",
       "      <td>...</td>\n",
       "      <td>...</td>\n",
       "      <td>...</td>\n",
       "      <td>...</td>\n",
       "      <td>...</td>\n",
       "      <td>...</td>\n",
       "      <td>...</td>\n",
       "      <td>...</td>\n",
       "      <td>...</td>\n",
       "    </tr>\n",
       "    <tr>\n",
       "      <th>515</th>\n",
       "      <td>39</td>\n",
       "      <td>Female</td>\n",
       "      <td>Yes</td>\n",
       "      <td>Yes</td>\n",
       "      <td>Yes</td>\n",
       "      <td>No</td>\n",
       "      <td>Yes</td>\n",
       "      <td>No</td>\n",
       "      <td>No</td>\n",
       "      <td>Yes</td>\n",
       "      <td>No</td>\n",
       "      <td>Yes</td>\n",
       "      <td>Yes</td>\n",
       "      <td>No</td>\n",
       "      <td>No</td>\n",
       "      <td>No</td>\n",
       "      <td>Positive</td>\n",
       "    </tr>\n",
       "    <tr>\n",
       "      <th>516</th>\n",
       "      <td>48</td>\n",
       "      <td>Female</td>\n",
       "      <td>Yes</td>\n",
       "      <td>Yes</td>\n",
       "      <td>Yes</td>\n",
       "      <td>Yes</td>\n",
       "      <td>Yes</td>\n",
       "      <td>No</td>\n",
       "      <td>No</td>\n",
       "      <td>Yes</td>\n",
       "      <td>Yes</td>\n",
       "      <td>Yes</td>\n",
       "      <td>Yes</td>\n",
       "      <td>No</td>\n",
       "      <td>No</td>\n",
       "      <td>No</td>\n",
       "      <td>Positive</td>\n",
       "    </tr>\n",
       "    <tr>\n",
       "      <th>517</th>\n",
       "      <td>58</td>\n",
       "      <td>Female</td>\n",
       "      <td>Yes</td>\n",
       "      <td>Yes</td>\n",
       "      <td>Yes</td>\n",
       "      <td>Yes</td>\n",
       "      <td>Yes</td>\n",
       "      <td>No</td>\n",
       "      <td>Yes</td>\n",
       "      <td>No</td>\n",
       "      <td>No</td>\n",
       "      <td>No</td>\n",
       "      <td>Yes</td>\n",
       "      <td>Yes</td>\n",
       "      <td>No</td>\n",
       "      <td>Yes</td>\n",
       "      <td>Positive</td>\n",
       "    </tr>\n",
       "    <tr>\n",
       "      <th>518</th>\n",
       "      <td>32</td>\n",
       "      <td>Female</td>\n",
       "      <td>No</td>\n",
       "      <td>No</td>\n",
       "      <td>No</td>\n",
       "      <td>Yes</td>\n",
       "      <td>No</td>\n",
       "      <td>No</td>\n",
       "      <td>Yes</td>\n",
       "      <td>Yes</td>\n",
       "      <td>No</td>\n",
       "      <td>Yes</td>\n",
       "      <td>No</td>\n",
       "      <td>No</td>\n",
       "      <td>Yes</td>\n",
       "      <td>No</td>\n",
       "      <td>Negative</td>\n",
       "    </tr>\n",
       "    <tr>\n",
       "      <th>519</th>\n",
       "      <td>42</td>\n",
       "      <td>Male</td>\n",
       "      <td>No</td>\n",
       "      <td>No</td>\n",
       "      <td>No</td>\n",
       "      <td>No</td>\n",
       "      <td>No</td>\n",
       "      <td>No</td>\n",
       "      <td>No</td>\n",
       "      <td>No</td>\n",
       "      <td>No</td>\n",
       "      <td>No</td>\n",
       "      <td>No</td>\n",
       "      <td>No</td>\n",
       "      <td>No</td>\n",
       "      <td>No</td>\n",
       "      <td>Negative</td>\n",
       "    </tr>\n",
       "  </tbody>\n",
       "</table>\n",
       "<p>520 rows × 17 columns</p>\n",
       "</div>"
      ],
      "text/plain": [
       "     Age  Gender Polyuria Polydipsia sudden weight loss weakness Polyphagia  \\\n",
       "0     40    Male       No        Yes                 No      Yes         No   \n",
       "1     58    Male       No         No                 No      Yes         No   \n",
       "2     41    Male      Yes         No                 No      Yes        Yes   \n",
       "3     45    Male       No         No                Yes      Yes        Yes   \n",
       "4     60    Male      Yes        Yes                Yes      Yes        Yes   \n",
       "..   ...     ...      ...        ...                ...      ...        ...   \n",
       "515   39  Female      Yes        Yes                Yes       No        Yes   \n",
       "516   48  Female      Yes        Yes                Yes      Yes        Yes   \n",
       "517   58  Female      Yes        Yes                Yes      Yes        Yes   \n",
       "518   32  Female       No         No                 No      Yes         No   \n",
       "519   42    Male       No         No                 No       No         No   \n",
       "\n",
       "    Genital thrush visual blurring Itching Irritability delayed healing  \\\n",
       "0               No              No     Yes           No             Yes   \n",
       "1               No             Yes      No           No              No   \n",
       "2               No              No     Yes           No             Yes   \n",
       "3              Yes              No     Yes           No             Yes   \n",
       "4               No             Yes     Yes          Yes             Yes   \n",
       "..             ...             ...     ...          ...             ...   \n",
       "515             No              No     Yes           No             Yes   \n",
       "516             No              No     Yes          Yes             Yes   \n",
       "517             No             Yes      No           No              No   \n",
       "518             No             Yes     Yes           No             Yes   \n",
       "519             No              No      No           No              No   \n",
       "\n",
       "    partial paresis muscle stiffness Alopecia Obesity     class  \n",
       "0                No              Yes      Yes     Yes  Positive  \n",
       "1               Yes               No      Yes      No  Positive  \n",
       "2                No              Yes      Yes      No  Positive  \n",
       "3                No               No       No      No  Positive  \n",
       "4               Yes              Yes      Yes     Yes  Positive  \n",
       "..              ...              ...      ...     ...       ...  \n",
       "515             Yes               No       No      No  Positive  \n",
       "516             Yes               No       No      No  Positive  \n",
       "517             Yes              Yes       No     Yes  Positive  \n",
       "518              No               No      Yes      No  Negative  \n",
       "519              No               No       No      No  Negative  \n",
       "\n",
       "[520 rows x 17 columns]"
      ]
     },
     "execution_count": 2,
     "metadata": {},
     "output_type": "execute_result"
    }
   ],
   "source": [
    "data = pd.read_csv('../input/early-stage-diabetes-risk-prediction-dataset/diabetes_data_upload.csv')\n",
    "data"
   ]
  },
  {
   "cell_type": "code",
   "execution_count": 3,
   "id": "aa68a778",
   "metadata": {
    "execution": {
     "iopub.execute_input": "2022-10-20T10:05:03.038098Z",
     "iopub.status.busy": "2022-10-20T10:05:03.037643Z",
     "iopub.status.idle": "2022-10-20T10:05:03.048942Z",
     "shell.execute_reply": "2022-10-20T10:05:03.047553Z"
    },
    "papermill": {
     "duration": 0.021531,
     "end_time": "2022-10-20T10:05:03.051520",
     "exception": false,
     "start_time": "2022-10-20T10:05:03.029989",
     "status": "completed"
    },
    "tags": []
   },
   "outputs": [
    {
     "data": {
      "text/plain": [
       "Age                   0\n",
       "Gender                0\n",
       "Polyuria              0\n",
       "Polydipsia            0\n",
       "sudden weight loss    0\n",
       "weakness              0\n",
       "Polyphagia            0\n",
       "Genital thrush        0\n",
       "visual blurring       0\n",
       "Itching               0\n",
       "Irritability          0\n",
       "delayed healing       0\n",
       "partial paresis       0\n",
       "muscle stiffness      0\n",
       "Alopecia              0\n",
       "Obesity               0\n",
       "class                 0\n",
       "dtype: int64"
      ]
     },
     "execution_count": 3,
     "metadata": {},
     "output_type": "execute_result"
    }
   ],
   "source": [
    "data.isna().sum()"
   ]
  },
  {
   "cell_type": "markdown",
   "id": "f2e27a0f",
   "metadata": {
    "papermill": {
     "duration": 0.005507,
     "end_time": "2022-10-20T10:05:03.062793",
     "exception": false,
     "start_time": "2022-10-20T10:05:03.057286",
     "status": "completed"
    },
    "tags": []
   },
   "source": [
    "There are no missing values."
   ]
  },
  {
   "cell_type": "code",
   "execution_count": 4,
   "id": "478353d8",
   "metadata": {
    "execution": {
     "iopub.execute_input": "2022-10-20T10:05:03.076225Z",
     "iopub.status.busy": "2022-10-20T10:05:03.075798Z",
     "iopub.status.idle": "2022-10-20T10:05:03.095876Z",
     "shell.execute_reply": "2022-10-20T10:05:03.094834Z"
    },
    "papermill": {
     "duration": 0.029781,
     "end_time": "2022-10-20T10:05:03.098230",
     "exception": false,
     "start_time": "2022-10-20T10:05:03.068449",
     "status": "completed"
    },
    "tags": []
   },
   "outputs": [
    {
     "data": {
      "text/plain": [
       "{'Age': 51,\n",
       " 'Gender': 2,\n",
       " 'Polyuria': 2,\n",
       " 'Polydipsia': 2,\n",
       " 'sudden weight loss': 2,\n",
       " 'weakness': 2,\n",
       " 'Polyphagia': 2,\n",
       " 'Genital thrush': 2,\n",
       " 'visual blurring': 2,\n",
       " 'Itching': 2,\n",
       " 'Irritability': 2,\n",
       " 'delayed healing': 2,\n",
       " 'partial paresis': 2,\n",
       " 'muscle stiffness': 2,\n",
       " 'Alopecia': 2,\n",
       " 'Obesity': 2,\n",
       " 'class': 2}"
      ]
     },
     "execution_count": 4,
     "metadata": {},
     "output_type": "execute_result"
    }
   ],
   "source": [
    "{column: len(data[column].unique()) for column in data.columns}"
   ]
  },
  {
   "cell_type": "markdown",
   "id": "3ca9f1d1",
   "metadata": {
    "papermill": {
     "duration": 0.005358,
     "end_time": "2022-10-20T10:05:03.109455",
     "exception": false,
     "start_time": "2022-10-20T10:05:03.104097",
     "status": "completed"
    },
    "tags": []
   },
   "source": [
    "Most of the columns contain only 2 classes except the age columns.\n",
    "\n",
    "The target is **Positive** or **Negative**."
   ]
  },
  {
   "cell_type": "markdown",
   "id": "d4b7363d",
   "metadata": {
    "papermill": {
     "duration": 0.005299,
     "end_time": "2022-10-20T10:05:03.120430",
     "exception": false,
     "start_time": "2022-10-20T10:05:03.115131",
     "status": "completed"
    },
    "tags": []
   },
   "source": [
    "# Preprocessing"
   ]
  },
  {
   "cell_type": "code",
   "execution_count": 5,
   "id": "eb1e8a13",
   "metadata": {
    "execution": {
     "iopub.execute_input": "2022-10-20T10:05:03.133348Z",
     "iopub.status.busy": "2022-10-20T10:05:03.132941Z",
     "iopub.status.idle": "2022-10-20T10:05:03.142492Z",
     "shell.execute_reply": "2022-10-20T10:05:03.141070Z"
    },
    "papermill": {
     "duration": 0.019035,
     "end_time": "2022-10-20T10:05:03.145096",
     "exception": false,
     "start_time": "2022-10-20T10:05:03.126061",
     "status": "completed"
    },
    "tags": []
   },
   "outputs": [],
   "source": [
    "def preprocess_inputs(df):\n",
    "    df = df.copy()\n",
    "    \n",
    "    # Split X and y\n",
    "    X = df.drop('class', axis=1)\n",
    "    y = df['class']\n",
    "    \n",
    "    # Binary encode X\n",
    "    X = X.replace({'No': 0, 'Yes': 1})\n",
    "    X = X.replace({'Female': 0, 'Male': 1})\n",
    "    \n",
    "    # Train-test split\n",
    "    X_train, X_test, y_train, y_test = train_test_split(X, y, train_size=0.7, shuffle=True, random_state=42)\n",
    "    \n",
    "    # Scale X\n",
    "    scaler = StandardScaler()\n",
    "    X_train = pd.DataFrame(scaler.fit_transform(X_train), index=X_train.index, columns=X_train.columns)\n",
    "    X_test = pd.DataFrame(scaler.transform(X_test), index=X_test.index, columns=X_test.columns)\n",
    "    \n",
    "    \n",
    "    return X_train, X_test, y_train, y_test"
   ]
  },
  {
   "cell_type": "code",
   "execution_count": 6,
   "id": "08273336",
   "metadata": {
    "execution": {
     "iopub.execute_input": "2022-10-20T10:05:03.159541Z",
     "iopub.status.busy": "2022-10-20T10:05:03.159139Z",
     "iopub.status.idle": "2022-10-20T10:05:03.243652Z",
     "shell.execute_reply": "2022-10-20T10:05:03.242481Z"
    },
    "papermill": {
     "duration": 0.095539,
     "end_time": "2022-10-20T10:05:03.246481",
     "exception": false,
     "start_time": "2022-10-20T10:05:03.150942",
     "status": "completed"
    },
    "tags": []
   },
   "outputs": [
    {
     "data": {
      "text/html": [
       "<div>\n",
       "<style scoped>\n",
       "    .dataframe tbody tr th:only-of-type {\n",
       "        vertical-align: middle;\n",
       "    }\n",
       "\n",
       "    .dataframe tbody tr th {\n",
       "        vertical-align: top;\n",
       "    }\n",
       "\n",
       "    .dataframe thead th {\n",
       "        text-align: right;\n",
       "    }\n",
       "</style>\n",
       "<table border=\"1\" class=\"dataframe\">\n",
       "  <thead>\n",
       "    <tr style=\"text-align: right;\">\n",
       "      <th></th>\n",
       "      <th>Age</th>\n",
       "      <th>Gender</th>\n",
       "      <th>Polyuria</th>\n",
       "      <th>Polydipsia</th>\n",
       "      <th>sudden weight loss</th>\n",
       "      <th>weakness</th>\n",
       "      <th>Polyphagia</th>\n",
       "      <th>Genital thrush</th>\n",
       "      <th>visual blurring</th>\n",
       "      <th>Itching</th>\n",
       "      <th>Irritability</th>\n",
       "      <th>delayed healing</th>\n",
       "      <th>partial paresis</th>\n",
       "      <th>muscle stiffness</th>\n",
       "      <th>Alopecia</th>\n",
       "      <th>Obesity</th>\n",
       "    </tr>\n",
       "  </thead>\n",
       "  <tbody>\n",
       "    <tr>\n",
       "      <th>count</th>\n",
       "      <td>3.640000e+02</td>\n",
       "      <td>3.640000e+02</td>\n",
       "      <td>3.640000e+02</td>\n",
       "      <td>3.640000e+02</td>\n",
       "      <td>3.640000e+02</td>\n",
       "      <td>3.640000e+02</td>\n",
       "      <td>3.640000e+02</td>\n",
       "      <td>3.640000e+02</td>\n",
       "      <td>3.640000e+02</td>\n",
       "      <td>3.640000e+02</td>\n",
       "      <td>3.640000e+02</td>\n",
       "      <td>3.640000e+02</td>\n",
       "      <td>3.640000e+02</td>\n",
       "      <td>3.640000e+02</td>\n",
       "      <td>364.000000</td>\n",
       "      <td>3.640000e+02</td>\n",
       "    </tr>\n",
       "    <tr>\n",
       "      <th>mean</th>\n",
       "      <td>-1.268826e-16</td>\n",
       "      <td>1.073622e-16</td>\n",
       "      <td>-8.784182e-17</td>\n",
       "      <td>-2.440051e-17</td>\n",
       "      <td>2.440051e-18</td>\n",
       "      <td>-3.416071e-17</td>\n",
       "      <td>-1.952040e-17</td>\n",
       "      <td>1.122423e-16</td>\n",
       "      <td>5.368111e-17</td>\n",
       "      <td>1.708035e-16</td>\n",
       "      <td>-8.296172e-17</td>\n",
       "      <td>-5.856121e-17</td>\n",
       "      <td>-1.634834e-16</td>\n",
       "      <td>2.745057e-17</td>\n",
       "      <td>0.000000</td>\n",
       "      <td>-1.952040e-17</td>\n",
       "    </tr>\n",
       "    <tr>\n",
       "      <th>std</th>\n",
       "      <td>1.001376e+00</td>\n",
       "      <td>1.001376e+00</td>\n",
       "      <td>1.001376e+00</td>\n",
       "      <td>1.001376e+00</td>\n",
       "      <td>1.001376e+00</td>\n",
       "      <td>1.001376e+00</td>\n",
       "      <td>1.001376e+00</td>\n",
       "      <td>1.001376e+00</td>\n",
       "      <td>1.001376e+00</td>\n",
       "      <td>1.001376e+00</td>\n",
       "      <td>1.001376e+00</td>\n",
       "      <td>1.001376e+00</td>\n",
       "      <td>1.001376e+00</td>\n",
       "      <td>1.001376e+00</td>\n",
       "      <td>1.001376</td>\n",
       "      <td>1.001376e+00</td>\n",
       "    </tr>\n",
       "    <tr>\n",
       "      <th>min</th>\n",
       "      <td>-2.606318e+00</td>\n",
       "      <td>-1.325736e+00</td>\n",
       "      <td>-9.728947e-01</td>\n",
       "      <td>-8.708927e-01</td>\n",
       "      <td>-7.997747e-01</td>\n",
       "      <td>-1.174344e+00</td>\n",
       "      <td>-9.258201e-01</td>\n",
       "      <td>-5.094267e-01</td>\n",
       "      <td>-9.464847e-01</td>\n",
       "      <td>-1.016622e+00</td>\n",
       "      <td>-5.477226e-01</td>\n",
       "      <td>-9.309493e-01</td>\n",
       "      <td>-8.419740e-01</td>\n",
       "      <td>-8.043997e-01</td>\n",
       "      <td>-0.754298</td>\n",
       "      <td>-4.173650e-01</td>\n",
       "    </tr>\n",
       "    <tr>\n",
       "      <th>25%</th>\n",
       "      <td>-8.166253e-01</td>\n",
       "      <td>-1.325736e+00</td>\n",
       "      <td>-9.728947e-01</td>\n",
       "      <td>-8.708927e-01</td>\n",
       "      <td>-7.997747e-01</td>\n",
       "      <td>-1.174344e+00</td>\n",
       "      <td>-9.258201e-01</td>\n",
       "      <td>-5.094267e-01</td>\n",
       "      <td>-9.464847e-01</td>\n",
       "      <td>-1.016622e+00</td>\n",
       "      <td>-5.477226e-01</td>\n",
       "      <td>-9.309493e-01</td>\n",
       "      <td>-8.419740e-01</td>\n",
       "      <td>-8.043997e-01</td>\n",
       "      <td>-0.754298</td>\n",
       "      <td>-4.173650e-01</td>\n",
       "    </tr>\n",
       "    <tr>\n",
       "      <th>50%</th>\n",
       "      <td>-3.128833e-03</td>\n",
       "      <td>7.542980e-01</td>\n",
       "      <td>-9.728947e-01</td>\n",
       "      <td>-8.708927e-01</td>\n",
       "      <td>-7.997747e-01</td>\n",
       "      <td>8.515389e-01</td>\n",
       "      <td>-9.258201e-01</td>\n",
       "      <td>-5.094267e-01</td>\n",
       "      <td>-9.464847e-01</td>\n",
       "      <td>9.836501e-01</td>\n",
       "      <td>-5.477226e-01</td>\n",
       "      <td>-9.309493e-01</td>\n",
       "      <td>-8.419740e-01</td>\n",
       "      <td>-8.043997e-01</td>\n",
       "      <td>-0.754298</td>\n",
       "      <td>-4.173650e-01</td>\n",
       "    </tr>\n",
       "    <tr>\n",
       "      <th>75%</th>\n",
       "      <td>7.290180e-01</td>\n",
       "      <td>7.542980e-01</td>\n",
       "      <td>1.027860e+00</td>\n",
       "      <td>1.148247e+00</td>\n",
       "      <td>1.250352e+00</td>\n",
       "      <td>8.515389e-01</td>\n",
       "      <td>1.080123e+00</td>\n",
       "      <td>-5.094267e-01</td>\n",
       "      <td>1.056541e+00</td>\n",
       "      <td>9.836501e-01</td>\n",
       "      <td>-5.477226e-01</td>\n",
       "      <td>1.074172e+00</td>\n",
       "      <td>1.187685e+00</td>\n",
       "      <td>1.243163e+00</td>\n",
       "      <td>1.325736</td>\n",
       "      <td>-4.173650e-01</td>\n",
       "    </tr>\n",
       "    <tr>\n",
       "      <th>max</th>\n",
       "      <td>3.413556e+00</td>\n",
       "      <td>7.542980e-01</td>\n",
       "      <td>1.027860e+00</td>\n",
       "      <td>1.148247e+00</td>\n",
       "      <td>1.250352e+00</td>\n",
       "      <td>8.515389e-01</td>\n",
       "      <td>1.080123e+00</td>\n",
       "      <td>1.962991e+00</td>\n",
       "      <td>1.056541e+00</td>\n",
       "      <td>9.836501e-01</td>\n",
       "      <td>1.825742e+00</td>\n",
       "      <td>1.074172e+00</td>\n",
       "      <td>1.187685e+00</td>\n",
       "      <td>1.243163e+00</td>\n",
       "      <td>1.325736</td>\n",
       "      <td>2.395984e+00</td>\n",
       "    </tr>\n",
       "  </tbody>\n",
       "</table>\n",
       "</div>"
      ],
      "text/plain": [
       "                Age        Gender      Polyuria    Polydipsia  \\\n",
       "count  3.640000e+02  3.640000e+02  3.640000e+02  3.640000e+02   \n",
       "mean  -1.268826e-16  1.073622e-16 -8.784182e-17 -2.440051e-17   \n",
       "std    1.001376e+00  1.001376e+00  1.001376e+00  1.001376e+00   \n",
       "min   -2.606318e+00 -1.325736e+00 -9.728947e-01 -8.708927e-01   \n",
       "25%   -8.166253e-01 -1.325736e+00 -9.728947e-01 -8.708927e-01   \n",
       "50%   -3.128833e-03  7.542980e-01 -9.728947e-01 -8.708927e-01   \n",
       "75%    7.290180e-01  7.542980e-01  1.027860e+00  1.148247e+00   \n",
       "max    3.413556e+00  7.542980e-01  1.027860e+00  1.148247e+00   \n",
       "\n",
       "       sudden weight loss      weakness    Polyphagia  Genital thrush  \\\n",
       "count        3.640000e+02  3.640000e+02  3.640000e+02    3.640000e+02   \n",
       "mean         2.440051e-18 -3.416071e-17 -1.952040e-17    1.122423e-16   \n",
       "std          1.001376e+00  1.001376e+00  1.001376e+00    1.001376e+00   \n",
       "min         -7.997747e-01 -1.174344e+00 -9.258201e-01   -5.094267e-01   \n",
       "25%         -7.997747e-01 -1.174344e+00 -9.258201e-01   -5.094267e-01   \n",
       "50%         -7.997747e-01  8.515389e-01 -9.258201e-01   -5.094267e-01   \n",
       "75%          1.250352e+00  8.515389e-01  1.080123e+00   -5.094267e-01   \n",
       "max          1.250352e+00  8.515389e-01  1.080123e+00    1.962991e+00   \n",
       "\n",
       "       visual blurring       Itching  Irritability  delayed healing  \\\n",
       "count     3.640000e+02  3.640000e+02  3.640000e+02     3.640000e+02   \n",
       "mean      5.368111e-17  1.708035e-16 -8.296172e-17    -5.856121e-17   \n",
       "std       1.001376e+00  1.001376e+00  1.001376e+00     1.001376e+00   \n",
       "min      -9.464847e-01 -1.016622e+00 -5.477226e-01    -9.309493e-01   \n",
       "25%      -9.464847e-01 -1.016622e+00 -5.477226e-01    -9.309493e-01   \n",
       "50%      -9.464847e-01  9.836501e-01 -5.477226e-01    -9.309493e-01   \n",
       "75%       1.056541e+00  9.836501e-01 -5.477226e-01     1.074172e+00   \n",
       "max       1.056541e+00  9.836501e-01  1.825742e+00     1.074172e+00   \n",
       "\n",
       "       partial paresis  muscle stiffness    Alopecia       Obesity  \n",
       "count     3.640000e+02      3.640000e+02  364.000000  3.640000e+02  \n",
       "mean     -1.634834e-16      2.745057e-17    0.000000 -1.952040e-17  \n",
       "std       1.001376e+00      1.001376e+00    1.001376  1.001376e+00  \n",
       "min      -8.419740e-01     -8.043997e-01   -0.754298 -4.173650e-01  \n",
       "25%      -8.419740e-01     -8.043997e-01   -0.754298 -4.173650e-01  \n",
       "50%      -8.419740e-01     -8.043997e-01   -0.754298 -4.173650e-01  \n",
       "75%       1.187685e+00      1.243163e+00    1.325736 -4.173650e-01  \n",
       "max       1.187685e+00      1.243163e+00    1.325736  2.395984e+00  "
      ]
     },
     "execution_count": 6,
     "metadata": {},
     "output_type": "execute_result"
    }
   ],
   "source": [
    "X_train, X_test, y_train, y_test = preprocess_inputs(data)\n",
    "X_train.describe()"
   ]
  },
  {
   "cell_type": "markdown",
   "id": "1e1103af",
   "metadata": {
    "papermill": {
     "duration": 0.006321,
     "end_time": "2022-10-20T10:05:03.259606",
     "exception": false,
     "start_time": "2022-10-20T10:05:03.253285",
     "status": "completed"
    },
    "tags": []
   },
   "source": [
    "For the training set, the mean is close to 0 and the standard deviation is close to 1 (standard scaling)."
   ]
  },
  {
   "cell_type": "markdown",
   "id": "30aa1dac",
   "metadata": {
    "papermill": {
     "duration": 0.00611,
     "end_time": "2022-10-20T10:05:03.272219",
     "exception": false,
     "start_time": "2022-10-20T10:05:03.266109",
     "status": "completed"
    },
    "tags": []
   },
   "source": [
    "# Training"
   ]
  },
  {
   "cell_type": "code",
   "execution_count": 7,
   "id": "ec3d77a7",
   "metadata": {
    "execution": {
     "iopub.execute_input": "2022-10-20T10:05:03.286969Z",
     "iopub.status.busy": "2022-10-20T10:05:03.286488Z",
     "iopub.status.idle": "2022-10-20T10:05:04.460182Z",
     "shell.execute_reply": "2022-10-20T10:05:04.458608Z"
    },
    "papermill": {
     "duration": 1.184353,
     "end_time": "2022-10-20T10:05:04.462852",
     "exception": false,
     "start_time": "2022-10-20T10:05:03.278499",
     "status": "completed"
    },
    "tags": []
   },
   "outputs": [
    {
     "name": "stdout",
     "output_type": "stream",
     "text": [
      "                   Logistic Regressiontrained.\n",
      "                   K-Nearest Neighborstrained.\n",
      "                         Decision Treetrained.\n",
      "Support Vector Machine (Linear Kernel)trained.\n",
      "   Support Vector Machine (RBF Kernel)trained.\n",
      "                        Neural Networktrained.\n",
      "                         Random Foresttrained.\n",
      "                     Gradient Boostingtrained.\n"
     ]
    }
   ],
   "source": [
    "models = {\n",
    "    \"                   Logistic Regression\": LogisticRegression(),\n",
    "    \"                   K-Nearest Neighbors\": KNeighborsClassifier(),\n",
    "    \"                         Decision Tree\": DecisionTreeClassifier(),\n",
    "    \"Support Vector Machine (Linear Kernel)\": LinearSVC(),\n",
    "    \"   Support Vector Machine (RBF Kernel)\": SVC(),\n",
    "    \"                        Neural Network\": MLPClassifier(),\n",
    "    \"                         Random Forest\": RandomForestClassifier(),\n",
    "    \"                     Gradient Boosting\": GradientBoostingClassifier()    \n",
    "}\n",
    "\n",
    "for name, model in models.items():\n",
    "    model.fit(X_train, y_train)\n",
    "    print(name + \"trained.\")"
   ]
  },
  {
   "cell_type": "markdown",
   "id": "5a063f5a",
   "metadata": {
    "papermill": {
     "duration": 0.006041,
     "end_time": "2022-10-20T10:05:04.475319",
     "exception": false,
     "start_time": "2022-10-20T10:05:04.469278",
     "status": "completed"
    },
    "tags": []
   },
   "source": [
    "# Cross Validation"
   ]
  },
  {
   "cell_type": "code",
   "execution_count": 8,
   "id": "187d7ba0",
   "metadata": {
    "execution": {
     "iopub.execute_input": "2022-10-20T10:05:04.489889Z",
     "iopub.status.busy": "2022-10-20T10:05:04.489447Z",
     "iopub.status.idle": "2022-10-20T10:05:09.895042Z",
     "shell.execute_reply": "2022-10-20T10:05:09.893987Z"
    },
    "papermill": {
     "duration": 5.417467,
     "end_time": "2022-10-20T10:05:09.899163",
     "exception": false,
     "start_time": "2022-10-20T10:05:04.481696",
     "status": "completed"
    },
    "tags": []
   },
   "outputs": [
    {
     "name": "stdout",
     "output_type": "stream",
     "text": [
      "                   Logistic Regression average score: 89.01 %\n",
      "                   K-Nearest Neighbors average score: 92.04 %\n",
      "                         Decision Tree average score: 96.43 %\n",
      "Support Vector Machine (Linear Kernel) average score: 89.56 %\n",
      "   Support Vector Machine (RBF Kernel) average score: 93.96 %\n",
      "                        Neural Network average score: 93.68 %\n",
      "                         Random Forest average score: 95.88 %\n",
      "                     Gradient Boosting average score: 95.89 %\n"
     ]
    }
   ],
   "source": [
    "# Evaluate the model\n",
    "for name, model in models.items():\n",
    "    scores = cross_val_score(model, X_train, y_train, scoring='accuracy', cv=5)\n",
    "    print(name, \"average score: {:.2f} %\".format(scores.mean() * 100))"
   ]
  },
  {
   "cell_type": "markdown",
   "id": "143e1ac4",
   "metadata": {
    "papermill": {
     "duration": 0.006677,
     "end_time": "2022-10-20T10:05:09.913473",
     "exception": false,
     "start_time": "2022-10-20T10:05:09.906796",
     "status": "completed"
    },
    "tags": []
   },
   "source": [
    "# Results"
   ]
  },
  {
   "cell_type": "code",
   "execution_count": 9,
   "id": "16d3a1a7",
   "metadata": {
    "execution": {
     "iopub.execute_input": "2022-10-20T10:05:09.929588Z",
     "iopub.status.busy": "2022-10-20T10:05:09.928400Z",
     "iopub.status.idle": "2022-10-20T10:05:10.016627Z",
     "shell.execute_reply": "2022-10-20T10:05:10.014936Z"
    },
    "papermill": {
     "duration": 0.103489,
     "end_time": "2022-10-20T10:05:10.023825",
     "exception": false,
     "start_time": "2022-10-20T10:05:09.920336",
     "status": "completed"
    },
    "tags": []
   },
   "outputs": [
    {
     "name": "stdout",
     "output_type": "stream",
     "text": [
      "                   Logistic Regressionscore on test set: 93.59 %\n",
      "                   K-Nearest Neighborsscore on test set: 90.38 %\n",
      "                         Decision Treescore on test set: 95.51 %\n",
      "Support Vector Machine (Linear Kernel)score on test set: 93.59 %\n",
      "   Support Vector Machine (RBF Kernel)score on test set: 99.36 %\n",
      "                        Neural Networkscore on test set: 97.44 %\n",
      "                         Random Forestscore on test set: 99.36 %\n",
      "                     Gradient Boostingscore on test set: 98.72 %\n"
     ]
    }
   ],
   "source": [
    "# Predict on test set\n",
    "for name, model in models.items():\n",
    "    print(name + \"score on test set: {:.2f} %\".format(model.score(X_test, y_test) * 100))"
   ]
  },
  {
   "cell_type": "markdown",
   "id": "030cc651",
   "metadata": {
    "papermill": {
     "duration": 0.016439,
     "end_time": "2022-10-20T10:05:10.058482",
     "exception": false,
     "start_time": "2022-10-20T10:05:10.042043",
     "status": "completed"
    },
    "tags": []
   },
   "source": [
    "# Conclusion"
   ]
  },
  {
   "cell_type": "markdown",
   "id": "873030ae",
   "metadata": {
    "papermill": {
     "duration": 0.016898,
     "end_time": "2022-10-20T10:05:10.092507",
     "exception": false,
     "start_time": "2022-10-20T10:05:10.075609",
     "status": "completed"
    },
    "tags": []
   },
   "source": [
    "According to the cross validation, the best models are Decision Tree and Random Forest. It seems that bagging was not helpful in that case.\n",
    "\n",
    "One can notice that other models such as Neural Network give a very good accuracy on the test set, but not as good during cross validation.\n",
    "\n",
    "Sometimes, there is some randomness because of the little amount of data. Cross validation seems to be the best\n",
    "\n"
   ]
  },
  {
   "cell_type": "markdown",
   "id": "114571e6",
   "metadata": {
    "papermill": {
     "duration": 0.00658,
     "end_time": "2022-10-20T10:05:10.107790",
     "exception": false,
     "start_time": "2022-10-20T10:05:10.101210",
     "status": "completed"
    },
    "tags": []
   },
   "source": [
    "**Thank you for reading, have a nice day!**"
   ]
  }
 ],
 "metadata": {
  "kernelspec": {
   "display_name": "Python 3",
   "language": "python",
   "name": "python3"
  },
  "language_info": {
   "codemirror_mode": {
    "name": "ipython",
    "version": 3
   },
   "file_extension": ".py",
   "mimetype": "text/x-python",
   "name": "python",
   "nbconvert_exporter": "python",
   "pygments_lexer": "ipython3",
   "version": "3.7.12"
  },
  "papermill": {
   "default_parameters": {},
   "duration": 19.878411,
   "end_time": "2022-10-20T10:05:10.937906",
   "environment_variables": {},
   "exception": null,
   "input_path": "__notebook__.ipynb",
   "output_path": "__notebook__.ipynb",
   "parameters": {},
   "start_time": "2022-10-20T10:04:51.059495",
   "version": "2.3.4"
  }
 },
 "nbformat": 4,
 "nbformat_minor": 5
}
