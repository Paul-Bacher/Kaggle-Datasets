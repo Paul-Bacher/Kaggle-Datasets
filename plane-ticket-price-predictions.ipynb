{
 "cells": [
  {
   "cell_type": "markdown",
   "id": "be3ba522",
   "metadata": {
    "papermill": {
     "duration": 0.007273,
     "end_time": "2022-10-04T10:23:58.128648",
     "exception": false,
     "start_time": "2022-10-04T10:23:58.121375",
     "status": "completed"
    },
    "tags": []
   },
   "source": [
    "# ✈️ Plane Ticket Price Prediction"
   ]
  },
  {
   "cell_type": "markdown",
   "id": "21bf24e2",
   "metadata": {
    "papermill": {
     "duration": 0.005161,
     "end_time": "2022-10-04T10:23:58.139483",
     "exception": false,
     "start_time": "2022-10-04T10:23:58.134322",
     "status": "completed"
    },
    "tags": []
   },
   "source": [
    "<img src=\"https://drive.google.com/uc?export=download&id=1n1i1ScTdlwaZUx6evCijlwL--MzZbzHo\">"
   ]
  },
  {
   "cell_type": "markdown",
   "id": "d905f0fa",
   "metadata": {
    "papermill": {
     "duration": 0.004524,
     "end_time": "2022-10-04T10:23:58.149104",
     "exception": false,
     "start_time": "2022-10-04T10:23:58.144580",
     "status": "completed"
    },
    "tags": []
   },
   "source": [
    "Given *data from air tickets in India*, let's try to predict the **price** of a flights based on the available parameters."
   ]
  },
  {
   "cell_type": "markdown",
   "id": "15002045",
   "metadata": {
    "papermill": {
     "duration": 0.004508,
     "end_time": "2022-10-04T10:23:58.158406",
     "exception": false,
     "start_time": "2022-10-04T10:23:58.153898",
     "status": "completed"
    },
    "tags": []
   },
   "source": [
    "# Getting Started"
   ]
  },
  {
   "cell_type": "code",
   "execution_count": 1,
   "id": "1ba4a236",
   "metadata": {
    "execution": {
     "iopub.execute_input": "2022-10-04T10:23:58.170496Z",
     "iopub.status.busy": "2022-10-04T10:23:58.169611Z",
     "iopub.status.idle": "2022-10-04T10:24:01.086966Z",
     "shell.execute_reply": "2022-10-04T10:24:01.085826Z"
    },
    "papermill": {
     "duration": 2.926851,
     "end_time": "2022-10-04T10:24:01.090057",
     "exception": false,
     "start_time": "2022-10-04T10:23:58.163206",
     "status": "completed"
    },
    "tags": []
   },
   "outputs": [
    {
     "data": {
      "text/html": [
       "<style type='text/css'>\n",
       ".datatable table.frame { margin-bottom: 0; }\n",
       ".datatable table.frame thead { border-bottom: none; }\n",
       ".datatable table.frame tr.coltypes td {  color: #FFFFFF;  line-height: 6px;  padding: 0 0.5em;}\n",
       ".datatable .bool    { background: #DDDD99; }\n",
       ".datatable .object  { background: #565656; }\n",
       ".datatable .int     { background: #5D9E5D; }\n",
       ".datatable .float   { background: #4040CC; }\n",
       ".datatable .str     { background: #CC4040; }\n",
       ".datatable .time    { background: #40CC40; }\n",
       ".datatable .row_index {  background: var(--jp-border-color3);  border-right: 1px solid var(--jp-border-color0);  color: var(--jp-ui-font-color3);  font-size: 9px;}\n",
       ".datatable .frame tbody td { text-align: left; }\n",
       ".datatable .frame tr.coltypes .row_index {  background: var(--jp-border-color0);}\n",
       ".datatable th:nth-child(2) { padding-left: 12px; }\n",
       ".datatable .hellipsis {  color: var(--jp-cell-editor-border-color);}\n",
       ".datatable .vellipsis {  background: var(--jp-layout-color0);  color: var(--jp-cell-editor-border-color);}\n",
       ".datatable .na {  color: var(--jp-cell-editor-border-color);  font-size: 80%;}\n",
       ".datatable .sp {  opacity: 0.25;}\n",
       ".datatable .footer { font-size: 9px; }\n",
       ".datatable .frame_dimensions {  background: var(--jp-border-color3);  border-top: 1px solid var(--jp-border-color0);  color: var(--jp-ui-font-color3);  display: inline-block;  opacity: 0.6;  padding: 1px 10px 1px 5px;}\n",
       "</style>\n"
      ],
      "text/plain": [
       "<IPython.core.display.HTML object>"
      ]
     },
     "metadata": {},
     "output_type": "display_data"
    }
   ],
   "source": [
    "import numpy as np\n",
    "import pandas as pd\n",
    "import matplotlib.pyplot as plt\n",
    "\n",
    "from sklearn.model_selection import train_test_split\n",
    "from sklearn.preprocessing import StandardScaler\n",
    "\n",
    "from sklearn.ensemble import RandomForestRegressor\n",
    "from xgboost import XGBRegressor\n",
    "from lightgbm import LGBMRegressor\n",
    "from catboost import CatBoostRegressor\n",
    "\n",
    "from sklearn.metrics import r2_score, mean_squared_error, mean_absolute_error, mean_absolute_percentage_error\n",
    "\n",
    "import warnings\n",
    "warnings.filterwarnings(action='ignore')"
   ]
  },
  {
   "cell_type": "markdown",
   "id": "240978dc",
   "metadata": {
    "papermill": {
     "duration": 0.005184,
     "end_time": "2022-10-04T10:24:01.100751",
     "exception": false,
     "start_time": "2022-10-04T10:24:01.095567",
     "status": "completed"
    },
    "tags": []
   },
   "source": [
    "Let's load and look at the data."
   ]
  },
  {
   "cell_type": "code",
   "execution_count": 2,
   "id": "eb6eba53",
   "metadata": {
    "execution": {
     "iopub.execute_input": "2022-10-04T10:24:01.113754Z",
     "iopub.status.busy": "2022-10-04T10:24:01.113239Z",
     "iopub.status.idle": "2022-10-04T10:24:03.479836Z",
     "shell.execute_reply": "2022-10-04T10:24:03.479054Z"
    },
    "papermill": {
     "duration": 2.376324,
     "end_time": "2022-10-04T10:24:03.482529",
     "exception": false,
     "start_time": "2022-10-04T10:24:01.106205",
     "status": "completed"
    },
    "tags": []
   },
   "outputs": [
    {
     "data": {
      "text/html": [
       "<div>\n",
       "<style scoped>\n",
       "    .dataframe tbody tr th:only-of-type {\n",
       "        vertical-align: middle;\n",
       "    }\n",
       "\n",
       "    .dataframe tbody tr th {\n",
       "        vertical-align: top;\n",
       "    }\n",
       "\n",
       "    .dataframe thead th {\n",
       "        text-align: right;\n",
       "    }\n",
       "</style>\n",
       "<table border=\"1\" class=\"dataframe\">\n",
       "  <thead>\n",
       "    <tr style=\"text-align: right;\">\n",
       "      <th></th>\n",
       "      <th>Airline</th>\n",
       "      <th>Date_of_Journey</th>\n",
       "      <th>Source</th>\n",
       "      <th>Destination</th>\n",
       "      <th>Route</th>\n",
       "      <th>Dep_Time</th>\n",
       "      <th>Arrival_Time</th>\n",
       "      <th>Duration</th>\n",
       "      <th>Total_Stops</th>\n",
       "      <th>Additional_Info</th>\n",
       "      <th>Price</th>\n",
       "    </tr>\n",
       "  </thead>\n",
       "  <tbody>\n",
       "    <tr>\n",
       "      <th>0</th>\n",
       "      <td>IndiGo</td>\n",
       "      <td>24/03/2019</td>\n",
       "      <td>Banglore</td>\n",
       "      <td>New Delhi</td>\n",
       "      <td>BLR → DEL</td>\n",
       "      <td>22:20</td>\n",
       "      <td>01:10 22 Mar</td>\n",
       "      <td>2h 50m</td>\n",
       "      <td>non-stop</td>\n",
       "      <td>No info</td>\n",
       "      <td>3897</td>\n",
       "    </tr>\n",
       "    <tr>\n",
       "      <th>1</th>\n",
       "      <td>Air India</td>\n",
       "      <td>1/05/2019</td>\n",
       "      <td>Kolkata</td>\n",
       "      <td>Banglore</td>\n",
       "      <td>CCU → IXR → BBI → BLR</td>\n",
       "      <td>05:50</td>\n",
       "      <td>13:15</td>\n",
       "      <td>7h 25m</td>\n",
       "      <td>2 stops</td>\n",
       "      <td>No info</td>\n",
       "      <td>7662</td>\n",
       "    </tr>\n",
       "    <tr>\n",
       "      <th>2</th>\n",
       "      <td>Jet Airways</td>\n",
       "      <td>9/06/2019</td>\n",
       "      <td>Delhi</td>\n",
       "      <td>Cochin</td>\n",
       "      <td>DEL → LKO → BOM → COK</td>\n",
       "      <td>09:25</td>\n",
       "      <td>04:25 10 Jun</td>\n",
       "      <td>19h</td>\n",
       "      <td>2 stops</td>\n",
       "      <td>No info</td>\n",
       "      <td>13882</td>\n",
       "    </tr>\n",
       "    <tr>\n",
       "      <th>3</th>\n",
       "      <td>IndiGo</td>\n",
       "      <td>12/05/2019</td>\n",
       "      <td>Kolkata</td>\n",
       "      <td>Banglore</td>\n",
       "      <td>CCU → NAG → BLR</td>\n",
       "      <td>18:05</td>\n",
       "      <td>23:30</td>\n",
       "      <td>5h 25m</td>\n",
       "      <td>1 stop</td>\n",
       "      <td>No info</td>\n",
       "      <td>6218</td>\n",
       "    </tr>\n",
       "    <tr>\n",
       "      <th>4</th>\n",
       "      <td>IndiGo</td>\n",
       "      <td>01/03/2019</td>\n",
       "      <td>Banglore</td>\n",
       "      <td>New Delhi</td>\n",
       "      <td>BLR → NAG → DEL</td>\n",
       "      <td>16:50</td>\n",
       "      <td>21:35</td>\n",
       "      <td>4h 45m</td>\n",
       "      <td>1 stop</td>\n",
       "      <td>No info</td>\n",
       "      <td>13302</td>\n",
       "    </tr>\n",
       "    <tr>\n",
       "      <th>...</th>\n",
       "      <td>...</td>\n",
       "      <td>...</td>\n",
       "      <td>...</td>\n",
       "      <td>...</td>\n",
       "      <td>...</td>\n",
       "      <td>...</td>\n",
       "      <td>...</td>\n",
       "      <td>...</td>\n",
       "      <td>...</td>\n",
       "      <td>...</td>\n",
       "      <td>...</td>\n",
       "    </tr>\n",
       "    <tr>\n",
       "      <th>10678</th>\n",
       "      <td>Air Asia</td>\n",
       "      <td>9/04/2019</td>\n",
       "      <td>Kolkata</td>\n",
       "      <td>Banglore</td>\n",
       "      <td>CCU → BLR</td>\n",
       "      <td>19:55</td>\n",
       "      <td>22:25</td>\n",
       "      <td>2h 30m</td>\n",
       "      <td>non-stop</td>\n",
       "      <td>No info</td>\n",
       "      <td>4107</td>\n",
       "    </tr>\n",
       "    <tr>\n",
       "      <th>10679</th>\n",
       "      <td>Air India</td>\n",
       "      <td>27/04/2019</td>\n",
       "      <td>Kolkata</td>\n",
       "      <td>Banglore</td>\n",
       "      <td>CCU → BLR</td>\n",
       "      <td>20:45</td>\n",
       "      <td>23:20</td>\n",
       "      <td>2h 35m</td>\n",
       "      <td>non-stop</td>\n",
       "      <td>No info</td>\n",
       "      <td>4145</td>\n",
       "    </tr>\n",
       "    <tr>\n",
       "      <th>10680</th>\n",
       "      <td>Jet Airways</td>\n",
       "      <td>27/04/2019</td>\n",
       "      <td>Banglore</td>\n",
       "      <td>Delhi</td>\n",
       "      <td>BLR → DEL</td>\n",
       "      <td>08:20</td>\n",
       "      <td>11:20</td>\n",
       "      <td>3h</td>\n",
       "      <td>non-stop</td>\n",
       "      <td>No info</td>\n",
       "      <td>7229</td>\n",
       "    </tr>\n",
       "    <tr>\n",
       "      <th>10681</th>\n",
       "      <td>Vistara</td>\n",
       "      <td>01/03/2019</td>\n",
       "      <td>Banglore</td>\n",
       "      <td>New Delhi</td>\n",
       "      <td>BLR → DEL</td>\n",
       "      <td>11:30</td>\n",
       "      <td>14:10</td>\n",
       "      <td>2h 40m</td>\n",
       "      <td>non-stop</td>\n",
       "      <td>No info</td>\n",
       "      <td>12648</td>\n",
       "    </tr>\n",
       "    <tr>\n",
       "      <th>10682</th>\n",
       "      <td>Air India</td>\n",
       "      <td>9/05/2019</td>\n",
       "      <td>Delhi</td>\n",
       "      <td>Cochin</td>\n",
       "      <td>DEL → GOI → BOM → COK</td>\n",
       "      <td>10:55</td>\n",
       "      <td>19:15</td>\n",
       "      <td>8h 20m</td>\n",
       "      <td>2 stops</td>\n",
       "      <td>No info</td>\n",
       "      <td>11753</td>\n",
       "    </tr>\n",
       "  </tbody>\n",
       "</table>\n",
       "<p>10683 rows × 11 columns</p>\n",
       "</div>"
      ],
      "text/plain": [
       "           Airline Date_of_Journey    Source Destination  \\\n",
       "0           IndiGo      24/03/2019  Banglore   New Delhi   \n",
       "1        Air India       1/05/2019   Kolkata    Banglore   \n",
       "2      Jet Airways       9/06/2019     Delhi      Cochin   \n",
       "3           IndiGo      12/05/2019   Kolkata    Banglore   \n",
       "4           IndiGo      01/03/2019  Banglore   New Delhi   \n",
       "...            ...             ...       ...         ...   \n",
       "10678     Air Asia       9/04/2019   Kolkata    Banglore   \n",
       "10679    Air India      27/04/2019   Kolkata    Banglore   \n",
       "10680  Jet Airways      27/04/2019  Banglore       Delhi   \n",
       "10681      Vistara      01/03/2019  Banglore   New Delhi   \n",
       "10682    Air India       9/05/2019     Delhi      Cochin   \n",
       "\n",
       "                       Route Dep_Time  Arrival_Time Duration Total_Stops  \\\n",
       "0                  BLR → DEL    22:20  01:10 22 Mar   2h 50m    non-stop   \n",
       "1      CCU → IXR → BBI → BLR    05:50         13:15   7h 25m     2 stops   \n",
       "2      DEL → LKO → BOM → COK    09:25  04:25 10 Jun      19h     2 stops   \n",
       "3            CCU → NAG → BLR    18:05         23:30   5h 25m      1 stop   \n",
       "4            BLR → NAG → DEL    16:50         21:35   4h 45m      1 stop   \n",
       "...                      ...      ...           ...      ...         ...   \n",
       "10678              CCU → BLR    19:55         22:25   2h 30m    non-stop   \n",
       "10679              CCU → BLR    20:45         23:20   2h 35m    non-stop   \n",
       "10680              BLR → DEL    08:20         11:20       3h    non-stop   \n",
       "10681              BLR → DEL    11:30         14:10   2h 40m    non-stop   \n",
       "10682  DEL → GOI → BOM → COK    10:55         19:15   8h 20m     2 stops   \n",
       "\n",
       "      Additional_Info  Price  \n",
       "0             No info   3897  \n",
       "1             No info   7662  \n",
       "2             No info  13882  \n",
       "3             No info   6218  \n",
       "4             No info  13302  \n",
       "...               ...    ...  \n",
       "10678         No info   4107  \n",
       "10679         No info   4145  \n",
       "10680         No info   7229  \n",
       "10681         No info  12648  \n",
       "10682         No info  11753  \n",
       "\n",
       "[10683 rows x 11 columns]"
      ]
     },
     "execution_count": 2,
     "metadata": {},
     "output_type": "execute_result"
    }
   ],
   "source": [
    "data = pd.read_excel('../input/plane-ticket-price/Data_Train.xlsx')\n",
    "data"
   ]
  },
  {
   "cell_type": "markdown",
   "id": "58180856",
   "metadata": {
    "papermill": {
     "duration": 0.00568,
     "end_time": "2022-10-04T10:24:03.494631",
     "exception": false,
     "start_time": "2022-10-04T10:24:03.488951",
     "status": "completed"
    },
    "tags": []
   },
   "source": [
    "First, it is good to get an idea of the **features** that will not be useful to us, of those that we can easily exploit.\n",
    "\n",
    "For example in the context of flights, it is reasonable to think that *time data* like travel time or departure time are important. It is the same for the *places* and *number of stops*.\n",
    "\n",
    "After a first glance, the available data is rather interesting. Let's continue with **preprocessing**."
   ]
  },
  {
   "cell_type": "markdown",
   "id": "1bc03ac0",
   "metadata": {
    "papermill": {
     "duration": 0.005219,
     "end_time": "2022-10-04T10:24:03.505652",
     "exception": false,
     "start_time": "2022-10-04T10:24:03.500433",
     "status": "completed"
    },
    "tags": []
   },
   "source": [
    "# Preprocessing"
   ]
  },
  {
   "cell_type": "markdown",
   "id": "3b874700",
   "metadata": {
    "papermill": {
     "duration": 0.005122,
     "end_time": "2022-10-04T10:24:03.516093",
     "exception": false,
     "start_time": "2022-10-04T10:24:03.510971",
     "status": "completed"
    },
    "tags": []
   },
   "source": [
    "I like to build a preprocessing function taking the raw data as input and returning whatever is needed for training and testing."
   ]
  },
  {
   "cell_type": "code",
   "execution_count": 3,
   "id": "ab76cbb6",
   "metadata": {
    "execution": {
     "iopub.execute_input": "2022-10-04T10:24:03.529609Z",
     "iopub.status.busy": "2022-10-04T10:24:03.528955Z",
     "iopub.status.idle": "2022-10-04T10:24:03.546192Z",
     "shell.execute_reply": "2022-10-04T10:24:03.545101Z"
    },
    "papermill": {
     "duration": 0.02716,
     "end_time": "2022-10-04T10:24:03.548744",
     "exception": false,
     "start_time": "2022-10-04T10:24:03.521584",
     "status": "completed"
    },
    "tags": []
   },
   "outputs": [],
   "source": [
    "def preprocess_inputs(df):\n",
    "    df = df.copy()\n",
    "    \n",
    "    # Drop Route\n",
    "    df = df.drop(['Route'], axis=1)\n",
    "    \n",
    "    # Map airlines by their importance\n",
    "    airlines = list(data['Airline'].value_counts().index)\n",
    "    airlines_map = {k: v for v, k in enumerate(airlines)}\n",
    "    df['Airline'] = df['Airline'].map(airlines_map)\n",
    "    \n",
    "    # Extract Days and Months from Date of journey\n",
    "    df['Date_of_Journey'] = pd.to_datetime(df['Date_of_Journey'])\n",
    "    df['Day of Journey'] = df['Date_of_Journey'].apply(lambda x: x.day)\n",
    "    df['Month of Journey'] = df['Date_of_Journey'].apply(lambda x: x.month)\n",
    "    df = df.drop('Date_of_Journey', axis=1)\n",
    "    \n",
    "    # Convert departure and arrival times to minute of the day\n",
    "    df['Dep_Time'] = pd.to_datetime(df['Dep_Time'])\n",
    "    df['Dep_Time'] = df['Dep_Time'].apply(lambda x: x.hour * 60 + x.minute)\n",
    "    df['Arrival_Time'] = pd.to_datetime(df['Arrival_Time'])\n",
    "    df['Arrival_Time'] = df['Arrival_Time'].apply(lambda x: x.hour * 60 + x.minute)   \n",
    "    \n",
    "    # Duration converting to minutes\n",
    "    df['H'] = df['Duration'].str.extract(r'(\\d*(?=h))')\n",
    "    df['M'] = df['Duration'].str.extract(r'(\\d*(?=m))')\n",
    "    df[['H', 'M']] = df[['H', 'M']].fillna(0)\n",
    "    df[['H', 'M']] = df[['H', 'M']].astype(int)\n",
    "    df['Duration'] = df['H'] * 60 + df['M']\n",
    "    df = df.drop(['H', 'M'], axis=1)\n",
    "    \n",
    "    # Convert nb of stops into integer\n",
    "    df['Total_Stops'] = df['Total_Stops'].replace({'non-stop': 0, '1 stop': 1, '2 stops': 2, '3 stops': 3, '4 stops': 4})\n",
    "    \n",
    "    # Features from Additional info\n",
    "    df['Included Meal'] = df['Additional_Info'].apply(lambda x: 0 if x == 'In-flight meal not included' else 1)\n",
    "    df['Included Baggage'] = df['Additional_Info'].apply(lambda x: 0 if x == 'No check-in baggage included' else 1)\n",
    "    df = df.drop('Additional_Info', axis=1)\n",
    "    \n",
    "    # Source and Destination encoding (One-hot)\n",
    "    df = pd.concat([df, pd.get_dummies(df['Source'], prefix='S')], axis=1)\n",
    "    df = pd.concat([df, pd.get_dummies(df['Destination'], prefix='D')], axis=1)\n",
    "    df = df.drop(['Source', 'Destination'], axis=1)\n",
    "    \n",
    "    # Fill in the single remaining missing value (Total Stops) with 0\n",
    "    df = df.fillna(0)\n",
    "    \n",
    "    # Split X and y\n",
    "    X = df.drop(['Price'], axis=1)\n",
    "    y = df['Price']\n",
    "    \n",
    "    # Apply log function to target price\n",
    "    y = np.log(y)\n",
    "    \n",
    "    # Train-test split\n",
    "    X_train, X_test, y_train, y_test = train_test_split(X, y, train_size=0.8, shuffle=True, random_state=0)\n",
    "    \n",
    "    # Scale X\n",
    "    scaler = StandardScaler()\n",
    "    X_train = pd.DataFrame(scaler.fit_transform(X_train), index=X_train.index, columns=X_train.columns)\n",
    "    X_test = pd.DataFrame(scaler.transform(X_test), index=X_test.index, columns=X_test.columns)\n",
    "    \n",
    "    return X_train, X_test, y_train, y_test"
   ]
  },
  {
   "cell_type": "code",
   "execution_count": 4,
   "id": "6a99e281",
   "metadata": {
    "execution": {
     "iopub.execute_input": "2022-10-04T10:24:03.563332Z",
     "iopub.status.busy": "2022-10-04T10:24:03.562890Z",
     "iopub.status.idle": "2022-10-04T10:24:03.972206Z",
     "shell.execute_reply": "2022-10-04T10:24:03.971239Z"
    },
    "papermill": {
     "duration": 0.420971,
     "end_time": "2022-10-04T10:24:03.975397",
     "exception": false,
     "start_time": "2022-10-04T10:24:03.554426",
     "status": "completed"
    },
    "tags": []
   },
   "outputs": [
    {
     "data": {
      "text/html": [
       "<div>\n",
       "<style scoped>\n",
       "    .dataframe tbody tr th:only-of-type {\n",
       "        vertical-align: middle;\n",
       "    }\n",
       "\n",
       "    .dataframe tbody tr th {\n",
       "        vertical-align: top;\n",
       "    }\n",
       "\n",
       "    .dataframe thead th {\n",
       "        text-align: right;\n",
       "    }\n",
       "</style>\n",
       "<table border=\"1\" class=\"dataframe\">\n",
       "  <thead>\n",
       "    <tr style=\"text-align: right;\">\n",
       "      <th></th>\n",
       "      <th>Airline</th>\n",
       "      <th>Dep_Time</th>\n",
       "      <th>Arrival_Time</th>\n",
       "      <th>Duration</th>\n",
       "      <th>Total_Stops</th>\n",
       "      <th>Day of Journey</th>\n",
       "      <th>Month of Journey</th>\n",
       "      <th>Included Meal</th>\n",
       "      <th>Included Baggage</th>\n",
       "      <th>S_Banglore</th>\n",
       "      <th>S_Chennai</th>\n",
       "      <th>S_Delhi</th>\n",
       "      <th>S_Kolkata</th>\n",
       "      <th>S_Mumbai</th>\n",
       "      <th>D_Banglore</th>\n",
       "      <th>D_Cochin</th>\n",
       "      <th>D_Delhi</th>\n",
       "      <th>D_Hyderabad</th>\n",
       "      <th>D_Kolkata</th>\n",
       "      <th>D_New Delhi</th>\n",
       "    </tr>\n",
       "  </thead>\n",
       "  <tbody>\n",
       "    <tr>\n",
       "      <th>508</th>\n",
       "      <td>1.769468</td>\n",
       "      <td>1.300153</td>\n",
       "      <td>0.747300</td>\n",
       "      <td>1.403530</td>\n",
       "      <td>0.270062</td>\n",
       "      <td>0.943622</td>\n",
       "      <td>-0.187969</td>\n",
       "      <td>0.476807</td>\n",
       "      <td>0.177139</td>\n",
       "      <td>-0.510000</td>\n",
       "      <td>-0.193359</td>\n",
       "      <td>-0.858688</td>\n",
       "      <td>1.653826</td>\n",
       "      <td>-0.264554</td>\n",
       "      <td>1.653826</td>\n",
       "      <td>-0.858688</td>\n",
       "      <td>-0.369782</td>\n",
       "      <td>-0.264554</td>\n",
       "      <td>-0.193359</td>\n",
       "      <td>-0.306982</td>\n",
       "    </tr>\n",
       "    <tr>\n",
       "      <th>3071</th>\n",
       "      <td>2.848407</td>\n",
       "      <td>-1.091121</td>\n",
       "      <td>0.099238</td>\n",
       "      <td>-0.334039</td>\n",
       "      <td>0.270062</td>\n",
       "      <td>1.285349</td>\n",
       "      <td>-0.857435</td>\n",
       "      <td>0.476807</td>\n",
       "      <td>0.177139</td>\n",
       "      <td>-0.510000</td>\n",
       "      <td>-0.193359</td>\n",
       "      <td>-0.858688</td>\n",
       "      <td>1.653826</td>\n",
       "      <td>-0.264554</td>\n",
       "      <td>1.653826</td>\n",
       "      <td>-0.858688</td>\n",
       "      <td>-0.369782</td>\n",
       "      <td>-0.264554</td>\n",
       "      <td>-0.193359</td>\n",
       "      <td>-0.306982</td>\n",
       "    </tr>\n",
       "    <tr>\n",
       "      <th>2036</th>\n",
       "      <td>-0.927880</td>\n",
       "      <td>1.734930</td>\n",
       "      <td>-0.487685</td>\n",
       "      <td>0.110226</td>\n",
       "      <td>0.270062</td>\n",
       "      <td>-1.106741</td>\n",
       "      <td>0.146764</td>\n",
       "      <td>0.476807</td>\n",
       "      <td>0.177139</td>\n",
       "      <td>1.960783</td>\n",
       "      <td>-0.193359</td>\n",
       "      <td>-0.858688</td>\n",
       "      <td>-0.604659</td>\n",
       "      <td>-0.264554</td>\n",
       "      <td>-0.604659</td>\n",
       "      <td>-0.858688</td>\n",
       "      <td>-0.369782</td>\n",
       "      <td>-0.264554</td>\n",
       "      <td>-0.193359</td>\n",
       "      <td>3.257516</td>\n",
       "    </tr>\n",
       "    <tr>\n",
       "      <th>49</th>\n",
       "      <td>-0.927880</td>\n",
       "      <td>1.778408</td>\n",
       "      <td>0.771755</td>\n",
       "      <td>1.097481</td>\n",
       "      <td>1.758105</td>\n",
       "      <td>1.627076</td>\n",
       "      <td>0.146764</td>\n",
       "      <td>-2.097286</td>\n",
       "      <td>0.177139</td>\n",
       "      <td>-0.510000</td>\n",
       "      <td>-0.193359</td>\n",
       "      <td>1.164567</td>\n",
       "      <td>-0.604659</td>\n",
       "      <td>-0.264554</td>\n",
       "      <td>-0.604659</td>\n",
       "      <td>1.164567</td>\n",
       "      <td>-0.369782</td>\n",
       "      <td>-0.264554</td>\n",
       "      <td>-0.193359</td>\n",
       "      <td>-0.306982</td>\n",
       "    </tr>\n",
       "    <tr>\n",
       "      <th>9686</th>\n",
       "      <td>-0.388411</td>\n",
       "      <td>1.633482</td>\n",
       "      <td>-1.893855</td>\n",
       "      <td>-0.956010</td>\n",
       "      <td>-1.217980</td>\n",
       "      <td>1.627076</td>\n",
       "      <td>-0.187969</td>\n",
       "      <td>0.476807</td>\n",
       "      <td>0.177139</td>\n",
       "      <td>-0.510000</td>\n",
       "      <td>-0.193359</td>\n",
       "      <td>-0.858688</td>\n",
       "      <td>1.653826</td>\n",
       "      <td>-0.264554</td>\n",
       "      <td>1.653826</td>\n",
       "      <td>-0.858688</td>\n",
       "      <td>-0.369782</td>\n",
       "      <td>-0.264554</td>\n",
       "      <td>-0.193359</td>\n",
       "      <td>-0.306982</td>\n",
       "    </tr>\n",
       "    <tr>\n",
       "      <th>...</th>\n",
       "      <td>...</td>\n",
       "      <td>...</td>\n",
       "      <td>...</td>\n",
       "      <td>...</td>\n",
       "      <td>...</td>\n",
       "      <td>...</td>\n",
       "      <td>...</td>\n",
       "      <td>...</td>\n",
       "      <td>...</td>\n",
       "      <td>...</td>\n",
       "      <td>...</td>\n",
       "      <td>...</td>\n",
       "      <td>...</td>\n",
       "      <td>...</td>\n",
       "      <td>...</td>\n",
       "      <td>...</td>\n",
       "      <td>...</td>\n",
       "      <td>...</td>\n",
       "      <td>...</td>\n",
       "      <td>...</td>\n",
       "    </tr>\n",
       "    <tr>\n",
       "      <th>9225</th>\n",
       "      <td>-0.927880</td>\n",
       "      <td>-1.105614</td>\n",
       "      <td>-1.331387</td>\n",
       "      <td>1.364040</td>\n",
       "      <td>0.270062</td>\n",
       "      <td>-0.765014</td>\n",
       "      <td>2.155162</td>\n",
       "      <td>-2.097286</td>\n",
       "      <td>0.177139</td>\n",
       "      <td>-0.510000</td>\n",
       "      <td>-0.193359</td>\n",
       "      <td>-0.858688</td>\n",
       "      <td>1.653826</td>\n",
       "      <td>-0.264554</td>\n",
       "      <td>1.653826</td>\n",
       "      <td>-0.858688</td>\n",
       "      <td>-0.369782</td>\n",
       "      <td>-0.264554</td>\n",
       "      <td>-0.193359</td>\n",
       "      <td>-0.306982</td>\n",
       "    </tr>\n",
       "    <tr>\n",
       "      <th>4859</th>\n",
       "      <td>0.151059</td>\n",
       "      <td>1.590004</td>\n",
       "      <td>0.808437</td>\n",
       "      <td>1.255441</td>\n",
       "      <td>1.758105</td>\n",
       "      <td>-0.765014</td>\n",
       "      <td>1.150963</td>\n",
       "      <td>0.476807</td>\n",
       "      <td>0.177139</td>\n",
       "      <td>-0.510000</td>\n",
       "      <td>-0.193359</td>\n",
       "      <td>1.164567</td>\n",
       "      <td>-0.604659</td>\n",
       "      <td>-0.264554</td>\n",
       "      <td>-0.604659</td>\n",
       "      <td>1.164567</td>\n",
       "      <td>-0.369782</td>\n",
       "      <td>-0.264554</td>\n",
       "      <td>-0.193359</td>\n",
       "      <td>-0.306982</td>\n",
       "    </tr>\n",
       "    <tr>\n",
       "      <th>3264</th>\n",
       "      <td>-0.927880</td>\n",
       "      <td>-0.844748</td>\n",
       "      <td>-1.368070</td>\n",
       "      <td>1.156716</td>\n",
       "      <td>0.270062</td>\n",
       "      <td>-1.106741</td>\n",
       "      <td>-0.857435</td>\n",
       "      <td>0.476807</td>\n",
       "      <td>0.177139</td>\n",
       "      <td>-0.510000</td>\n",
       "      <td>-0.193359</td>\n",
       "      <td>1.164567</td>\n",
       "      <td>-0.604659</td>\n",
       "      <td>-0.264554</td>\n",
       "      <td>-0.604659</td>\n",
       "      <td>1.164567</td>\n",
       "      <td>-0.369782</td>\n",
       "      <td>-0.264554</td>\n",
       "      <td>-0.193359</td>\n",
       "      <td>-0.306982</td>\n",
       "    </tr>\n",
       "    <tr>\n",
       "      <th>9845</th>\n",
       "      <td>-0.927880</td>\n",
       "      <td>-0.236060</td>\n",
       "      <td>-0.169768</td>\n",
       "      <td>1.709579</td>\n",
       "      <td>0.270062</td>\n",
       "      <td>0.601894</td>\n",
       "      <td>-0.187969</td>\n",
       "      <td>-2.097286</td>\n",
       "      <td>0.177139</td>\n",
       "      <td>-0.510000</td>\n",
       "      <td>-0.193359</td>\n",
       "      <td>1.164567</td>\n",
       "      <td>-0.604659</td>\n",
       "      <td>-0.264554</td>\n",
       "      <td>-0.604659</td>\n",
       "      <td>1.164567</td>\n",
       "      <td>-0.369782</td>\n",
       "      <td>-0.264554</td>\n",
       "      <td>-0.193359</td>\n",
       "      <td>-0.306982</td>\n",
       "    </tr>\n",
       "    <tr>\n",
       "      <th>2732</th>\n",
       "      <td>-0.927880</td>\n",
       "      <td>1.314645</td>\n",
       "      <td>1.444271</td>\n",
       "      <td>1.956393</td>\n",
       "      <td>0.270062</td>\n",
       "      <td>-0.878923</td>\n",
       "      <td>1.150963</td>\n",
       "      <td>0.476807</td>\n",
       "      <td>0.177139</td>\n",
       "      <td>-0.510000</td>\n",
       "      <td>-0.193359</td>\n",
       "      <td>-0.858688</td>\n",
       "      <td>1.653826</td>\n",
       "      <td>-0.264554</td>\n",
       "      <td>1.653826</td>\n",
       "      <td>-0.858688</td>\n",
       "      <td>-0.369782</td>\n",
       "      <td>-0.264554</td>\n",
       "      <td>-0.193359</td>\n",
       "      <td>-0.306982</td>\n",
       "    </tr>\n",
       "  </tbody>\n",
       "</table>\n",
       "<p>8546 rows × 20 columns</p>\n",
       "</div>"
      ],
      "text/plain": [
       "       Airline  Dep_Time  Arrival_Time  Duration  Total_Stops  Day of Journey  \\\n",
       "508   1.769468  1.300153      0.747300  1.403530     0.270062        0.943622   \n",
       "3071  2.848407 -1.091121      0.099238 -0.334039     0.270062        1.285349   \n",
       "2036 -0.927880  1.734930     -0.487685  0.110226     0.270062       -1.106741   \n",
       "49   -0.927880  1.778408      0.771755  1.097481     1.758105        1.627076   \n",
       "9686 -0.388411  1.633482     -1.893855 -0.956010    -1.217980        1.627076   \n",
       "...        ...       ...           ...       ...          ...             ...   \n",
       "9225 -0.927880 -1.105614     -1.331387  1.364040     0.270062       -0.765014   \n",
       "4859  0.151059  1.590004      0.808437  1.255441     1.758105       -0.765014   \n",
       "3264 -0.927880 -0.844748     -1.368070  1.156716     0.270062       -1.106741   \n",
       "9845 -0.927880 -0.236060     -0.169768  1.709579     0.270062        0.601894   \n",
       "2732 -0.927880  1.314645      1.444271  1.956393     0.270062       -0.878923   \n",
       "\n",
       "      Month of Journey  Included Meal  Included Baggage  S_Banglore  \\\n",
       "508          -0.187969       0.476807          0.177139   -0.510000   \n",
       "3071         -0.857435       0.476807          0.177139   -0.510000   \n",
       "2036          0.146764       0.476807          0.177139    1.960783   \n",
       "49            0.146764      -2.097286          0.177139   -0.510000   \n",
       "9686         -0.187969       0.476807          0.177139   -0.510000   \n",
       "...                ...            ...               ...         ...   \n",
       "9225          2.155162      -2.097286          0.177139   -0.510000   \n",
       "4859          1.150963       0.476807          0.177139   -0.510000   \n",
       "3264         -0.857435       0.476807          0.177139   -0.510000   \n",
       "9845         -0.187969      -2.097286          0.177139   -0.510000   \n",
       "2732          1.150963       0.476807          0.177139   -0.510000   \n",
       "\n",
       "      S_Chennai   S_Delhi  S_Kolkata  S_Mumbai  D_Banglore  D_Cochin  \\\n",
       "508   -0.193359 -0.858688   1.653826 -0.264554    1.653826 -0.858688   \n",
       "3071  -0.193359 -0.858688   1.653826 -0.264554    1.653826 -0.858688   \n",
       "2036  -0.193359 -0.858688  -0.604659 -0.264554   -0.604659 -0.858688   \n",
       "49    -0.193359  1.164567  -0.604659 -0.264554   -0.604659  1.164567   \n",
       "9686  -0.193359 -0.858688   1.653826 -0.264554    1.653826 -0.858688   \n",
       "...         ...       ...        ...       ...         ...       ...   \n",
       "9225  -0.193359 -0.858688   1.653826 -0.264554    1.653826 -0.858688   \n",
       "4859  -0.193359  1.164567  -0.604659 -0.264554   -0.604659  1.164567   \n",
       "3264  -0.193359  1.164567  -0.604659 -0.264554   -0.604659  1.164567   \n",
       "9845  -0.193359  1.164567  -0.604659 -0.264554   -0.604659  1.164567   \n",
       "2732  -0.193359 -0.858688   1.653826 -0.264554    1.653826 -0.858688   \n",
       "\n",
       "       D_Delhi  D_Hyderabad  D_Kolkata  D_New Delhi  \n",
       "508  -0.369782    -0.264554  -0.193359    -0.306982  \n",
       "3071 -0.369782    -0.264554  -0.193359    -0.306982  \n",
       "2036 -0.369782    -0.264554  -0.193359     3.257516  \n",
       "49   -0.369782    -0.264554  -0.193359    -0.306982  \n",
       "9686 -0.369782    -0.264554  -0.193359    -0.306982  \n",
       "...        ...          ...        ...          ...  \n",
       "9225 -0.369782    -0.264554  -0.193359    -0.306982  \n",
       "4859 -0.369782    -0.264554  -0.193359    -0.306982  \n",
       "3264 -0.369782    -0.264554  -0.193359    -0.306982  \n",
       "9845 -0.369782    -0.264554  -0.193359    -0.306982  \n",
       "2732 -0.369782    -0.264554  -0.193359    -0.306982  \n",
       "\n",
       "[8546 rows x 20 columns]"
      ]
     },
     "execution_count": 4,
     "metadata": {},
     "output_type": "execute_result"
    }
   ],
   "source": [
    "X_train, X_test, y_train, y_test = preprocess_inputs(data)\n",
    "X_train"
   ]
  },
  {
   "cell_type": "markdown",
   "id": "36313e0f",
   "metadata": {
    "papermill": {
     "duration": 0.005753,
     "end_time": "2022-10-04T10:24:03.987470",
     "exception": false,
     "start_time": "2022-10-04T10:24:03.981717",
     "status": "completed"
    },
    "tags": []
   },
   "source": [
    "# Models"
   ]
  },
  {
   "cell_type": "markdown",
   "id": "53456c2e",
   "metadata": {
    "papermill": {
     "duration": 0.005728,
     "end_time": "2022-10-04T10:24:03.999200",
     "exception": false,
     "start_time": "2022-10-04T10:24:03.993472",
     "status": "completed"
    },
    "tags": []
   },
   "source": [
    "Now preprocessing is done, we can try multiple different models with our data in order to select the best at the end and optimize it."
   ]
  },
  {
   "cell_type": "code",
   "execution_count": 5,
   "id": "eb3fb776",
   "metadata": {
    "execution": {
     "iopub.execute_input": "2022-10-04T10:24:04.013876Z",
     "iopub.status.busy": "2022-10-04T10:24:04.012639Z",
     "iopub.status.idle": "2022-10-04T10:24:09.900110Z",
     "shell.execute_reply": "2022-10-04T10:24:09.899184Z"
    },
    "papermill": {
     "duration": 5.89773,
     "end_time": "2022-10-04T10:24:09.903081",
     "exception": false,
     "start_time": "2022-10-04T10:24:04.005351",
     "status": "completed"
    },
    "tags": []
   },
   "outputs": [
    {
     "name": "stdout",
     "output_type": "stream",
     "text": [
      "-------- Training --------\n",
      "Random Forest trained!\n",
      "      XGBoost trained!\n",
      "     LightGBM trained!\n",
      "     CatBoost trained!\n",
      "---------- Done ----------\n"
     ]
    }
   ],
   "source": [
    "models = {\n",
    "    \"Random Forest\" : RandomForestRegressor(),\n",
    "    \"      XGBoost\" : XGBRegressor(),\n",
    "    \"     LightGBM\" : LGBMRegressor(),\n",
    "    \"     CatBoost\" : CatBoostRegressor(verbose=0)\n",
    "}\n",
    "\n",
    "print(\"-------- Training --------\")\n",
    "for name, model in models.items():\n",
    "    model.fit(X_train, y_train)\n",
    "    print(name + \" trained!\")\n",
    "print(\"---------- Done ----------\")"
   ]
  },
  {
   "cell_type": "markdown",
   "id": "07cb5d91",
   "metadata": {
    "papermill": {
     "duration": 0.006202,
     "end_time": "2022-10-04T10:24:09.916059",
     "exception": false,
     "start_time": "2022-10-04T10:24:09.909857",
     "status": "completed"
    },
    "tags": []
   },
   "source": [
    "# Results"
   ]
  },
  {
   "cell_type": "markdown",
   "id": "4bc70070",
   "metadata": {
    "papermill": {
     "duration": 0.006242,
     "end_time": "2022-10-04T10:24:09.928935",
     "exception": false,
     "start_time": "2022-10-04T10:24:09.922693",
     "status": "completed"
    },
    "tags": []
   },
   "source": [
    "Let's visualize the results with different metrics.\n",
    "\n",
    "Something important before displaying the results is to apply the exponential function to the target since we applied the natural logarithm function during preprocessing."
   ]
  },
  {
   "cell_type": "code",
   "execution_count": 6,
   "id": "a23d650b",
   "metadata": {
    "execution": {
     "iopub.execute_input": "2022-10-04T10:24:09.943880Z",
     "iopub.status.busy": "2022-10-04T10:24:09.943073Z",
     "iopub.status.idle": "2022-10-04T10:24:09.948935Z",
     "shell.execute_reply": "2022-10-04T10:24:09.947700Z"
    },
    "papermill": {
     "duration": 0.016011,
     "end_time": "2022-10-04T10:24:09.951381",
     "exception": false,
     "start_time": "2022-10-04T10:24:09.935370",
     "status": "completed"
    },
    "tags": []
   },
   "outputs": [],
   "source": [
    "y_test = np.exp(y_test)"
   ]
  },
  {
   "cell_type": "code",
   "execution_count": 7,
   "id": "10151e8d",
   "metadata": {
    "execution": {
     "iopub.execute_input": "2022-10-04T10:24:09.966250Z",
     "iopub.status.busy": "2022-10-04T10:24:09.965872Z",
     "iopub.status.idle": "2022-10-04T10:24:10.098783Z",
     "shell.execute_reply": "2022-10-04T10:24:10.097355Z"
    },
    "papermill": {
     "duration": 0.144251,
     "end_time": "2022-10-04T10:24:10.102293",
     "exception": false,
     "start_time": "2022-10-04T10:24:09.958042",
     "status": "completed"
    },
    "tags": []
   },
   "outputs": [
    {
     "name": "stdout",
     "output_type": "stream",
     "text": [
      "Random Forest: R2 Score = 0.8858\n",
      "                   RMSE = 1555\n",
      "                    MAE = 660\n",
      "                   MAPE = 7.34 %\n",
      "\n",
      "      XGBoost: R2 Score = 0.8661\n",
      "                   RMSE = 1684\n",
      "                    MAE = 775\n",
      "                   MAPE = 8.33 %\n",
      "\n",
      "     LightGBM: R2 Score = 0.8563\n",
      "                   RMSE = 1744\n",
      "                    MAE = 909\n",
      "                   MAPE = 9.89 %\n",
      "\n",
      "     CatBoost: R2 Score = 0.8677\n",
      "                   RMSE = 1673\n",
      "                    MAE = 870\n",
      "                   MAPE = 9.40 %\n",
      "\n"
     ]
    }
   ],
   "source": [
    "for name, model in models.items():\n",
    "    y_pred = np.exp(model.predict(X_test))\n",
    "\n",
    "    print(name + \": R2 Score = {:.4f}\".format(r2_score(y_test, y_pred)))\n",
    "    print(\"                   RMSE = {:.0f}\".format(np.sqrt(mean_squared_error(y_test, y_pred))))\n",
    "    print(\"                    MAE = {:.0f}\".format(mean_absolute_error(y_test, y_pred)))\n",
    "    print(\"                   MAPE = {:.2f} %\\n\".format(mean_absolute_percentage_error(y_test, y_pred) * 100))"
   ]
  },
  {
   "cell_type": "markdown",
   "id": "dd0e272b",
   "metadata": {
    "papermill": {
     "duration": 0.006244,
     "end_time": "2022-10-04T10:24:10.115586",
     "exception": false,
     "start_time": "2022-10-04T10:24:10.109342",
     "status": "completed"
    },
    "tags": []
   },
   "source": [
    "The Random Forest model gives the best resuts.\n",
    "\n",
    "Let's look at the predicted values compared to the actual values of the ticket prices."
   ]
  },
  {
   "cell_type": "code",
   "execution_count": 8,
   "id": "86c1237d",
   "metadata": {
    "execution": {
     "iopub.execute_input": "2022-10-04T10:24:10.130869Z",
     "iopub.status.busy": "2022-10-04T10:24:10.130449Z",
     "iopub.status.idle": "2022-10-04T10:24:10.600419Z",
     "shell.execute_reply": "2022-10-04T10:24:10.599138Z"
    },
    "papermill": {
     "duration": 0.480643,
     "end_time": "2022-10-04T10:24:10.602907",
     "exception": false,
     "start_time": "2022-10-04T10:24:10.122264",
     "status": "completed"
    },
    "tags": []
   },
   "outputs": [
    {
     "data": {
      "image/png": "[encoded data removed]",
      "text/plain": [
       "<Figure size 720x432 with 1 Axes>"
      ]
     },
     "metadata": {
      "needs_background": "light"
     },
     "output_type": "display_data"
    }
   ],
   "source": [
    "# Random Forest predictions\n",
    "y_pred = np.exp(models['Random Forest'].predict(X_test))\n",
    "\n",
    "# Display\n",
    "plt.figure(figsize=(10, 6))\n",
    "plt.scatter(y_pred, y_test, edgecolor='k')\n",
    "plt.plot([y_pred.min(), y_pred.max()], [y_pred.min(), y_pred.max()], c='r', lw=2)\n",
    "plt.title(\"Actual VS Predicted Prices\")\n",
    "plt.xlabel(\"Predicted Price\")\n",
    "plt.ylabel(\"Actual Price\")\n",
    "plt.show()"
   ]
  },
  {
   "cell_type": "markdown",
   "id": "0f044d2d",
   "metadata": {
    "papermill": {
     "duration": 0.007469,
     "end_time": "2022-10-04T10:24:10.618050",
     "exception": false,
     "start_time": "2022-10-04T10:24:10.610581",
     "status": "completed"
    },
    "tags": []
   },
   "source": [
    "As we can see, the model seems to give correct predictions in general.\n",
    "\n",
    "It should be noted that we have not done any work on the **outliers**. Of course, a little more thorough cleaning of the data would give us even better results."
   ]
  },
  {
   "cell_type": "markdown",
   "id": "09fccb05",
   "metadata": {
    "papermill": {
     "duration": 0.007164,
     "end_time": "2022-10-04T10:24:10.632720",
     "exception": false,
     "start_time": "2022-10-04T10:24:10.625556",
     "status": "completed"
    },
    "tags": []
   },
   "source": [
    "Thank you very much for reading my work until the end. If you have any suggestion, please let me know.\n",
    "\n",
    "**Have a nice day! 🙂**"
   ]
  }
 ],
 "metadata": {
  "kernelspec": {
   "display_name": "Python 3",
   "language": "python",
   "name": "python3"
  },
  "language_info": {
   "codemirror_mode": {
    "name": "ipython",
    "version": 3
   },
   "file_extension": ".py",
   "mimetype": "text/x-python",
   "name": "python",
   "nbconvert_exporter": "python",
   "pygments_lexer": "ipython3",
   "version": "3.7.12"
  },
  "papermill": {
   "default_parameters": {},
   "duration": 22.485659,
   "end_time": "2022-10-04T10:24:11.462446",
   "environment_variables": {},
   "exception": null,
   "input_path": "__notebook__.ipynb",
   "output_path": "__notebook__.ipynb",
   "parameters": {},
   "start_time": "2022-10-04T10:23:48.976787",
   "version": "2.3.4"
  }
 },
 "nbformat": 4,
 "nbformat_minor": 5
}
