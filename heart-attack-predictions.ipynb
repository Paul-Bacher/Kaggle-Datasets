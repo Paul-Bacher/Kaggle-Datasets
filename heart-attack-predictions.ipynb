{
 "cells": [
  {
   "cell_type": "markdown",
   "id": "35e5e648",
   "metadata": {
    "papermill": {
     "duration": 0.006159,
     "end_time": "2022-10-10T18:27:28.691511",
     "exception": false,
     "start_time": "2022-10-10T18:27:28.685352",
     "status": "completed"
    },
    "tags": []
   },
   "source": [
    "# Heart Attack Predictions"
   ]
  },
  {
   "cell_type": "markdown",
   "id": "22a9a1db",
   "metadata": {
    "papermill": {
     "duration": 0.0047,
     "end_time": "2022-10-10T18:27:28.701220",
     "exception": false,
     "start_time": "2022-10-10T18:27:28.696520",
     "status": "completed"
    },
    "tags": []
   },
   "source": [
    "<img src=\"https://drive.google.com/uc?export=download&id=1M10J_fLbeNR7qHz1ffAFHRw-JsE3FpH9\">"
   ]
  },
  {
   "cell_type": "markdown",
   "id": "aefb6fa2",
   "metadata": {
    "papermill": {
     "duration": 0.004419,
     "end_time": "2022-10-10T18:27:28.710334",
     "exception": false,
     "start_time": "2022-10-10T18:27:28.705915",
     "status": "completed"
    },
    "tags": []
   },
   "source": [
    "Given medical data collected on patients, let's predict if a person has a risk of heart attack."
   ]
  },
  {
   "cell_type": "code",
   "execution_count": 1,
   "id": "18eee197",
   "metadata": {
    "execution": {
     "iopub.execute_input": "2022-10-10T18:27:28.721937Z",
     "iopub.status.busy": "2022-10-10T18:27:28.721158Z",
     "iopub.status.idle": "2022-10-10T18:27:30.150568Z",
     "shell.execute_reply": "2022-10-10T18:27:30.149145Z"
    },
    "papermill": {
     "duration": 1.438862,
     "end_time": "2022-10-10T18:27:30.153807",
     "exception": false,
     "start_time": "2022-10-10T18:27:28.714945",
     "status": "completed"
    },
    "tags": []
   },
   "outputs": [],
   "source": [
    "import numpy as np\n",
    "import pandas as pd\n",
    "import matplotlib.pyplot as plt\n",
    "import seaborn as sns\n",
    "\n",
    "from sklearn.model_selection import train_test_split\n",
    "from sklearn.preprocessing import StandardScaler\n",
    "\n",
    "from sklearn.linear_model import LogisticRegression\n",
    "from sklearn.neighbors import  KNeighborsClassifier\n",
    "from sklearn.ensemble import RandomForestClassifier\n",
    "from sklearn.neural_network import  MLPClassifier\n",
    "from sklearn.svm import SVC\n",
    "\n",
    "from sklearn.ensemble import VotingClassifier\n",
    "\n",
    "from sklearn.metrics import accuracy_score, f1_score, recall_score, precision_score, confusion_matrix"
   ]
  },
  {
   "cell_type": "code",
   "execution_count": 2,
   "id": "dd4b8141",
   "metadata": {
    "execution": {
     "iopub.execute_input": "2022-10-10T18:27:30.165837Z",
     "iopub.status.busy": "2022-10-10T18:27:30.165322Z",
     "iopub.status.idle": "2022-10-10T18:27:30.213504Z",
     "shell.execute_reply": "2022-10-10T18:27:30.212293Z"
    },
    "papermill": {
     "duration": 0.057303,
     "end_time": "2022-10-10T18:27:30.216211",
     "exception": false,
     "start_time": "2022-10-10T18:27:30.158908",
     "status": "completed"
    },
    "tags": []
   },
   "outputs": [
    {
     "data": {
      "text/html": [
       "<div>\n",
       "<style scoped>\n",
       "    .dataframe tbody tr th:only-of-type {\n",
       "        vertical-align: middle;\n",
       "    }\n",
       "\n",
       "    .dataframe tbody tr th {\n",
       "        vertical-align: top;\n",
       "    }\n",
       "\n",
       "    .dataframe thead th {\n",
       "        text-align: right;\n",
       "    }\n",
       "</style>\n",
       "<table border=\"1\" class=\"dataframe\">\n",
       "  <thead>\n",
       "    <tr style=\"text-align: right;\">\n",
       "      <th></th>\n",
       "      <th>age</th>\n",
       "      <th>sex</th>\n",
       "      <th>cp</th>\n",
       "      <th>trtbps</th>\n",
       "      <th>chol</th>\n",
       "      <th>fbs</th>\n",
       "      <th>restecg</th>\n",
       "      <th>thalachh</th>\n",
       "      <th>exng</th>\n",
       "      <th>oldpeak</th>\n",
       "      <th>slp</th>\n",
       "      <th>caa</th>\n",
       "      <th>thall</th>\n",
       "      <th>output</th>\n",
       "    </tr>\n",
       "  </thead>\n",
       "  <tbody>\n",
       "    <tr>\n",
       "      <th>0</th>\n",
       "      <td>63</td>\n",
       "      <td>1</td>\n",
       "      <td>3</td>\n",
       "      <td>145</td>\n",
       "      <td>233</td>\n",
       "      <td>1</td>\n",
       "      <td>0</td>\n",
       "      <td>150</td>\n",
       "      <td>0</td>\n",
       "      <td>2.3</td>\n",
       "      <td>0</td>\n",
       "      <td>0</td>\n",
       "      <td>1</td>\n",
       "      <td>1</td>\n",
       "    </tr>\n",
       "    <tr>\n",
       "      <th>1</th>\n",
       "      <td>37</td>\n",
       "      <td>1</td>\n",
       "      <td>2</td>\n",
       "      <td>130</td>\n",
       "      <td>250</td>\n",
       "      <td>0</td>\n",
       "      <td>1</td>\n",
       "      <td>187</td>\n",
       "      <td>0</td>\n",
       "      <td>3.5</td>\n",
       "      <td>0</td>\n",
       "      <td>0</td>\n",
       "      <td>2</td>\n",
       "      <td>1</td>\n",
       "    </tr>\n",
       "    <tr>\n",
       "      <th>2</th>\n",
       "      <td>41</td>\n",
       "      <td>0</td>\n",
       "      <td>1</td>\n",
       "      <td>130</td>\n",
       "      <td>204</td>\n",
       "      <td>0</td>\n",
       "      <td>0</td>\n",
       "      <td>172</td>\n",
       "      <td>0</td>\n",
       "      <td>1.4</td>\n",
       "      <td>2</td>\n",
       "      <td>0</td>\n",
       "      <td>2</td>\n",
       "      <td>1</td>\n",
       "    </tr>\n",
       "    <tr>\n",
       "      <th>3</th>\n",
       "      <td>56</td>\n",
       "      <td>1</td>\n",
       "      <td>1</td>\n",
       "      <td>120</td>\n",
       "      <td>236</td>\n",
       "      <td>0</td>\n",
       "      <td>1</td>\n",
       "      <td>178</td>\n",
       "      <td>0</td>\n",
       "      <td>0.8</td>\n",
       "      <td>2</td>\n",
       "      <td>0</td>\n",
       "      <td>2</td>\n",
       "      <td>1</td>\n",
       "    </tr>\n",
       "    <tr>\n",
       "      <th>4</th>\n",
       "      <td>57</td>\n",
       "      <td>0</td>\n",
       "      <td>0</td>\n",
       "      <td>120</td>\n",
       "      <td>354</td>\n",
       "      <td>0</td>\n",
       "      <td>1</td>\n",
       "      <td>163</td>\n",
       "      <td>1</td>\n",
       "      <td>0.6</td>\n",
       "      <td>2</td>\n",
       "      <td>0</td>\n",
       "      <td>2</td>\n",
       "      <td>1</td>\n",
       "    </tr>\n",
       "    <tr>\n",
       "      <th>...</th>\n",
       "      <td>...</td>\n",
       "      <td>...</td>\n",
       "      <td>...</td>\n",
       "      <td>...</td>\n",
       "      <td>...</td>\n",
       "      <td>...</td>\n",
       "      <td>...</td>\n",
       "      <td>...</td>\n",
       "      <td>...</td>\n",
       "      <td>...</td>\n",
       "      <td>...</td>\n",
       "      <td>...</td>\n",
       "      <td>...</td>\n",
       "      <td>...</td>\n",
       "    </tr>\n",
       "    <tr>\n",
       "      <th>298</th>\n",
       "      <td>57</td>\n",
       "      <td>0</td>\n",
       "      <td>0</td>\n",
       "      <td>140</td>\n",
       "      <td>241</td>\n",
       "      <td>0</td>\n",
       "      <td>1</td>\n",
       "      <td>123</td>\n",
       "      <td>1</td>\n",
       "      <td>0.2</td>\n",
       "      <td>1</td>\n",
       "      <td>0</td>\n",
       "      <td>3</td>\n",
       "      <td>0</td>\n",
       "    </tr>\n",
       "    <tr>\n",
       "      <th>299</th>\n",
       "      <td>45</td>\n",
       "      <td>1</td>\n",
       "      <td>3</td>\n",
       "      <td>110</td>\n",
       "      <td>264</td>\n",
       "      <td>0</td>\n",
       "      <td>1</td>\n",
       "      <td>132</td>\n",
       "      <td>0</td>\n",
       "      <td>1.2</td>\n",
       "      <td>1</td>\n",
       "      <td>0</td>\n",
       "      <td>3</td>\n",
       "      <td>0</td>\n",
       "    </tr>\n",
       "    <tr>\n",
       "      <th>300</th>\n",
       "      <td>68</td>\n",
       "      <td>1</td>\n",
       "      <td>0</td>\n",
       "      <td>144</td>\n",
       "      <td>193</td>\n",
       "      <td>1</td>\n",
       "      <td>1</td>\n",
       "      <td>141</td>\n",
       "      <td>0</td>\n",
       "      <td>3.4</td>\n",
       "      <td>1</td>\n",
       "      <td>2</td>\n",
       "      <td>3</td>\n",
       "      <td>0</td>\n",
       "    </tr>\n",
       "    <tr>\n",
       "      <th>301</th>\n",
       "      <td>57</td>\n",
       "      <td>1</td>\n",
       "      <td>0</td>\n",
       "      <td>130</td>\n",
       "      <td>131</td>\n",
       "      <td>0</td>\n",
       "      <td>1</td>\n",
       "      <td>115</td>\n",
       "      <td>1</td>\n",
       "      <td>1.2</td>\n",
       "      <td>1</td>\n",
       "      <td>1</td>\n",
       "      <td>3</td>\n",
       "      <td>0</td>\n",
       "    </tr>\n",
       "    <tr>\n",
       "      <th>302</th>\n",
       "      <td>57</td>\n",
       "      <td>0</td>\n",
       "      <td>1</td>\n",
       "      <td>130</td>\n",
       "      <td>236</td>\n",
       "      <td>0</td>\n",
       "      <td>0</td>\n",
       "      <td>174</td>\n",
       "      <td>0</td>\n",
       "      <td>0.0</td>\n",
       "      <td>1</td>\n",
       "      <td>1</td>\n",
       "      <td>2</td>\n",
       "      <td>0</td>\n",
       "    </tr>\n",
       "  </tbody>\n",
       "</table>\n",
       "<p>303 rows × 14 columns</p>\n",
       "</div>"
      ],
      "text/plain": [
       "     age  sex  cp  trtbps  chol  fbs  restecg  thalachh  exng  oldpeak  slp  \\\n",
       "0     63    1   3     145   233    1        0       150     0      2.3    0   \n",
       "1     37    1   2     130   250    0        1       187     0      3.5    0   \n",
       "2     41    0   1     130   204    0        0       172     0      1.4    2   \n",
       "3     56    1   1     120   236    0        1       178     0      0.8    2   \n",
       "4     57    0   0     120   354    0        1       163     1      0.6    2   \n",
       "..   ...  ...  ..     ...   ...  ...      ...       ...   ...      ...  ...   \n",
       "298   57    0   0     140   241    0        1       123     1      0.2    1   \n",
       "299   45    1   3     110   264    0        1       132     0      1.2    1   \n",
       "300   68    1   0     144   193    1        1       141     0      3.4    1   \n",
       "301   57    1   0     130   131    0        1       115     1      1.2    1   \n",
       "302   57    0   1     130   236    0        0       174     0      0.0    1   \n",
       "\n",
       "     caa  thall  output  \n",
       "0      0      1       1  \n",
       "1      0      2       1  \n",
       "2      0      2       1  \n",
       "3      0      2       1  \n",
       "4      0      2       1  \n",
       "..   ...    ...     ...  \n",
       "298    0      3       0  \n",
       "299    0      3       0  \n",
       "300    2      3       0  \n",
       "301    1      3       0  \n",
       "302    1      2       0  \n",
       "\n",
       "[303 rows x 14 columns]"
      ]
     },
     "execution_count": 2,
     "metadata": {},
     "output_type": "execute_result"
    }
   ],
   "source": [
    "data = pd.read_csv('../input/heart-attack-analysis-prediction-dataset/heart.csv')\n",
    "data"
   ]
  },
  {
   "cell_type": "markdown",
   "id": "934dce66",
   "metadata": {
    "papermill": {
     "duration": 0.005103,
     "end_time": "2022-10-10T18:27:30.226915",
     "exception": false,
     "start_time": "2022-10-10T18:27:30.221812",
     "status": "completed"
    },
    "tags": []
   },
   "source": [
    "The data is entirely numerical and there is no missing values. It only remains to split and scale the data."
   ]
  },
  {
   "cell_type": "markdown",
   "id": "ae7c29f3",
   "metadata": {
    "papermill": {
     "duration": 0.005038,
     "end_time": "2022-10-10T18:27:30.237327",
     "exception": false,
     "start_time": "2022-10-10T18:27:30.232289",
     "status": "completed"
    },
    "tags": []
   },
   "source": [
    "# Preprocessing"
   ]
  },
  {
   "cell_type": "code",
   "execution_count": 3,
   "id": "eed6562c",
   "metadata": {
    "execution": {
     "iopub.execute_input": "2022-10-10T18:27:30.249828Z",
     "iopub.status.busy": "2022-10-10T18:27:30.249356Z",
     "iopub.status.idle": "2022-10-10T18:27:30.257610Z",
     "shell.execute_reply": "2022-10-10T18:27:30.256392Z"
    },
    "papermill": {
     "duration": 0.017368,
     "end_time": "2022-10-10T18:27:30.260104",
     "exception": false,
     "start_time": "2022-10-10T18:27:30.242736",
     "status": "completed"
    },
    "tags": []
   },
   "outputs": [],
   "source": [
    "def preprocess_inputs(df):\n",
    "    df = df.copy()\n",
    "    \n",
    "    # Split X and y\n",
    "    X = df.drop('output', axis=1)\n",
    "    y = df['output']\n",
    "    \n",
    "    # Train and test sets\n",
    "    X_train, X_test, y_train, y_test = train_test_split(X, y, train_size=0.8, shuffle=True, random_state=0)\n",
    "    \n",
    "    # Scale X with a standard scaler\n",
    "    scaler = StandardScaler()\n",
    "    X_train = pd.DataFrame(scaler.fit_transform(X_train), index=X_train.index, columns=X_train.columns)\n",
    "    X_test = pd.DataFrame(scaler.transform(X_test), index=X_test.index, columns=X_test.columns)\n",
    "    \n",
    "    return X_train, X_test, y_train, y_test"
   ]
  },
  {
   "cell_type": "code",
   "execution_count": 4,
   "id": "ac16a778",
   "metadata": {
    "execution": {
     "iopub.execute_input": "2022-10-10T18:27:30.272699Z",
     "iopub.status.busy": "2022-10-10T18:27:30.272173Z",
     "iopub.status.idle": "2022-10-10T18:27:30.311485Z",
     "shell.execute_reply": "2022-10-10T18:27:30.310478Z"
    },
    "papermill": {
     "duration": 0.048929,
     "end_time": "2022-10-10T18:27:30.314442",
     "exception": false,
     "start_time": "2022-10-10T18:27:30.265513",
     "status": "completed"
    },
    "tags": []
   },
   "outputs": [
    {
     "data": {
      "text/html": [
       "<div>\n",
       "<style scoped>\n",
       "    .dataframe tbody tr th:only-of-type {\n",
       "        vertical-align: middle;\n",
       "    }\n",
       "\n",
       "    .dataframe tbody tr th {\n",
       "        vertical-align: top;\n",
       "    }\n",
       "\n",
       "    .dataframe thead th {\n",
       "        text-align: right;\n",
       "    }\n",
       "</style>\n",
       "<table border=\"1\" class=\"dataframe\">\n",
       "  <thead>\n",
       "    <tr style=\"text-align: right;\">\n",
       "      <th></th>\n",
       "      <th>age</th>\n",
       "      <th>sex</th>\n",
       "      <th>cp</th>\n",
       "      <th>trtbps</th>\n",
       "      <th>chol</th>\n",
       "      <th>fbs</th>\n",
       "      <th>restecg</th>\n",
       "      <th>thalachh</th>\n",
       "      <th>exng</th>\n",
       "      <th>oldpeak</th>\n",
       "      <th>slp</th>\n",
       "      <th>caa</th>\n",
       "      <th>thall</th>\n",
       "    </tr>\n",
       "  </thead>\n",
       "  <tbody>\n",
       "    <tr>\n",
       "      <th>74</th>\n",
       "      <td>-1.327733</td>\n",
       "      <td>-1.436416</td>\n",
       "      <td>0.985842</td>\n",
       "      <td>-0.574125</td>\n",
       "      <td>-0.632674</td>\n",
       "      <td>-0.418040</td>\n",
       "      <td>0.901639</td>\n",
       "      <td>0.656262</td>\n",
       "      <td>-0.709299</td>\n",
       "      <td>-0.724609</td>\n",
       "      <td>-0.661693</td>\n",
       "      <td>-0.707107</td>\n",
       "      <td>-0.464729</td>\n",
       "    </tr>\n",
       "    <tr>\n",
       "      <th>153</th>\n",
       "      <td>1.249032</td>\n",
       "      <td>-1.436416</td>\n",
       "      <td>0.985842</td>\n",
       "      <td>0.831066</td>\n",
       "      <td>0.585437</td>\n",
       "      <td>-0.418040</td>\n",
       "      <td>-0.979367</td>\n",
       "      <td>0.094007</td>\n",
       "      <td>-0.709299</td>\n",
       "      <td>-0.892493</td>\n",
       "      <td>-0.661693</td>\n",
       "      <td>0.265165</td>\n",
       "      <td>-0.464729</td>\n",
       "    </tr>\n",
       "    <tr>\n",
       "      <th>64</th>\n",
       "      <td>0.352766</td>\n",
       "      <td>0.696177</td>\n",
       "      <td>0.985842</td>\n",
       "      <td>0.479768</td>\n",
       "      <td>-0.670155</td>\n",
       "      <td>2.392117</td>\n",
       "      <td>-0.979367</td>\n",
       "      <td>0.656262</td>\n",
       "      <td>-0.709299</td>\n",
       "      <td>-0.892493</td>\n",
       "      <td>0.955779</td>\n",
       "      <td>-0.707107</td>\n",
       "      <td>-0.464729</td>\n",
       "    </tr>\n",
       "    <tr>\n",
       "      <th>296</th>\n",
       "      <td>0.912932</td>\n",
       "      <td>-1.436416</td>\n",
       "      <td>-0.922749</td>\n",
       "      <td>-0.457026</td>\n",
       "      <td>-0.932517</td>\n",
       "      <td>-0.418040</td>\n",
       "      <td>0.901639</td>\n",
       "      <td>-0.597999</td>\n",
       "      <td>1.409842</td>\n",
       "      <td>-0.892493</td>\n",
       "      <td>-0.661693</td>\n",
       "      <td>-0.707107</td>\n",
       "      <td>-0.464729</td>\n",
       "    </tr>\n",
       "    <tr>\n",
       "      <th>287</th>\n",
       "      <td>0.240733</td>\n",
       "      <td>0.696177</td>\n",
       "      <td>0.031547</td>\n",
       "      <td>1.299463</td>\n",
       "      <td>-0.276611</td>\n",
       "      <td>-0.418040</td>\n",
       "      <td>-0.979367</td>\n",
       "      <td>0.613011</td>\n",
       "      <td>-0.709299</td>\n",
       "      <td>-0.892493</td>\n",
       "      <td>0.955779</td>\n",
       "      <td>0.265165</td>\n",
       "      <td>-0.464729</td>\n",
       "    </tr>\n",
       "    <tr>\n",
       "      <th>...</th>\n",
       "      <td>...</td>\n",
       "      <td>...</td>\n",
       "      <td>...</td>\n",
       "      <td>...</td>\n",
       "      <td>...</td>\n",
       "      <td>...</td>\n",
       "      <td>...</td>\n",
       "      <td>...</td>\n",
       "      <td>...</td>\n",
       "      <td>...</td>\n",
       "      <td>...</td>\n",
       "      <td>...</td>\n",
       "      <td>...</td>\n",
       "    </tr>\n",
       "    <tr>\n",
       "      <th>251</th>\n",
       "      <td>-1.327733</td>\n",
       "      <td>0.696177</td>\n",
       "      <td>-0.922749</td>\n",
       "      <td>0.011371</td>\n",
       "      <td>0.004491</td>\n",
       "      <td>2.392117</td>\n",
       "      <td>-0.979367</td>\n",
       "      <td>-0.295246</td>\n",
       "      <td>1.409842</td>\n",
       "      <td>-0.808551</td>\n",
       "      <td>-0.661693</td>\n",
       "      <td>3.181981</td>\n",
       "      <td>1.141906</td>\n",
       "    </tr>\n",
       "    <tr>\n",
       "      <th>192</th>\n",
       "      <td>-0.095367</td>\n",
       "      <td>0.696177</td>\n",
       "      <td>-0.922749</td>\n",
       "      <td>-0.691224</td>\n",
       "      <td>-1.101178</td>\n",
       "      <td>-0.418040</td>\n",
       "      <td>0.901639</td>\n",
       "      <td>-1.592757</td>\n",
       "      <td>-0.709299</td>\n",
       "      <td>0.282698</td>\n",
       "      <td>-0.661693</td>\n",
       "      <td>0.265165</td>\n",
       "      <td>1.141906</td>\n",
       "    </tr>\n",
       "    <tr>\n",
       "      <th>117</th>\n",
       "      <td>0.128699</td>\n",
       "      <td>0.696177</td>\n",
       "      <td>1.940138</td>\n",
       "      <td>-0.691224</td>\n",
       "      <td>-1.007478</td>\n",
       "      <td>-0.418040</td>\n",
       "      <td>-0.979367</td>\n",
       "      <td>0.526511</td>\n",
       "      <td>-0.709299</td>\n",
       "      <td>0.702409</td>\n",
       "      <td>-0.661693</td>\n",
       "      <td>-0.707107</td>\n",
       "      <td>1.141906</td>\n",
       "    </tr>\n",
       "    <tr>\n",
       "      <th>47</th>\n",
       "      <td>-0.879600</td>\n",
       "      <td>0.696177</td>\n",
       "      <td>0.985842</td>\n",
       "      <td>0.362669</td>\n",
       "      <td>0.191893</td>\n",
       "      <td>-0.418040</td>\n",
       "      <td>-0.979367</td>\n",
       "      <td>0.267008</td>\n",
       "      <td>-0.709299</td>\n",
       "      <td>-0.892493</td>\n",
       "      <td>0.955779</td>\n",
       "      <td>-0.707107</td>\n",
       "      <td>-0.464729</td>\n",
       "    </tr>\n",
       "    <tr>\n",
       "      <th>172</th>\n",
       "      <td>0.352766</td>\n",
       "      <td>0.696177</td>\n",
       "      <td>0.031547</td>\n",
       "      <td>-0.691224</td>\n",
       "      <td>0.697878</td>\n",
       "      <td>-0.418040</td>\n",
       "      <td>-0.979367</td>\n",
       "      <td>0.440010</td>\n",
       "      <td>-0.709299</td>\n",
       "      <td>0.618467</td>\n",
       "      <td>-0.661693</td>\n",
       "      <td>-0.707107</td>\n",
       "      <td>-0.464729</td>\n",
       "    </tr>\n",
       "  </tbody>\n",
       "</table>\n",
       "<p>242 rows × 13 columns</p>\n",
       "</div>"
      ],
      "text/plain": [
       "          age       sex        cp    trtbps      chol       fbs   restecg  \\\n",
       "74  -1.327733 -1.436416  0.985842 -0.574125 -0.632674 -0.418040  0.901639   \n",
       "153  1.249032 -1.436416  0.985842  0.831066  0.585437 -0.418040 -0.979367   \n",
       "64   0.352766  0.696177  0.985842  0.479768 -0.670155  2.392117 -0.979367   \n",
       "296  0.912932 -1.436416 -0.922749 -0.457026 -0.932517 -0.418040  0.901639   \n",
       "287  0.240733  0.696177  0.031547  1.299463 -0.276611 -0.418040 -0.979367   \n",
       "..        ...       ...       ...       ...       ...       ...       ...   \n",
       "251 -1.327733  0.696177 -0.922749  0.011371  0.004491  2.392117 -0.979367   \n",
       "192 -0.095367  0.696177 -0.922749 -0.691224 -1.101178 -0.418040  0.901639   \n",
       "117  0.128699  0.696177  1.940138 -0.691224 -1.007478 -0.418040 -0.979367   \n",
       "47  -0.879600  0.696177  0.985842  0.362669  0.191893 -0.418040 -0.979367   \n",
       "172  0.352766  0.696177  0.031547 -0.691224  0.697878 -0.418040 -0.979367   \n",
       "\n",
       "     thalachh      exng   oldpeak       slp       caa     thall  \n",
       "74   0.656262 -0.709299 -0.724609 -0.661693 -0.707107 -0.464729  \n",
       "153  0.094007 -0.709299 -0.892493 -0.661693  0.265165 -0.464729  \n",
       "64   0.656262 -0.709299 -0.892493  0.955779 -0.707107 -0.464729  \n",
       "296 -0.597999  1.409842 -0.892493 -0.661693 -0.707107 -0.464729  \n",
       "287  0.613011 -0.709299 -0.892493  0.955779  0.265165 -0.464729  \n",
       "..        ...       ...       ...       ...       ...       ...  \n",
       "251 -0.295246  1.409842 -0.808551 -0.661693  3.181981  1.141906  \n",
       "192 -1.592757 -0.709299  0.282698 -0.661693  0.265165  1.141906  \n",
       "117  0.526511 -0.709299  0.702409 -0.661693 -0.707107  1.141906  \n",
       "47   0.267008 -0.709299 -0.892493  0.955779 -0.707107 -0.464729  \n",
       "172  0.440010 -0.709299  0.618467 -0.661693 -0.707107 -0.464729  \n",
       "\n",
       "[242 rows x 13 columns]"
      ]
     },
     "execution_count": 4,
     "metadata": {},
     "output_type": "execute_result"
    }
   ],
   "source": [
    "X_train, X_test, y_train, y_test = preprocess_inputs(data)\n",
    "X_train"
   ]
  },
  {
   "cell_type": "markdown",
   "id": "6be486f4",
   "metadata": {
    "papermill": {
     "duration": 0.005389,
     "end_time": "2022-10-10T18:27:30.325532",
     "exception": false,
     "start_time": "2022-10-10T18:27:30.320143",
     "status": "completed"
    },
    "tags": []
   },
   "source": [
    "# Training"
   ]
  },
  {
   "cell_type": "code",
   "execution_count": 5,
   "id": "34173aa7",
   "metadata": {
    "execution": {
     "iopub.execute_input": "2022-10-10T18:27:30.339506Z",
     "iopub.status.busy": "2022-10-10T18:27:30.338254Z",
     "iopub.status.idle": "2022-10-10T18:27:30.694129Z",
     "shell.execute_reply": "2022-10-10T18:27:30.692827Z"
    },
    "papermill": {
     "duration": 0.366161,
     "end_time": "2022-10-10T18:27:30.697314",
     "exception": false,
     "start_time": "2022-10-10T18:27:30.331153",
     "status": "completed"
    },
    "tags": []
   },
   "outputs": [
    {
     "name": "stdout",
     "output_type": "stream",
     "text": [
      "-------- Training --------\n",
      "Logistic trained!\n",
      "   KNN   trained!\n",
      "   RF    trained!\n",
      "   MLP   trained!\n",
      "   SVC   trained!\n",
      "---------- Done ----------\n"
     ]
    }
   ],
   "source": [
    "models = {\n",
    "    \"Logistic\": LogisticRegression(),\n",
    "    \"   KNN  \": KNeighborsClassifier(),\n",
    "    \"   RF   \": RandomForestClassifier(),\n",
    "    \"   MLP  \": RandomForestClassifier(),\n",
    "    \"   SVC  \": SVC(probability=True),\n",
    "}\n",
    "\n",
    "print(\"-------- Training --------\")\n",
    "for name, model in models.items():\n",
    "    model.fit(X_train, y_train)\n",
    "    print(name + \" trained!\")\n",
    "print(\"---------- Done ----------\")"
   ]
  },
  {
   "cell_type": "markdown",
   "id": "4b1f4dc1",
   "metadata": {
    "papermill": {
     "duration": 0.005655,
     "end_time": "2022-10-10T18:27:30.708922",
     "exception": false,
     "start_time": "2022-10-10T18:27:30.703267",
     "status": "completed"
    },
    "tags": []
   },
   "source": [
    "# Results"
   ]
  },
  {
   "cell_type": "code",
   "execution_count": 6,
   "id": "9ad9d338",
   "metadata": {
    "execution": {
     "iopub.execute_input": "2022-10-10T18:27:30.723033Z",
     "iopub.status.busy": "2022-10-10T18:27:30.721933Z",
     "iopub.status.idle": "2022-10-10T18:27:30.790083Z",
     "shell.execute_reply": "2022-10-10T18:27:30.788726Z"
    },
    "papermill": {
     "duration": 0.078704,
     "end_time": "2022-10-10T18:27:30.793487",
     "exception": false,
     "start_time": "2022-10-10T18:27:30.714783",
     "status": "completed"
    },
    "tags": []
   },
   "outputs": [
    {
     "name": "stdout",
     "output_type": "stream",
     "text": [
      "Logistic    Accuracy: 85.25 %\n",
      "            F1 Score: 87.32 %\n",
      "              Recall: 91.18 %\n",
      "           Precision: 83.78 %\n",
      "-----------------------------\n",
      "   KNN      Accuracy: 81.97 %\n",
      "            F1 Score: 84.06 %\n",
      "              Recall: 85.29 %\n",
      "           Precision: 82.86 %\n",
      "-----------------------------\n",
      "   RF       Accuracy: 88.52 %\n",
      "            F1 Score: 89.86 %\n",
      "              Recall: 91.18 %\n",
      "           Precision: 88.57 %\n",
      "-----------------------------\n",
      "   MLP      Accuracy: 85.25 %\n",
      "            F1 Score: 86.57 %\n",
      "              Recall: 85.29 %\n",
      "           Precision: 87.88 %\n",
      "-----------------------------\n",
      "   SVC      Accuracy: 86.89 %\n",
      "            F1 Score: 88.89 %\n",
      "              Recall: 94.12 %\n",
      "           Precision: 84.21 %\n",
      "-----------------------------\n"
     ]
    }
   ],
   "source": [
    "results = []\n",
    "for name, model in models.items():\n",
    "    y_pred = model.predict(X_test)\n",
    "    print(name + \"    Accuracy: {:.2f} %\".format(accuracy_score(y_test, y_pred) * 100))\n",
    "    print(\"            F1 Score: {:.2f} %\".format(f1_score(y_test, y_pred) * 100))\n",
    "    print(\"              Recall: {:.2f} %\".format(recall_score(y_test, y_pred) * 100))\n",
    "    print(\"           Precision: {:.2f} %\".format(precision_score(y_test, y_pred) * 100))\n",
    "    print(\"-----------------------------\")\n",
    "    results.append(confusion_matrix(y_test, y_pred))"
   ]
  },
  {
   "cell_type": "code",
   "execution_count": 7,
   "id": "68a1114b",
   "metadata": {
    "execution": {
     "iopub.execute_input": "2022-10-10T18:27:30.809326Z",
     "iopub.status.busy": "2022-10-10T18:27:30.808863Z",
     "iopub.status.idle": "2022-10-10T18:27:31.419582Z",
     "shell.execute_reply": "2022-10-10T18:27:31.418142Z"
    },
    "papermill": {
     "duration": 0.622607,
     "end_time": "2022-10-10T18:27:31.422670",
     "exception": false,
     "start_time": "2022-10-10T18:27:30.800063",
     "status": "completed"
    },
    "tags": []
   },
   "outputs": [
    {
     "data": {
      "image/png": "[encoded data removed]",
      "text/plain": [
       "<Figure size 1440x216 with 5 Axes>"
      ]
     },
     "metadata": {
      "needs_background": "light"
     },
     "output_type": "display_data"
    }
   ],
   "source": [
    "# Confusion matrices\n",
    "plt.figure(figsize=(20, 3))\n",
    "\n",
    "for i, name in enumerate(list(models.keys())):\n",
    "    plt.subplot(1, 5, i + 1)\n",
    "    sns.heatmap(results[i], annot=True, square=True, cbar=False,\n",
    "                xticklabels=['No Risk', 'Risk'], yticklabels=['No Risk', 'Risk'], cmap='Blues')\n",
    "    plt.title(name)\n",
    "    plt.xlabel('Predicted')\n",
    "    plt.ylabel('Actual')\n",
    "plt.show()"
   ]
  },
  {
   "cell_type": "markdown",
   "id": "1628b531",
   "metadata": {
    "papermill": {
     "duration": 0.005793,
     "end_time": "2022-10-10T18:27:31.434737",
     "exception": false,
     "start_time": "2022-10-10T18:27:31.428944",
     "status": "completed"
    },
    "tags": []
   },
   "source": [
    "In this case, it is better to maximize the recall because we do not want to leave people at risk of heart attack unattended.\n",
    "\n",
    "We try to minimize the false negative number.\n",
    "\n",
    "The cost of acting is not the most important. Prevention is better than cure.\n",
    "\n",
    "The best model is the Support Vector Classification."
   ]
  },
  {
   "cell_type": "markdown",
   "id": "95679fae",
   "metadata": {
    "papermill": {
     "duration": 0.005859,
     "end_time": "2022-10-10T18:27:31.447202",
     "exception": false,
     "start_time": "2022-10-10T18:27:31.441343",
     "status": "completed"
    },
    "tags": []
   },
   "source": [
    "# Impact of Voting Classifier"
   ]
  },
  {
   "cell_type": "markdown",
   "id": "5ef5e87b",
   "metadata": {
    "papermill": {
     "duration": 0.005821,
     "end_time": "2022-10-10T18:27:31.459536",
     "exception": false,
     "start_time": "2022-10-10T18:27:31.453715",
     "status": "completed"
    },
    "tags": []
   },
   "source": [
    "After it was suggested to me in the comments to use a voting classifier, I will continue this notebook in order to compare the results with and without.\n",
    "\n",
    "All 5 tested models have an accuracy larger than 80% which can be improved. The Random Forest model already uses Bagging which is an ensemble method, but we can also do ensemble method with the other models.\n",
    "\n",
    "There are two types of votes:\n",
    "- Hard voting: The prediction is based on the most frequent predicted class with equal weigth. \n",
    "- Soft voting: The prediction is based on the probabilities of each model."
   ]
  },
  {
   "cell_type": "code",
   "execution_count": 8,
   "id": "230f882f",
   "metadata": {
    "execution": {
     "iopub.execute_input": "2022-10-10T18:27:31.474113Z",
     "iopub.status.busy": "2022-10-10T18:27:31.473681Z",
     "iopub.status.idle": "2022-10-10T18:27:32.223711Z",
     "shell.execute_reply": "2022-10-10T18:27:32.221935Z"
    },
    "papermill": {
     "duration": 0.761796,
     "end_time": "2022-10-10T18:27:32.227555",
     "exception": false,
     "start_time": "2022-10-10T18:27:31.465759",
     "status": "completed"
    },
    "tags": []
   },
   "outputs": [
    {
     "name": "stdout",
     "output_type": "stream",
     "text": [
      "----------- Training -----------\n",
      "Hard Voting trained!\n",
      "Soft Voting trained!\n",
      "------------ Done --------------\n",
      "Hard Voting   Accuracy: 86.89 %\n",
      "              F1 Score: 88.89 %\n",
      "                Recall: 94.12 %\n",
      "             Precision: 84.21 %\n",
      "--------------------------------\n",
      "Soft Voting   Accuracy: 86.89 %\n",
      "              F1 Score: 88.89 %\n",
      "                Recall: 94.12 %\n",
      "             Precision: 84.21 %\n",
      "--------------------------------\n"
     ]
    }
   ],
   "source": [
    "# Create models\n",
    "voting_models = {\n",
    "    \"Hard Voting\": VotingClassifier(estimators=list(tuple(models.items())), voting='hard'),\n",
    "    \"Soft Voting\": VotingClassifier(estimators=list(tuple(models.items())), voting='soft', )\n",
    "}\n",
    "\n",
    "# Train models\n",
    "print(\"----------- Training -----------\")\n",
    "for name, model in voting_models.items():\n",
    "    model.fit(X_train, y_train)\n",
    "    print(name + \" trained!\")\n",
    "print(\"------------ Done --------------\")\n",
    "\n",
    "# Results\n",
    "voting_results = []\n",
    "for name, model in voting_models.items():\n",
    "    y_pred = model.predict(X_test)\n",
    "    print(name + \"   Accuracy: {:.2f} %\".format(accuracy_score(y_test, y_pred) * 100))\n",
    "    print(\"              F1 Score: {:.2f} %\".format(f1_score(y_test, y_pred) * 100))\n",
    "    print(\"                Recall: {:.2f} %\".format(recall_score(y_test, y_pred) * 100))\n",
    "    print(\"             Precision: {:.2f} %\".format(precision_score(y_test, y_pred) * 100))\n",
    "    print(\"--------------------------------\")\n",
    "    voting_results.append(confusion_matrix(y_test, y_pred))"
   ]
  },
  {
   "cell_type": "markdown",
   "id": "82545bcc",
   "metadata": {
    "papermill": {
     "duration": 0.006137,
     "end_time": "2022-10-10T18:27:32.240491",
     "exception": false,
     "start_time": "2022-10-10T18:27:32.234354",
     "status": "completed"
    },
    "tags": []
   },
   "source": [
    "In our case, soft and hard votings did the same score. It reached the SVC score but we did not improve it. Voting Classification does not always improve the results when the score is already high, but it is always a good idea to try it."
   ]
  },
  {
   "cell_type": "markdown",
   "id": "47da45a9",
   "metadata": {
    "papermill": {
     "duration": 0.006172,
     "end_time": "2022-10-10T18:27:32.253232",
     "exception": false,
     "start_time": "2022-10-10T18:27:32.247060",
     "status": "completed"
    },
    "tags": []
   },
   "source": [
    "Thank you for reading my work. Please tell me if you have suggestions about it.\n",
    "\n",
    "**Have a nice day!**"
   ]
  }
 ],
 "metadata": {
  "kernelspec": {
   "display_name": "Python 3",
   "language": "python",
   "name": "python3"
  },
  "language_info": {
   "codemirror_mode": {
    "name": "ipython",
    "version": 3
   },
   "file_extension": ".py",
   "mimetype": "text/x-python",
   "name": "python",
   "nbconvert_exporter": "python",
   "pygments_lexer": "ipython3",
   "version": "3.7.12"
  },
  "papermill": {
   "default_parameters": {},
   "duration": 13.941464,
   "end_time": "2022-10-10T18:27:33.185348",
   "environment_variables": {},
   "exception": null,
   "input_path": "__notebook__.ipynb",
   "output_path": "__notebook__.ipynb",
   "parameters": {},
   "start_time": "2022-10-10T18:27:19.243884",
   "version": "2.3.4"
  }
 },
 "nbformat": 4,
 "nbformat_minor": 5
}
