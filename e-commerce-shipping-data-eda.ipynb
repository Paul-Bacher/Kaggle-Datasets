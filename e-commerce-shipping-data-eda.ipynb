{
 "cells": [
  {
   "cell_type": "markdown",
   "id": "6da660d4",
   "metadata": {
    "papermill": {
     "duration": 0.006238,
     "end_time": "2022-10-13T19:11:02.115547",
     "exception": false,
     "start_time": "2022-10-13T19:11:02.109309",
     "status": "completed"
    },
    "tags": []
   },
   "source": [
    "# 🛒 E-Commerce Shipping Data: EDA"
   ]
  },
  {
   "cell_type": "markdown",
   "id": "339d190b",
   "metadata": {
    "papermill": {
     "duration": 0.0046,
     "end_time": "2022-10-13T19:11:02.125263",
     "exception": false,
     "start_time": "2022-10-13T19:11:02.120663",
     "status": "completed"
    },
    "tags": []
   },
   "source": [
    "This dataset is provided by an *international e-commerce company selling electronic produts*.\n",
    "\n",
    "They want to discover key insights from their customer database.\n",
    "\n",
    "My notebook will focus on **exploratory data analysis (EDA)** in order to prepare for the use of **machine learning models** in a second part."
   ]
  },
  {
   "cell_type": "markdown",
   "id": "9d0e295e",
   "metadata": {
    "papermill": {
     "duration": 0.004597,
     "end_time": "2022-10-13T19:11:02.134728",
     "exception": false,
     "start_time": "2022-10-13T19:11:02.130131",
     "status": "completed"
    },
    "tags": []
   },
   "source": [
    "# Getting Started"
   ]
  },
  {
   "cell_type": "code",
   "execution_count": 1,
   "id": "c3a491dd",
   "metadata": {
    "execution": {
     "iopub.execute_input": "2022-10-13T19:11:02.146306Z",
     "iopub.status.busy": "2022-10-13T19:11:02.145816Z",
     "iopub.status.idle": "2022-10-13T19:11:03.186842Z",
     "shell.execute_reply": "2022-10-13T19:11:03.185799Z"
    },
    "papermill": {
     "duration": 1.050411,
     "end_time": "2022-10-13T19:11:03.189957",
     "exception": false,
     "start_time": "2022-10-13T19:11:02.139546",
     "status": "completed"
    },
    "tags": []
   },
   "outputs": [],
   "source": [
    "# Imports\n",
    "import numpy as np\n",
    "import pandas as pd\n",
    "import matplotlib.pyplot as plt\n",
    "import seaborn as sns\n",
    "sns.set_style('darkgrid')\n",
    "pal = sns.color_palette()"
   ]
  },
  {
   "cell_type": "code",
   "execution_count": 2,
   "id": "cc816233",
   "metadata": {
    "execution": {
     "iopub.execute_input": "2022-10-13T19:11:03.201433Z",
     "iopub.status.busy": "2022-10-13T19:11:03.201006Z",
     "iopub.status.idle": "2022-10-13T19:11:03.267292Z",
     "shell.execute_reply": "2022-10-13T19:11:03.266067Z"
    },
    "papermill": {
     "duration": 0.075805,
     "end_time": "2022-10-13T19:11:03.270738",
     "exception": false,
     "start_time": "2022-10-13T19:11:03.194933",
     "status": "completed"
    },
    "tags": []
   },
   "outputs": [
    {
     "data": {
      "text/html": [
       "<div>\n",
       "<style scoped>\n",
       "    .dataframe tbody tr th:only-of-type {\n",
       "        vertical-align: middle;\n",
       "    }\n",
       "\n",
       "    .dataframe tbody tr th {\n",
       "        vertical-align: top;\n",
       "    }\n",
       "\n",
       "    .dataframe thead th {\n",
       "        text-align: right;\n",
       "    }\n",
       "</style>\n",
       "<table border=\"1\" class=\"dataframe\">\n",
       "  <thead>\n",
       "    <tr style=\"text-align: right;\">\n",
       "      <th></th>\n",
       "      <th>ID</th>\n",
       "      <th>Warehouse_block</th>\n",
       "      <th>Mode_of_Shipment</th>\n",
       "      <th>Customer_care_calls</th>\n",
       "      <th>Customer_rating</th>\n",
       "      <th>Cost_of_the_Product</th>\n",
       "      <th>Prior_purchases</th>\n",
       "      <th>Product_importance</th>\n",
       "      <th>Gender</th>\n",
       "      <th>Discount_offered</th>\n",
       "      <th>Weight_in_gms</th>\n",
       "      <th>Reached.on.Time_Y.N</th>\n",
       "    </tr>\n",
       "  </thead>\n",
       "  <tbody>\n",
       "    <tr>\n",
       "      <th>0</th>\n",
       "      <td>1</td>\n",
       "      <td>D</td>\n",
       "      <td>Flight</td>\n",
       "      <td>4</td>\n",
       "      <td>2</td>\n",
       "      <td>177</td>\n",
       "      <td>3</td>\n",
       "      <td>low</td>\n",
       "      <td>F</td>\n",
       "      <td>44</td>\n",
       "      <td>1233</td>\n",
       "      <td>1</td>\n",
       "    </tr>\n",
       "    <tr>\n",
       "      <th>1</th>\n",
       "      <td>2</td>\n",
       "      <td>F</td>\n",
       "      <td>Flight</td>\n",
       "      <td>4</td>\n",
       "      <td>5</td>\n",
       "      <td>216</td>\n",
       "      <td>2</td>\n",
       "      <td>low</td>\n",
       "      <td>M</td>\n",
       "      <td>59</td>\n",
       "      <td>3088</td>\n",
       "      <td>1</td>\n",
       "    </tr>\n",
       "    <tr>\n",
       "      <th>2</th>\n",
       "      <td>3</td>\n",
       "      <td>A</td>\n",
       "      <td>Flight</td>\n",
       "      <td>2</td>\n",
       "      <td>2</td>\n",
       "      <td>183</td>\n",
       "      <td>4</td>\n",
       "      <td>low</td>\n",
       "      <td>M</td>\n",
       "      <td>48</td>\n",
       "      <td>3374</td>\n",
       "      <td>1</td>\n",
       "    </tr>\n",
       "    <tr>\n",
       "      <th>3</th>\n",
       "      <td>4</td>\n",
       "      <td>B</td>\n",
       "      <td>Flight</td>\n",
       "      <td>3</td>\n",
       "      <td>3</td>\n",
       "      <td>176</td>\n",
       "      <td>4</td>\n",
       "      <td>medium</td>\n",
       "      <td>M</td>\n",
       "      <td>10</td>\n",
       "      <td>1177</td>\n",
       "      <td>1</td>\n",
       "    </tr>\n",
       "    <tr>\n",
       "      <th>4</th>\n",
       "      <td>5</td>\n",
       "      <td>C</td>\n",
       "      <td>Flight</td>\n",
       "      <td>2</td>\n",
       "      <td>2</td>\n",
       "      <td>184</td>\n",
       "      <td>3</td>\n",
       "      <td>medium</td>\n",
       "      <td>F</td>\n",
       "      <td>46</td>\n",
       "      <td>2484</td>\n",
       "      <td>1</td>\n",
       "    </tr>\n",
       "    <tr>\n",
       "      <th>...</th>\n",
       "      <td>...</td>\n",
       "      <td>...</td>\n",
       "      <td>...</td>\n",
       "      <td>...</td>\n",
       "      <td>...</td>\n",
       "      <td>...</td>\n",
       "      <td>...</td>\n",
       "      <td>...</td>\n",
       "      <td>...</td>\n",
       "      <td>...</td>\n",
       "      <td>...</td>\n",
       "      <td>...</td>\n",
       "    </tr>\n",
       "    <tr>\n",
       "      <th>10994</th>\n",
       "      <td>10995</td>\n",
       "      <td>A</td>\n",
       "      <td>Ship</td>\n",
       "      <td>4</td>\n",
       "      <td>1</td>\n",
       "      <td>252</td>\n",
       "      <td>5</td>\n",
       "      <td>medium</td>\n",
       "      <td>F</td>\n",
       "      <td>1</td>\n",
       "      <td>1538</td>\n",
       "      <td>1</td>\n",
       "    </tr>\n",
       "    <tr>\n",
       "      <th>10995</th>\n",
       "      <td>10996</td>\n",
       "      <td>B</td>\n",
       "      <td>Ship</td>\n",
       "      <td>4</td>\n",
       "      <td>1</td>\n",
       "      <td>232</td>\n",
       "      <td>5</td>\n",
       "      <td>medium</td>\n",
       "      <td>F</td>\n",
       "      <td>6</td>\n",
       "      <td>1247</td>\n",
       "      <td>0</td>\n",
       "    </tr>\n",
       "    <tr>\n",
       "      <th>10996</th>\n",
       "      <td>10997</td>\n",
       "      <td>C</td>\n",
       "      <td>Ship</td>\n",
       "      <td>5</td>\n",
       "      <td>4</td>\n",
       "      <td>242</td>\n",
       "      <td>5</td>\n",
       "      <td>low</td>\n",
       "      <td>F</td>\n",
       "      <td>4</td>\n",
       "      <td>1155</td>\n",
       "      <td>0</td>\n",
       "    </tr>\n",
       "    <tr>\n",
       "      <th>10997</th>\n",
       "      <td>10998</td>\n",
       "      <td>F</td>\n",
       "      <td>Ship</td>\n",
       "      <td>5</td>\n",
       "      <td>2</td>\n",
       "      <td>223</td>\n",
       "      <td>6</td>\n",
       "      <td>medium</td>\n",
       "      <td>M</td>\n",
       "      <td>2</td>\n",
       "      <td>1210</td>\n",
       "      <td>0</td>\n",
       "    </tr>\n",
       "    <tr>\n",
       "      <th>10998</th>\n",
       "      <td>10999</td>\n",
       "      <td>D</td>\n",
       "      <td>Ship</td>\n",
       "      <td>2</td>\n",
       "      <td>5</td>\n",
       "      <td>155</td>\n",
       "      <td>5</td>\n",
       "      <td>low</td>\n",
       "      <td>F</td>\n",
       "      <td>6</td>\n",
       "      <td>1639</td>\n",
       "      <td>0</td>\n",
       "    </tr>\n",
       "  </tbody>\n",
       "</table>\n",
       "<p>10999 rows × 12 columns</p>\n",
       "</div>"
      ],
      "text/plain": [
       "          ID Warehouse_block Mode_of_Shipment  Customer_care_calls  \\\n",
       "0          1               D           Flight                    4   \n",
       "1          2               F           Flight                    4   \n",
       "2          3               A           Flight                    2   \n",
       "3          4               B           Flight                    3   \n",
       "4          5               C           Flight                    2   \n",
       "...      ...             ...              ...                  ...   \n",
       "10994  10995               A             Ship                    4   \n",
       "10995  10996               B             Ship                    4   \n",
       "10996  10997               C             Ship                    5   \n",
       "10997  10998               F             Ship                    5   \n",
       "10998  10999               D             Ship                    2   \n",
       "\n",
       "       Customer_rating  Cost_of_the_Product  Prior_purchases  \\\n",
       "0                    2                  177                3   \n",
       "1                    5                  216                2   \n",
       "2                    2                  183                4   \n",
       "3                    3                  176                4   \n",
       "4                    2                  184                3   \n",
       "...                ...                  ...              ...   \n",
       "10994                1                  252                5   \n",
       "10995                1                  232                5   \n",
       "10996                4                  242                5   \n",
       "10997                2                  223                6   \n",
       "10998                5                  155                5   \n",
       "\n",
       "      Product_importance Gender  Discount_offered  Weight_in_gms  \\\n",
       "0                    low      F                44           1233   \n",
       "1                    low      M                59           3088   \n",
       "2                    low      M                48           3374   \n",
       "3                 medium      M                10           1177   \n",
       "4                 medium      F                46           2484   \n",
       "...                  ...    ...               ...            ...   \n",
       "10994             medium      F                 1           1538   \n",
       "10995             medium      F                 6           1247   \n",
       "10996                low      F                 4           1155   \n",
       "10997             medium      M                 2           1210   \n",
       "10998                low      F                 6           1639   \n",
       "\n",
       "       Reached.on.Time_Y.N  \n",
       "0                        1  \n",
       "1                        1  \n",
       "2                        1  \n",
       "3                        1  \n",
       "4                        1  \n",
       "...                    ...  \n",
       "10994                    1  \n",
       "10995                    0  \n",
       "10996                    0  \n",
       "10997                    0  \n",
       "10998                    0  \n",
       "\n",
       "[10999 rows x 12 columns]"
      ]
     },
     "execution_count": 2,
     "metadata": {},
     "output_type": "execute_result"
    }
   ],
   "source": [
    "# Load the data\n",
    "data = pd.read_csv('../input/customer-analytics/Train.csv')\n",
    "data"
   ]
  },
  {
   "cell_type": "markdown",
   "id": "82fb989f",
   "metadata": {
    "papermill": {
     "duration": 0.005284,
     "end_time": "2022-10-13T19:11:03.281588",
     "exception": false,
     "start_time": "2022-10-13T19:11:03.276304",
     "status": "completed"
    },
    "tags": []
   },
   "source": [
    "# First Sightings"
   ]
  },
  {
   "cell_type": "markdown",
   "id": "95b63d3b",
   "metadata": {
    "papermill": {
     "duration": 0.005031,
     "end_time": "2022-10-13T19:11:03.291966",
     "exception": false,
     "start_time": "2022-10-13T19:11:03.286935",
     "status": "completed"
    },
    "tags": []
   },
   "source": [
    "**Relevance of features for EDA: (0: none, 1: weak, 2: medium, 3: strong)**\n",
    "\n",
    "These are my first guesses:\n",
    "\n",
    "- **Unique ID:** will not be usefull - 0\n",
    "- **Warehouse:** indicates from which bloc the product comes from - 2\n",
    "- **Mode of Shipment:** Transportation vehicle - 3\n",
    "- **Care Calls:** Number of enquiries - 1\n",
    "- **Customer Rating:** Given rate - 3\n",
    "- **Cost of Product:** Price - 3\n",
    "- **Prior Purchases:** Customer regularity - 2\n",
    "- **Product Importance:** Importance - 2\n",
    "- **Gender:** Male or Female - 1\n",
    "- **Discount:** In percentage - 2\n",
    "- **Weight:** Package in grams - 2\n",
    "- **Reached on Time:** 0: no delay, 1: delay - 3\n"
   ]
  },
  {
   "cell_type": "code",
   "execution_count": 3,
   "id": "4e11ea81",
   "metadata": {
    "execution": {
     "iopub.execute_input": "2022-10-13T19:11:03.304470Z",
     "iopub.status.busy": "2022-10-13T19:11:03.304027Z",
     "iopub.status.idle": "2022-10-13T19:11:03.314134Z",
     "shell.execute_reply": "2022-10-13T19:11:03.312909Z"
    },
    "papermill": {
     "duration": 0.019379,
     "end_time": "2022-10-13T19:11:03.316623",
     "exception": false,
     "start_time": "2022-10-13T19:11:03.297244",
     "status": "completed"
    },
    "tags": []
   },
   "outputs": [],
   "source": [
    "# Drop ID\n",
    "data = data.drop('ID', axis=1)"
   ]
  },
  {
   "cell_type": "code",
   "execution_count": 4,
   "id": "f0108fc5",
   "metadata": {
    "execution": {
     "iopub.execute_input": "2022-10-13T19:11:03.329238Z",
     "iopub.status.busy": "2022-10-13T19:11:03.328852Z",
     "iopub.status.idle": "2022-10-13T19:11:03.346662Z",
     "shell.execute_reply": "2022-10-13T19:11:03.344976Z"
    },
    "papermill": {
     "duration": 0.027933,
     "end_time": "2022-10-13T19:11:03.350002",
     "exception": false,
     "start_time": "2022-10-13T19:11:03.322069",
     "status": "completed"
    },
    "tags": []
   },
   "outputs": [
    {
     "name": "stdout",
     "output_type": "stream",
     "text": [
      "Missing values: 0\n",
      "Categorical features: 4\n",
      "Numerical features: 7\n"
     ]
    }
   ],
   "source": [
    "# Print some information about the data\n",
    "print(\"Missing values:\", data.isna().sum().sum())\n",
    "print(\"Categorical features:\", len(data.select_dtypes('object').columns))\n",
    "print(\"Numerical features:\", len(data.select_dtypes('number').columns))"
   ]
  },
  {
   "cell_type": "markdown",
   "id": "0982dd56",
   "metadata": {
    "papermill": {
     "duration": 0.005254,
     "end_time": "2022-10-13T19:11:03.361181",
     "exception": false,
     "start_time": "2022-10-13T19:11:03.355927",
     "status": "completed"
    },
    "tags": []
   },
   "source": [
    "# Correlation of Numerical Features "
   ]
  },
  {
   "cell_type": "code",
   "execution_count": 5,
   "id": "54928a1e",
   "metadata": {
    "execution": {
     "iopub.execute_input": "2022-10-13T19:11:03.374844Z",
     "iopub.status.busy": "2022-10-13T19:11:03.373695Z",
     "iopub.status.idle": "2022-10-13T19:11:03.823533Z",
     "shell.execute_reply": "2022-10-13T19:11:03.822233Z"
    },
    "papermill": {
     "duration": 0.459042,
     "end_time": "2022-10-13T19:11:03.826052",
     "exception": false,
     "start_time": "2022-10-13T19:11:03.367010",
     "status": "completed"
    },
    "tags": []
   },
   "outputs": [
    {
     "data": {
      "image/png": "[encoded data removed]",
      "text/plain": [
       "<Figure size 288x288 with 1 Axes>"
      ]
     },
     "metadata": {},
     "output_type": "display_data"
    }
   ],
   "source": [
    "# Display the correlation heatmap\n",
    "plt.figure(figsize=(4, 4))\n",
    "sns.heatmap(data[data.select_dtypes('number').columns].corr(),\n",
    "            square=True, cmap='seismic', cbar=False, annot=True, fmt='.2f', vmin=-1, vmax=1)\n",
    "plt.show()"
   ]
  },
  {
   "cell_type": "markdown",
   "id": "0460c0a4",
   "metadata": {
    "papermill": {
     "duration": 0.006051,
     "end_time": "2022-10-13T19:11:03.838567",
     "exception": false,
     "start_time": "2022-10-13T19:11:03.832516",
     "status": "completed"
    },
    "tags": []
   },
   "source": [
    "The Cutomer Rating does not seem correlated at all with other features."
   ]
  },
  {
   "cell_type": "markdown",
   "id": "f78855a9",
   "metadata": {
    "papermill": {
     "duration": 0.005918,
     "end_time": "2022-10-13T19:11:03.850810",
     "exception": false,
     "start_time": "2022-10-13T19:11:03.844892",
     "status": "completed"
    },
    "tags": []
   },
   "source": [
    "# Feature Vizualisation"
   ]
  },
  {
   "cell_type": "markdown",
   "id": "9d88a9df",
   "metadata": {
    "papermill": {
     "duration": 0.005926,
     "end_time": "2022-10-13T19:11:03.862925",
     "exception": false,
     "start_time": "2022-10-13T19:11:03.856999",
     "status": "completed"
    },
    "tags": []
   },
   "source": [
    "Let's visualize the feature repartition."
   ]
  },
  {
   "cell_type": "markdown",
   "id": "e224d4e4",
   "metadata": {
    "papermill": {
     "duration": 0.006951,
     "end_time": "2022-10-13T19:11:03.876029",
     "exception": false,
     "start_time": "2022-10-13T19:11:03.869078",
     "status": "completed"
    },
    "tags": []
   },
   "source": [
    "## - Categorical"
   ]
  },
  {
   "cell_type": "code",
   "execution_count": 6,
   "id": "bbd9e85a",
   "metadata": {
    "execution": {
     "iopub.execute_input": "2022-10-13T19:11:03.890527Z",
     "iopub.status.busy": "2022-10-13T19:11:03.890075Z",
     "iopub.status.idle": "2022-10-13T19:11:04.567851Z",
     "shell.execute_reply": "2022-10-13T19:11:04.566950Z"
    },
    "papermill": {
     "duration": 0.687814,
     "end_time": "2022-10-13T19:11:04.570027",
     "exception": false,
     "start_time": "2022-10-13T19:11:03.882213",
     "status": "completed"
    },
    "tags": []
   },
   "outputs": [
    {
     "data": {
      "image/png": "[encoded data removed]",
      "text/plain": [
       "<Figure size 1008x864 with 4 Axes>"
      ]
     },
     "metadata": {},
     "output_type": "display_data"
    }
   ],
   "source": [
    "# Display class repartitions\n",
    "plt.figure(figsize=(14, 12))\n",
    "\n",
    "cat_features = data.select_dtypes('object').columns.values\n",
    "\n",
    "for i, cat in enumerate(cat_features):\n",
    "\n",
    "    plt.subplot(2, 2, i+1)\n",
    "    sns.histplot(data[cat], shrink=0.8, color=pal[i])\n",
    "    \n",
    "plt.show()"
   ]
  },
  {
   "cell_type": "markdown",
   "id": "18fbd6b0",
   "metadata": {
    "papermill": {
     "duration": 0.006665,
     "end_time": "2022-10-13T19:11:04.583741",
     "exception": false,
     "start_time": "2022-10-13T19:11:04.577076",
     "status": "completed"
    },
    "tags": []
   },
   "source": [
    "- **Warehouse:** Blocks *A, B, C, D* are equilibrated while block *F* is predominent (1/2 ratio).\n",
    "- **Shipment:** *Flight* and *Road* have similar observations while *Ship* is predominent (1/4 ratio).\n",
    "- **Importance:** There is a majority of *low* and *medium* importances and a minority of *high* importances.\n",
    "- **Genders:** Both classes are balanced."
   ]
  },
  {
   "cell_type": "markdown",
   "id": "1e745c40",
   "metadata": {
    "papermill": {
     "duration": 0.006421,
     "end_time": "2022-10-13T19:11:04.597043",
     "exception": false,
     "start_time": "2022-10-13T19:11:04.590622",
     "status": "completed"
    },
    "tags": []
   },
   "source": [
    "# - Numerical"
   ]
  },
  {
   "cell_type": "code",
   "execution_count": 7,
   "id": "a47a2588",
   "metadata": {
    "execution": {
     "iopub.execute_input": "2022-10-13T19:11:04.612029Z",
     "iopub.status.busy": "2022-10-13T19:11:04.611632Z",
     "iopub.status.idle": "2022-10-13T19:11:06.406903Z",
     "shell.execute_reply": "2022-10-13T19:11:06.405453Z"
    },
    "papermill": {
     "duration": 1.806073,
     "end_time": "2022-10-13T19:11:06.409835",
     "exception": false,
     "start_time": "2022-10-13T19:11:04.603762",
     "status": "completed"
    },
    "tags": []
   },
   "outputs": [
    {
     "data": {
      "image/png": "[encoded data removed]",
      "text/plain": [
       "<Figure size 1296x720 with 6 Axes>"
      ]
     },
     "metadata": {},
     "output_type": "display_data"
    }
   ],
   "source": [
    "# Display value distributions\n",
    "plt.figure(figsize=(18, 10))\n",
    "\n",
    "num_features = data.select_dtypes('number').drop('Reached.on.Time_Y.N', axis=1).columns.values\n",
    "\n",
    "for i, num in enumerate(num_features):\n",
    "\n",
    "    plt.subplot(2, 3, i+1)\n",
    "    sns.histplot(data[num], color=pal[i])\n",
    "    \n",
    "plt.show()"
   ]
  },
  {
   "cell_type": "markdown",
   "id": "d80c4ad4",
   "metadata": {
    "papermill": {
     "duration": 0.007773,
     "end_time": "2022-10-13T19:11:06.425786",
     "exception": false,
     "start_time": "2022-10-13T19:11:06.418013",
     "status": "completed"
    },
    "tags": []
   },
   "source": [
    "- **Care Calls:** Sligh positive skewed normal distribution with mode at 4.\n",
    "- **Customer Rating:** Uniform distribution.\n",
    "- **Costs:** 2 picks: smallest around 150, highest around 250.\n",
    "- **Prior Purchases:** Positive skewed normal distribution, mode at 3.\n",
    "- **Discount offered:** Separated into 2 uniform distributions: 0 to 10 is predominent and then small amount from 10 to 65.\n",
    "- **Weight:** 3 zones: high from 1000 to 2000 and from 4000 to 6000. Low from 2000 to 4000."
   ]
  },
  {
   "cell_type": "markdown",
   "id": "c453da9c",
   "metadata": {
    "papermill": {
     "duration": 0.007624,
     "end_time": "2022-10-13T19:11:06.441325",
     "exception": false,
     "start_time": "2022-10-13T19:11:06.433701",
     "status": "completed"
    },
    "tags": []
   },
   "source": [
    "# Target Analysis"
   ]
  },
  {
   "cell_type": "code",
   "execution_count": 8,
   "id": "1390b249",
   "metadata": {
    "execution": {
     "iopub.execute_input": "2022-10-13T19:11:06.459489Z",
     "iopub.status.busy": "2022-10-13T19:11:06.458797Z",
     "iopub.status.idle": "2022-10-13T19:11:06.468623Z",
     "shell.execute_reply": "2022-10-13T19:11:06.467463Z"
    },
    "papermill": {
     "duration": 0.021661,
     "end_time": "2022-10-13T19:11:06.470952",
     "exception": false,
     "start_time": "2022-10-13T19:11:06.449291",
     "status": "completed"
    },
    "tags": []
   },
   "outputs": [
    {
     "data": {
      "text/plain": [
       "1    0.596691\n",
       "0    0.403309\n",
       "Name: Reached.on.Time_Y.N, dtype: float64"
      ]
     },
     "execution_count": 8,
     "metadata": {},
     "output_type": "execute_result"
    }
   ],
   "source": [
    "# Ratio of delayed (1) and not delayed orders (0)\n",
    "data['Reached.on.Time_Y.N'].value_counts() / data['Reached.on.Time_Y.N'].count()"
   ]
  }
 ],
 "metadata": {
  "kernelspec": {
   "display_name": "Python 3",
   "language": "python",
   "name": "python3"
  },
  "language_info": {
   "codemirror_mode": {
    "name": "ipython",
    "version": 3
   },
   "file_extension": ".py",
   "mimetype": "text/x-python",
   "name": "python",
   "nbconvert_exporter": "python",
   "pygments_lexer": "ipython3",
   "version": "3.7.12"
  },
  "papermill": {
   "default_parameters": {},
   "duration": 15.152065,
   "end_time": "2022-10-13T19:11:07.301089",
   "environment_variables": {},
   "exception": null,
   "input_path": "__notebook__.ipynb",
   "output_path": "__notebook__.ipynb",
   "parameters": {},
   "start_time": "2022-10-13T19:10:52.149024",
   "version": "2.3.4"
  }
 },
 "nbformat": 4,
 "nbformat_minor": 5
}
